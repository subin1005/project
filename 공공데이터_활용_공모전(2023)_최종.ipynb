{
  "cells": [
    {
      "cell_type": "markdown",
      "metadata": {
        "id": "view-in-github",
        "colab_type": "text"
      },
      "source": [
        "<a href=\"https://colab.research.google.com/github/subin1005/project/blob/main/%EA%B3%B5%EA%B3%B5%EB%8D%B0%EC%9D%B4%ED%84%B0_%ED%99%9C%EC%9A%A9_%EA%B3%B5%EB%AA%A8%EC%A0%84(2023)_%EC%B5%9C%EC%A2%85.ipynb\" target=\"_parent\"><img src=\"https://colab.research.google.com/assets/colab-badge.svg\" alt=\"Open In Colab\"/></a>"
      ]
    },
    {
      "cell_type": "markdown",
      "metadata": {
        "id": "Oxsc44MujND3"
      },
      "source": [
        "# 공공데이터 활용 공모전 (분석과제 4)"
      ]
    },
    {
      "cell_type": "markdown",
      "metadata": {
        "id": "pqHQW9LAjRTY"
      },
      "source": [
        "### 1. 라이브러리 불러오기"
      ]
    },
    {
      "cell_type": "code",
      "execution_count": null,
      "metadata": {
        "id": "9L2Feq-zjTSs"
      },
      "outputs": [],
      "source": [
        "import pandas as pd\n",
        "import numpy as np\n",
        "from datetime import datetime\n",
        "import matplotlib.pyplot as plt\n",
        "import warnings\n",
        "warnings.filterwarnings('ignore')\n",
        "from sklearn.metrics import mean_absolute_percentage_error\n",
        "import torch, random, os"
      ]
    },
    {
      "cell_type": "markdown",
      "source": [
        "- 시드 고정"
      ],
      "metadata": {
        "id": "0bcDNgTCOuri"
      }
    },
    {
      "cell_type": "code",
      "source": [
        "def seed_everything(seed):\n",
        "    random.seed(seed)\n",
        "    os.environ['PYTHONHASHSEED'] = str(seed)\n",
        "    np.random.seed(seed)\n",
        "    torch.manual_seed(seed)\n",
        "    torch.cuda.manual_seed(seed)\n",
        "    torch.backends.cudnn.deterministic = True\n",
        "    torch.backends.cudnn.benchmark = True\n",
        "\n",
        "seed_everything(42)"
      ],
      "metadata": {
        "id": "BgookkXI6Y9q"
      },
      "execution_count": null,
      "outputs": []
    },
    {
      "cell_type": "markdown",
      "metadata": {
        "id": "BBfiXtMxjT8X"
      },
      "source": [
        "### 2. 데이터 불러오기"
      ]
    },
    {
      "cell_type": "code",
      "execution_count": null,
      "metadata": {
        "colab": {
          "base_uri": "https://localhost:8080/"
        },
        "id": "_Ncua5rSjVDz",
        "outputId": "8893110f-ae78-499c-c0f8-85020cffb88c"
      },
      "outputs": [
        {
          "output_type": "stream",
          "name": "stdout",
          "text": [
            "Mounted at /content/drive\n"
          ]
        }
      ],
      "source": [
        "# 구글 드라이브 연결\n",
        "from google.colab import drive\n",
        "drive.mount('/content/drive')"
      ]
    },
    {
      "cell_type": "code",
      "execution_count": null,
      "metadata": {
        "id": "YNzt6LCMl0Qp"
      },
      "outputs": [],
      "source": [
        "# 전력데이터\n",
        "# power_1 : 2012년 6월 1일 - 2022년 4월 7일\n",
        "# power_2 : 2022년 4월 1일 - 2023년 4월 30일\n",
        "power_1 = pd.read_csv('/content/drive/MyDrive/2023 공공데이터 활용 공모전/전력데이터/[2012-2022] 한국전력거래소_5분단위 전력수급현황_20220407.csv', encoding = 'cp949')\n",
        "power_2 = pd.read_csv('/content/drive/MyDrive/2023 공공데이터 활용 공모전/전력데이터/[2022-2023]한국전력거래소_5분단위 전력수급현황_20230430.csv', encoding = 'cp949') # 2022 4월 ~ 2023 4월"
      ]
    },
    {
      "cell_type": "code",
      "source": [
        "# 태양광, 풍력 발전량 데이터\n",
        "# energy1 : 2017년 1월 1일 - 2023년 2월 28일\n",
        "# enregy2 : 2023년 3월 1일 - 2023년 5월 31일\n",
        "energy1 = pd.read_csv('/content/drive/MyDrive/2023 공공데이터 활용 공모전/에너지/한국전력거래소_지역별 시간별 태양광 발전량_20230228.csv', encoding = 'cp949')\n",
        "energy2 = pd.read_csv('/content/drive/MyDrive/2023 공공데이터 활용 공모전/에너지/한국전력거래소_지역별 시간별 태양광 발전량_20230531.csv', encoding = 'cp949')"
      ],
      "metadata": {
        "id": "SObR89fR76eI"
      },
      "execution_count": null,
      "outputs": []
    },
    {
      "cell_type": "code",
      "source": [
        "# 2020 날씨데이터\n",
        "Gangwon_2020 = pd.read_csv('/content/drive/MyDrive/2023 공공데이터 활용 공모전/날씨데이터/강원도_2020.csv', encoding = 'cp949')\n",
        "Gyeonggi_2020 = pd.read_csv('/content/drive/MyDrive/2023 공공데이터 활용 공모전/날씨데이터/경기도_2020.csv', encoding = 'cp949')\n",
        "Gyeongsangnam_2020 = pd.read_csv('/content/drive/MyDrive/2023 공공데이터 활용 공모전/날씨데이터/경상남도_2020.csv', encoding = 'cp949')\n",
        "Gyeongsangbuk_2020 = pd.read_csv('/content/drive/MyDrive/2023 공공데이터 활용 공모전/날씨데이터/경상북도_2020.csv', encoding = 'cp949')\n",
        "Gwangju_2020 = pd.read_csv('/content/drive/MyDrive/2023 공공데이터 활용 공모전/날씨데이터/광주_2020.csv', encoding = 'cp949')\n",
        "Daegu_2020 = pd.read_csv('/content/drive/MyDrive/2023 공공데이터 활용 공모전/날씨데이터/대구_2020.csv', encoding = 'cp949')\n",
        "Daejeon_2020 = pd.read_csv('/content/drive/MyDrive/2023 공공데이터 활용 공모전/날씨데이터/대전_2020.csv', encoding = 'cp949')\n",
        "Busan_2020 = pd.read_csv('/content/drive/MyDrive/2023 공공데이터 활용 공모전/날씨데이터/부산_2020.csv', encoding = 'cp949')\n",
        "Seoul_2020 = pd.read_csv('/content/drive/MyDrive/2023 공공데이터 활용 공모전/날씨데이터/서울_2020.csv', encoding = 'cp949')\n",
        "Sejong_2020 = pd.read_csv('/content/drive/MyDrive/2023 공공데이터 활용 공모전/날씨데이터/세종_2020.csv', encoding = 'cp949')\n",
        "Ulsan_2020 = pd.read_csv('/content/drive/MyDrive/2023 공공데이터 활용 공모전/날씨데이터/울산_2020.csv', encoding = 'cp949')\n",
        "Incheon_2020 = pd.read_csv('/content/drive/MyDrive/2023 공공데이터 활용 공모전/날씨데이터/인천_2020.csv', encoding = 'cp949')\n",
        "Jeollanam_2020 = pd.read_csv('/content/drive/MyDrive/2023 공공데이터 활용 공모전/날씨데이터/전라남도_2020.csv', encoding = 'cp949')\n",
        "Jeollabuk_2020 = pd.read_csv('/content/drive/MyDrive/2023 공공데이터 활용 공모전/날씨데이터/전라북도_2020.csv', encoding = 'cp949')\n",
        "Jeju_2020 = pd.read_csv('/content/drive/MyDrive/2023 공공데이터 활용 공모전/날씨데이터/제주도_2020.csv', encoding = 'cp949')\n",
        "Chungcheongnam_2020 = pd.read_csv('/content/drive/MyDrive/2023 공공데이터 활용 공모전/날씨데이터/충청남도_2020.csv', encoding = 'cp949')\n",
        "Chungcheongbuk_2020 = pd.read_csv('/content/drive/MyDrive/2023 공공데이터 활용 공모전/날씨데이터/충청북도_2020.csv', encoding = 'cp949')"
      ],
      "metadata": {
        "id": "97dJ9QSDao94"
      },
      "execution_count": null,
      "outputs": []
    },
    {
      "cell_type": "code",
      "source": [
        "# 2021 날씨데이터\n",
        "Gangwon_2021 = pd.read_csv('/content/drive/MyDrive/2023 공공데이터 활용 공모전/날씨데이터/강원도_2021.csv', encoding = 'cp949')\n",
        "Gyeonggi_2021 = pd.read_csv('/content/drive/MyDrive/2023 공공데이터 활용 공모전/날씨데이터/경기도_2021.csv', encoding = 'cp949')\n",
        "Gyeongsangnam_2021 = pd.read_csv('/content/drive/MyDrive/2023 공공데이터 활용 공모전/날씨데이터/경상남도_2021.csv', encoding = 'cp949')\n",
        "Gyeongsangbuk_2021 = pd.read_csv('/content/drive/MyDrive/2023 공공데이터 활용 공모전/날씨데이터/경상북도_2021.csv', encoding = 'cp949')\n",
        "Gwangju_2021 = pd.read_csv('/content/drive/MyDrive/2023 공공데이터 활용 공모전/날씨데이터/광주_2021.csv', encoding = 'cp949')\n",
        "Daegu_2021 = pd.read_csv('/content/drive/MyDrive/2023 공공데이터 활용 공모전/날씨데이터/대구_2021.csv', encoding = 'cp949')\n",
        "Daejeon_2021 = pd.read_csv('/content/drive/MyDrive/2023 공공데이터 활용 공모전/날씨데이터/대전_2021.csv', encoding = 'cp949')\n",
        "Busan_2021 = pd.read_csv('/content/drive/MyDrive/2023 공공데이터 활용 공모전/날씨데이터/부산_2021.csv', encoding = 'cp949')\n",
        "Seoul_2021 = pd.read_csv('/content/drive/MyDrive/2023 공공데이터 활용 공모전/날씨데이터/서울_2021.csv', encoding = 'cp949')\n",
        "Sejong_2021 = pd.read_csv('/content/drive/MyDrive/2023 공공데이터 활용 공모전/날씨데이터/세종_2021.csv', encoding = 'cp949')\n",
        "Ulsan_2021 = pd.read_csv('/content/drive/MyDrive/2023 공공데이터 활용 공모전/날씨데이터/울산_2021.csv', encoding = 'cp949')\n",
        "Incheon_2021 = pd.read_csv('/content/drive/MyDrive/2023 공공데이터 활용 공모전/날씨데이터/인천_2021.csv', encoding = 'cp949')\n",
        "Jeollanam_2021 = pd.read_csv('/content/drive/MyDrive/2023 공공데이터 활용 공모전/날씨데이터/전라남도_2021.csv', encoding = 'cp949')\n",
        "Jeollabuk_2021 = pd.read_csv('/content/drive/MyDrive/2023 공공데이터 활용 공모전/날씨데이터/전라북도_2021.csv', encoding = 'cp949')\n",
        "Jeju_2021 = pd.read_csv('/content/drive/MyDrive/2023 공공데이터 활용 공모전/날씨데이터/제주도_2021.csv', encoding = 'cp949')\n",
        "Chungcheongnam_2021 = pd.read_csv('/content/drive/MyDrive/2023 공공데이터 활용 공모전/날씨데이터/충청남도_2021.csv', encoding = 'cp949')\n",
        "Chungcheongbuk_2021 = pd.read_csv('/content/drive/MyDrive/2023 공공데이터 활용 공모전/날씨데이터/충청북도_2021.csv', encoding = 'cp949')"
      ],
      "metadata": {
        "id": "pvu6kxPLYyRE"
      },
      "execution_count": null,
      "outputs": []
    },
    {
      "cell_type": "code",
      "source": [
        "# 2022 날씨데이터\n",
        "Gangwon_2022 = pd.read_csv('/content/drive/MyDrive/2023 공공데이터 활용 공모전/날씨데이터/강원도_2022.csv', encoding = 'cp949')\n",
        "Gyeonggi_2022 = pd.read_csv('/content/drive/MyDrive/2023 공공데이터 활용 공모전/날씨데이터/경기도_2022.csv', encoding = 'cp949')\n",
        "Gyeongsangnam_2022 = pd.read_csv('/content/drive/MyDrive/2023 공공데이터 활용 공모전/날씨데이터/경상남도_2022.csv', encoding = 'cp949')\n",
        "Gyeongsangbuk_2022 = pd.read_csv('/content/drive/MyDrive/2023 공공데이터 활용 공모전/날씨데이터/경상북도_2022.csv', encoding = 'cp949')\n",
        "Gwangju_2022 = pd.read_csv('/content/drive/MyDrive/2023 공공데이터 활용 공모전/날씨데이터/광주_2022.csv', encoding = 'cp949')\n",
        "Daegu_2022 = pd.read_csv('/content/drive/MyDrive/2023 공공데이터 활용 공모전/날씨데이터/대구_2022.csv', encoding = 'cp949')\n",
        "Daejeon_2022 = pd.read_csv('/content/drive/MyDrive/2023 공공데이터 활용 공모전/날씨데이터/대전_2022.csv', encoding = 'cp949')\n",
        "Busan_2022 = pd.read_csv('/content/drive/MyDrive/2023 공공데이터 활용 공모전/날씨데이터/부산_2022.csv', encoding = 'cp949')\n",
        "Seoul_2022 = pd.read_csv('/content/drive/MyDrive/2023 공공데이터 활용 공모전/날씨데이터/서울_2022.csv', encoding = 'cp949')\n",
        "Sejong_2022 = pd.read_csv('/content/drive/MyDrive/2023 공공데이터 활용 공모전/날씨데이터/세종_2022.csv', encoding = 'cp949')\n",
        "Ulsan_2022 = pd.read_csv('/content/drive/MyDrive/2023 공공데이터 활용 공모전/날씨데이터/울산_2022.csv', encoding = 'cp949')\n",
        "Incheon_2022 = pd.read_csv('/content/drive/MyDrive/2023 공공데이터 활용 공모전/날씨데이터/인천_2022.csv', encoding = 'cp949')\n",
        "Jeollanam_2022 = pd.read_csv('/content/drive/MyDrive/2023 공공데이터 활용 공모전/날씨데이터/전라남도_2022.csv', encoding = 'cp949')\n",
        "Jeollabuk_2022 = pd.read_csv('/content/drive/MyDrive/2023 공공데이터 활용 공모전/날씨데이터/전라북도_2022.csv', encoding = 'cp949')\n",
        "Jeju_2022 = pd.read_csv('/content/drive/MyDrive/2023 공공데이터 활용 공모전/날씨데이터/제주도_2022.csv', encoding = 'cp949')\n",
        "Chungcheongnam_2022 = pd.read_csv('/content/drive/MyDrive/2023 공공데이터 활용 공모전/날씨데이터/충청남도_2022.csv', encoding = 'cp949')\n",
        "Chungcheongbuk_2022 = pd.read_csv('/content/drive/MyDrive/2023 공공데이터 활용 공모전/날씨데이터/충청북도_2022.csv', encoding = 'cp949')"
      ],
      "metadata": {
        "id": "rkpn0m2-Yy4a"
      },
      "execution_count": null,
      "outputs": []
    },
    {
      "cell_type": "code",
      "source": [
        " # 2023 날씨데이터\n",
        "Gangwon_2023 = pd.read_csv('/content/drive/MyDrive/2023 공공데이터 활용 공모전/날씨데이터/강원도_2023.csv', encoding = 'cp949')\n",
        "Gyeonggi_2023 = pd.read_csv('/content/drive/MyDrive/2023 공공데이터 활용 공모전/날씨데이터/경기도_2023.csv', encoding = 'cp949')\n",
        "Gyeongsangnam_2023 = pd.read_csv('/content/drive/MyDrive/2023 공공데이터 활용 공모전/날씨데이터/경상남도_2023.csv', encoding = 'cp949')\n",
        "Gyeongsangbuk_2023 = pd.read_csv('/content/drive/MyDrive/2023 공공데이터 활용 공모전/날씨데이터/경상북도_2023.csv', encoding = 'cp949')\n",
        "Gwangju_2023 = pd.read_csv('/content/drive/MyDrive/2023 공공데이터 활용 공모전/날씨데이터/광주_2023.csv', encoding = 'cp949')\n",
        "Daegu_2023 = pd.read_csv('/content/drive/MyDrive/2023 공공데이터 활용 공모전/날씨데이터/대구_2023.csv', encoding = 'cp949')\n",
        "Daejeon_2023 = pd.read_csv('/content/drive/MyDrive/2023 공공데이터 활용 공모전/날씨데이터/대전_2023.csv', encoding = 'cp949')\n",
        "Busan_2023 = pd.read_csv('/content/drive/MyDrive/2023 공공데이터 활용 공모전/날씨데이터/부산_2023.csv', encoding = 'cp949')\n",
        "Seoul_2023 = pd.read_csv('/content/drive/MyDrive/2023 공공데이터 활용 공모전/날씨데이터/서울_2023.csv', encoding = 'cp949')\n",
        "Sejong_2023 = pd.read_csv('/content/drive/MyDrive/2023 공공데이터 활용 공모전/날씨데이터/세종_2023.csv', encoding = 'cp949')\n",
        "Ulsan_2023 = pd.read_csv('/content/drive/MyDrive/2023 공공데이터 활용 공모전/날씨데이터/울산_2023.csv', encoding = 'cp949')\n",
        "Incheon_2023 = pd.read_csv('/content/drive/MyDrive/2023 공공데이터 활용 공모전/날씨데이터/인천_2023.csv', encoding = 'cp949')\n",
        "Jeollanam_2023 = pd.read_csv('/content/drive/MyDrive/2023 공공데이터 활용 공모전/날씨데이터/전라남도_2023.csv', encoding = 'cp949')\n",
        "Jeollabuk_2023 = pd.read_csv('/content/drive/MyDrive/2023 공공데이터 활용 공모전/날씨데이터/전라북도_2023.csv', encoding = 'cp949')\n",
        "Jeju_2023 = pd.read_csv('/content/drive/MyDrive/2023 공공데이터 활용 공모전/날씨데이터/제주도_2023.csv', encoding = 'cp949')\n",
        "Chungcheongnam_2023 = pd.read_csv('/content/drive/MyDrive/2023 공공데이터 활용 공모전/날씨데이터/충청남도_2023.csv', encoding = 'cp949')\n",
        "Chungcheongbuk_2023 = pd.read_csv('/content/drive/MyDrive/2023 공공데이터 활용 공모전/날씨데이터/충청북도_2023.csv', encoding = 'cp949')"
      ],
      "metadata": {
        "id": "QW8_dnag9KUK"
      },
      "execution_count": null,
      "outputs": []
    },
    {
      "cell_type": "code",
      "source": [
        "# test 날씨데이터\n",
        "Gangwon_test = pd.read_csv('/content/drive/MyDrive/2023 공공데이터 활용 공모전/날씨데이터/강원도_test1.csv', encoding = 'cp949')\n",
        "Gyeonggi_test = pd.read_csv('/content/drive/MyDrive/2023 공공데이터 활용 공모전/날씨데이터/경기도_test1.csv', encoding = 'cp949')\n",
        "Gyeongsangnam_test = pd.read_csv('/content/drive/MyDrive/2023 공공데이터 활용 공모전/날씨데이터/경상남도_test1.csv', encoding = 'cp949')\n",
        "Gyeongsangbuk_test = pd.read_csv('/content/drive/MyDrive/2023 공공데이터 활용 공모전/날씨데이터/경상북도_test1.csv', encoding = 'cp949')\n",
        "Gwangju_test = pd.read_csv('/content/drive/MyDrive/2023 공공데이터 활용 공모전/날씨데이터/광주_test1.csv', encoding = 'cp949')\n",
        "Daegu_test = pd.read_csv('/content/drive/MyDrive/2023 공공데이터 활용 공모전/날씨데이터/대구_test1.csv', encoding = 'cp949')\n",
        "Daejeon_test = pd.read_csv('/content/drive/MyDrive/2023 공공데이터 활용 공모전/날씨데이터/대전_test1.csv', encoding = 'cp949')\n",
        "Busan_test = pd.read_csv('/content/drive/MyDrive/2023 공공데이터 활용 공모전/날씨데이터/부산_test1.csv', encoding = 'cp949')\n",
        "Seoul_test = pd.read_csv('/content/drive/MyDrive/2023 공공데이터 활용 공모전/날씨데이터/서울_test1.csv', encoding = 'cp949')\n",
        "Sejong_test = pd.read_csv('/content/drive/MyDrive/2023 공공데이터 활용 공모전/날씨데이터/세종_test1.csv', encoding = 'cp949')\n",
        "Ulsan_test = pd.read_csv('/content/drive/MyDrive/2023 공공데이터 활용 공모전/날씨데이터/울산_test1.csv', encoding = 'cp949')\n",
        "Incheon_test = pd.read_csv('/content/drive/MyDrive/2023 공공데이터 활용 공모전/날씨데이터/인천_test1.csv', encoding = 'cp949')\n",
        "Jeollanam_test = pd.read_csv('/content/drive/MyDrive/2023 공공데이터 활용 공모전/날씨데이터/전라남도_test1.csv', encoding = 'cp949')\n",
        "Jeollabuk_test = pd.read_csv('/content/drive/MyDrive/2023 공공데이터 활용 공모전/날씨데이터/전라북도_test1.csv', encoding = 'cp949')\n",
        "Jeju_test = pd.read_csv('/content/drive/MyDrive/2023 공공데이터 활용 공모전/날씨데이터/제주도_test1.csv', encoding = 'cp949')\n",
        "Chungcheongnam_test = pd.read_csv('/content/drive/MyDrive/2023 공공데이터 활용 공모전/날씨데이터/충청남도_test1.csv', encoding = 'cp949')\n",
        "Chungcheongbuk_test = pd.read_csv('/content/drive/MyDrive/2023 공공데이터 활용 공모전/날씨데이터/충청북도_test1.csv', encoding = 'cp949')"
      ],
      "metadata": {
        "id": "cWxbgtqH9Xyy"
      },
      "execution_count": null,
      "outputs": []
    },
    {
      "cell_type": "markdown",
      "metadata": {
        "id": "e6cJxB-tm1-j"
      },
      "source": [
        "### 3. 데이터 탐색"
      ]
    },
    {
      "cell_type": "code",
      "execution_count": null,
      "metadata": {
        "colab": {
          "base_uri": "https://localhost:8080/"
        },
        "id": "5g3XbK3AnMAQ",
        "outputId": "5b055fa2-137a-4da5-8a36-760454fa950e"
      },
      "outputs": [
        {
          "output_type": "execute_result",
          "data": {
            "text/plain": [
              "기준일시          0\n",
              "공급능력(MW)      0\n",
              "현재수요(MW)      0\n",
              "최대예측수요(MW)    0\n",
              "공급예비력(MW)     0\n",
              "공급예비율(퍼센트)    0\n",
              "운영예비력(MW)     0\n",
              "운영예비율(퍼센트)    0\n",
              "dtype: int64"
            ]
          },
          "metadata": {},
          "execution_count": 11
        }
      ],
      "source": [
        "# 전력 데이터 결측치 없음\n",
        "power_1.isnull().sum()"
      ]
    },
    {
      "cell_type": "code",
      "source": [
        "power_2.isnull().sum()"
      ],
      "metadata": {
        "colab": {
          "base_uri": "https://localhost:8080/"
        },
        "id": "W3tJWE7vQDgp",
        "outputId": "33e9f5c9-0df5-4386-eafe-477a9d6e1c66"
      },
      "execution_count": null,
      "outputs": [
        {
          "output_type": "execute_result",
          "data": {
            "text/plain": [
              "기준일시          0\n",
              "공급능력(MW)      0\n",
              "현재수요(MW)      0\n",
              "최대예측수요(MW)    0\n",
              "공급예비력(MW)     0\n",
              "공급예비율(퍼센트)    0\n",
              "운영예비력(MW)     0\n",
              "운영예비율(퍼센트)    0\n",
              "dtype: int64"
            ]
          },
          "metadata": {},
          "execution_count": 12
        }
      ]
    },
    {
      "cell_type": "code",
      "source": [
        "energy1.isnull().sum()"
      ],
      "metadata": {
        "colab": {
          "base_uri": "https://localhost:8080/"
        },
        "id": "kd4E-X1wAcX1",
        "outputId": "3144e0d1-7c93-4d34-da1f-cc3c1c464c66"
      },
      "execution_count": null,
      "outputs": [
        {
          "output_type": "execute_result",
          "data": {
            "text/plain": [
              "거래일자                   0\n",
              "거래시간                   0\n",
              "지역                     0\n",
              " 태양광 발전량(MWh)          0\n",
              " 풍력 발전량(MWh)      324000\n",
              "dtype: int64"
            ]
          },
          "metadata": {},
          "execution_count": 13
        }
      ]
    },
    {
      "cell_type": "code",
      "source": [
        "energy2.isnull().sum()"
      ],
      "metadata": {
        "colab": {
          "base_uri": "https://localhost:8080/"
        },
        "id": "yNrpG0vtAeY4",
        "outputId": "92aabf74-7c9f-4656-e271-cad9eb1356b9"
      },
      "execution_count": null,
      "outputs": [
        {
          "output_type": "execute_result",
          "data": {
            "text/plain": [
              "거래일자                0\n",
              "거래시간                0\n",
              "지역                  0\n",
              "  태양광 발전량(MWh)      0\n",
              "  풍력 발전량(MWh)       0\n",
              "dtype: int64"
            ]
          },
          "metadata": {},
          "execution_count": 14
        }
      ]
    },
    {
      "cell_type": "markdown",
      "source": [
        "energy1의 풍력 발전량에 324,000개의 결측치 존재"
      ],
      "metadata": {
        "id": "OpzuLt-XTjQB"
      }
    },
    {
      "cell_type": "markdown",
      "metadata": {
        "id": "6YLX0wEtUUtT"
      },
      "source": [
        "### 4. 데이터 전처리"
      ]
    },
    {
      "cell_type": "markdown",
      "metadata": {
        "id": "z0BsArXOVGwO"
      },
      "source": [
        "#### (1) 지역별 날씨데이터"
      ]
    },
    {
      "cell_type": "markdown",
      "source": [
        "- 시도의 일시로 그룹화"
      ],
      "metadata": {
        "id": "w2288qMSpbVw"
      }
    },
    {
      "cell_type": "code",
      "execution_count": null,
      "metadata": {
        "id": "-oFiPjAF9-88"
      },
      "outputs": [],
      "source": [
        "Gangwondo_2020 = Gangwon_2020.drop('지점명', axis = 1).groupby('일시').mean()\n",
        "Gyeonggido_2020 = Gyeonggi_2020.drop('지점명', axis = 1).groupby('일시').mean()\n",
        "Gyeongsangnamdo_2020 = Gyeongsangnam_2020.drop('지점명', axis = 1).groupby('일시').mean()\n",
        "Gyeongsangbukdo_2020 = Gyeongsangbuk_2020.drop('지점명', axis = 1).groupby('일시').mean()\n",
        "Gwangjusi_2020 = Gwangju_2020.drop('지점명', axis = 1).groupby('일시').mean()\n",
        "Daegusi_2020 = Daegu_2020.drop('지점명', axis = 1).groupby('일시').mean()\n",
        "Daejeonsi_2020 = Daejeon_2020.drop('지점명', axis = 1).groupby('일시').mean()\n",
        "Busansi_2020 = Busan_2020.drop('지점명', axis = 1).groupby('일시').mean()\n",
        "Seoulsi_2020 = Seoul_2020.drop('지점명', axis = 1).groupby('일시').mean()\n",
        "Sejongsi_2020 = Sejong_2020.drop('지점명', axis = 1).groupby('일시').mean()\n",
        "Ulsansi_2020 = Ulsan_2020.drop('지점명', axis = 1).groupby('일시').mean()\n",
        "Incheonsi_2020 = Incheon_2020.drop('지점명', axis = 1).groupby('일시').mean()\n",
        "Jeollanamdo_2020 = Jeollanam_2020.drop('지점명', axis = 1).groupby('일시').mean()\n",
        "Jeollabukdo_2020 = Jeollabuk_2020.drop('지점명', axis = 1).groupby('일시').mean()\n",
        "Jejudo_2020 = Jeju_2020.drop('지점명', axis = 1).groupby('일시').mean()\n",
        "Chungcheongnamdo_2020 = Chungcheongnam_2020.drop('지점명', axis = 1).groupby('일시').mean()\n",
        "Chungcheongbukdo_2020 = Chungcheongbuk_2020.drop('지점명', axis = 1).groupby('일시').mean()"
      ]
    },
    {
      "cell_type": "code",
      "source": [
        "Gangwondo_2021 = Gangwon_2021.drop('지점명', axis = 1).groupby('일시').mean()\n",
        "Gyeonggido_2021 = Gyeonggi_2021.drop('지점명', axis = 1).groupby('일시').mean()\n",
        "Gyeongsangnamdo_2021 = Gyeongsangnam_2021.drop('지점명', axis = 1).groupby('일시').mean()\n",
        "Gyeongsangbukdo_2021 = Gyeongsangbuk_2021.drop('지점명', axis = 1).groupby('일시').mean()\n",
        "Gwangjusi_2021 = Gwangju_2021.drop('지점명', axis = 1).groupby('일시').mean()\n",
        "Daegusi_2021 = Daegu_2021.drop('지점명', axis = 1).groupby('일시').mean()\n",
        "Daejeonsi_2021 = Daejeon_2021.drop('지점명', axis = 1).groupby('일시').mean()\n",
        "Busansi_2021 = Busan_2021.drop('지점명', axis = 1).groupby('일시').mean()\n",
        "Seoulsi_2021 = Seoul_2021.drop('지점명', axis = 1).groupby('일시').mean()\n",
        "Sejongsi_2021 = Sejong_2021.drop('지점명', axis = 1).groupby('일시').mean()\n",
        "Ulsansi_2021 = Ulsan_2021.drop('지점명', axis = 1).groupby('일시').mean()\n",
        "Incheonsi_2021 = Incheon_2021.drop('지점명', axis = 1).groupby('일시').mean()\n",
        "Jeollanamdo_2021 = Jeollanam_2021.drop('지점명', axis = 1).groupby('일시').mean()\n",
        "Jeollabukdo_2021 = Jeollabuk_2021.drop('지점명', axis = 1).groupby('일시').mean()\n",
        "Jejudo_2021 = Jeju_2021.drop('지점명', axis = 1).groupby('일시').mean()\n",
        "Chungcheongnamdo_2021 = Chungcheongnam_2021.drop('지점명', axis = 1).groupby('일시').mean()\n",
        "Chungcheongbukdo_2021 = Chungcheongbuk_2021.drop('지점명', axis = 1).groupby('일시').mean()"
      ],
      "metadata": {
        "id": "qSOVyH_4exLT"
      },
      "execution_count": null,
      "outputs": []
    },
    {
      "cell_type": "code",
      "source": [
        "Gangwondo_2022 = Gangwon_2022.drop('지점명', axis = 1).groupby('일시').mean()\n",
        "Gyeonggido_2022 = Gyeonggi_2022.drop('지점명', axis = 1).groupby('일시').mean()\n",
        "Gyeongsangnamdo_2022 = Gyeongsangnam_2022.drop('지점명', axis = 1).groupby('일시').mean()\n",
        "Gyeongsangbukdo_2022 = Gyeongsangbuk_2022.drop('지점명', axis = 1).groupby('일시').mean()\n",
        "Gwangjusi_2022 = Gwangju_2022.drop('지점명', axis = 1).groupby('일시').mean()\n",
        "Daegusi_2022 = Daegu_2022.drop('지점명', axis = 1).groupby('일시').mean()\n",
        "Daejeonsi_2022 = Daejeon_2022.drop('지점명', axis = 1).groupby('일시').mean()\n",
        "Busansi_2022 = Busan_2022.drop('지점명', axis = 1).groupby('일시').mean()\n",
        "Seoulsi_2022 = Seoul_2022.drop('지점명', axis = 1).groupby('일시').mean()\n",
        "Sejongsi_2022 = Sejong_2022.drop('지점명', axis = 1).groupby('일시').mean()\n",
        "Ulsansi_2022 = Ulsan_2022.drop('지점명', axis = 1).groupby('일시').mean()\n",
        "Incheonsi_2022 = Incheon_2022.drop('지점명', axis = 1).groupby('일시').mean()\n",
        "Jeollanamdo_2022 = Jeollanam_2022.drop('지점명', axis = 1).groupby('일시').mean()\n",
        "Jeollabukdo_2022 = Jeollabuk_2022.drop('지점명', axis = 1).groupby('일시').mean()\n",
        "Jejudo_2022 = Jeju_2022.drop('지점명', axis = 1).groupby('일시').mean()\n",
        "Chungcheongnamdo_2022 = Chungcheongnam_2022.drop('지점명', axis = 1).groupby('일시').mean()\n",
        "Chungcheongbukdo_2022 = Chungcheongbuk_2022.drop('지점명', axis = 1).groupby('일시').mean()"
      ],
      "metadata": {
        "id": "TqQ5CBSTcLLP"
      },
      "execution_count": null,
      "outputs": []
    },
    {
      "cell_type": "code",
      "source": [
        "Gangwondo_2023 = Gangwon_2023.drop('지점명', axis = 1).groupby('일시').mean()\n",
        "Gyeonggido_2023 = Gyeonggi_2023.drop('지점명', axis = 1).groupby('일시').mean()\n",
        "Gyeongsangnamdo_2023 = Gyeongsangnam_2023.drop('지점명', axis = 1).groupby('일시').mean()\n",
        "Gyeongsangbukdo_2023 = Gyeongsangbuk_2023.drop('지점명', axis = 1).groupby('일시').mean()\n",
        "Gwangjusi_2023 = Gwangju_2023.drop('지점명', axis = 1).groupby('일시').mean()\n",
        "Daegusi_2023 = Daegu_2023.drop('지점명', axis = 1).groupby('일시').mean()\n",
        "Daejeonsi_2023 = Daejeon_2023.drop('지점명', axis = 1).groupby('일시').mean()\n",
        "Busansi_2023 = Busan_2023.drop('지점명', axis = 1).groupby('일시').mean()\n",
        "Seoulsi_2023 = Seoul_2023.drop('지점명', axis = 1).groupby('일시').mean()\n",
        "Sejongsi_2023 = Sejong_2023.drop('지점명', axis = 1).groupby('일시').mean()\n",
        "Ulsansi_2023 = Ulsan_2023.drop('지점명', axis = 1).groupby('일시').mean()\n",
        "Incheonsi_2023 = Incheon_2023.drop('지점명', axis = 1).groupby('일시').mean()\n",
        "Jeollanamdo_2023 = Jeollanam_2023.drop('지점명', axis = 1).groupby('일시').mean()\n",
        "Jeollabukdo_2023 = Jeollabuk_2023.drop('지점명', axis = 1).groupby('일시').mean()\n",
        "Jejudo_2023 = Jeju_2023.drop('지점명', axis = 1).groupby('일시').mean()\n",
        "Chungcheongnamdo_2023 = Chungcheongnam_2023.drop('지점명', axis = 1).groupby('일시').mean()\n",
        "Chungcheongbukdo_2023 = Chungcheongbuk_2023.drop('지점명', axis = 1).groupby('일시').mean()"
      ],
      "metadata": {
        "id": "OlJ5VSXLfS-C"
      },
      "execution_count": null,
      "outputs": []
    },
    {
      "cell_type": "code",
      "source": [
        "Gangwondo_test = Gangwon_test.drop('지점명', axis = 1).groupby('일시').mean()\n",
        "Gyeonggido_test = Gyeonggi_test.drop('지점명', axis = 1).groupby('일시').mean()\n",
        "Gyeongsangnamdo_test = Gyeongsangnam_test.drop('지점명', axis = 1).groupby('일시').mean()\n",
        "Gyeongsangbukdo_test = Gyeongsangbuk_test.drop('지점명', axis = 1).groupby('일시').mean()\n",
        "Gwangjusi_test = Gwangju_test.drop('지점명', axis = 1).groupby('일시').mean()\n",
        "Daegusi_test = Daegu_test.drop('지점명', axis = 1).groupby('일시').mean()\n",
        "Daejeonsi_test = Daejeon_test.drop('지점명', axis = 1).groupby('일시').mean()\n",
        "Busansi_test = Busan_test.drop('지점명', axis = 1).groupby('일시').mean()\n",
        "Seoulsi_test = Seoul_test.drop('지점명', axis = 1).groupby('일시').mean()\n",
        "Sejongsi_test = Sejong_test.drop('지점명', axis = 1).groupby('일시').mean()\n",
        "Ulsansi_test = Ulsan_test.drop('지점명', axis = 1).groupby('일시').mean()\n",
        "Incheonsi_test = Incheon_test.drop('지점명', axis = 1).groupby('일시').mean()\n",
        "Jeollanamdo_test = Jeollanam_test.drop('지점명', axis = 1).groupby('일시').mean()\n",
        "Jeollabukdo_test = Jeollabuk_test.drop('지점명', axis = 1).groupby('일시').mean()\n",
        "Jejudo_test = Jeju_test.drop('지점명', axis = 1).groupby('일시').mean()\n",
        "Chungcheongnamdo_test = Chungcheongnam_test.drop('지점명', axis = 1).groupby('일시').mean()\n",
        "Chungcheongbukdo_test = Chungcheongbuk_test.drop('지점명', axis = 1).groupby('일시').mean()"
      ],
      "metadata": {
        "id": "73zpzLwF-Vzr"
      },
      "execution_count": null,
      "outputs": []
    },
    {
      "cell_type": "markdown",
      "source": [
        "- 강수량의 결측을 0으로 대치"
      ],
      "metadata": {
        "id": "hJ6QlXZnlUHQ"
      }
    },
    {
      "cell_type": "code",
      "execution_count": null,
      "metadata": {
        "id": "yEFkVErlJ9Jt"
      },
      "outputs": [],
      "source": [
        "# 모든 강수량 결측치 0으로 대치 (강수량 결측을 0으로 추정)\n",
        "Gangwondo_2020['강수량(mm)'] = Gangwondo_2020['강수량(mm)'].fillna(0)\n",
        "Gyeonggido_2020['강수량(mm)'] = Gyeonggido_2020['강수량(mm)'].fillna(0)\n",
        "Gyeongsangnamdo_2020['강수량(mm)'] = Gyeongsangnamdo_2020['강수량(mm)'].fillna(0)\n",
        "Gyeongsangbukdo_2020['강수량(mm)'] = Gyeongsangbukdo_2020['강수량(mm)'].fillna(0)\n",
        "Gwangjusi_2020['강수량(mm)'] = Gwangjusi_2020['강수량(mm)'].fillna(0)\n",
        "Daegusi_2020['강수량(mm)'] = Daegusi_2020['강수량(mm)'].fillna(0)\n",
        "Daejeonsi_2020['강수량(mm)'] = Daejeonsi_2020['강수량(mm)'].fillna(0)\n",
        "Busansi_2020['강수량(mm)'] = Busansi_2020['강수량(mm)'].fillna(0)\n",
        "Seoulsi_2020['강수량(mm)'] = Seoulsi_2020['강수량(mm)'].fillna(0)\n",
        "Sejongsi_2020['강수량(mm)'] = Sejongsi_2020['강수량(mm)'].fillna(0)\n",
        "Ulsansi_2020['강수량(mm)'] = Ulsansi_2020['강수량(mm)'].fillna(0)\n",
        "Incheonsi_2020['강수량(mm)'] = Incheonsi_2020['강수량(mm)'].fillna(0)\n",
        "Jeollanamdo_2020['강수량(mm)'] = Jeollanamdo_2020['강수량(mm)'].fillna(0)\n",
        "Jeollabukdo_2020['강수량(mm)'] = Jeollabukdo_2020['강수량(mm)'].fillna(0)\n",
        "Jejudo_2020['강수량(mm)'] = Jejudo_2020['강수량(mm)'].fillna(0)\n",
        "Chungcheongnamdo_2020['강수량(mm)'] = Chungcheongnamdo_2020['강수량(mm)'].fillna(0)\n",
        "Chungcheongbukdo_2020['강수량(mm)'] = Chungcheongbukdo_2020['강수량(mm)'].fillna(0)"
      ]
    },
    {
      "cell_type": "code",
      "source": [
        "# 모든 강수량 결측치 0으로 대치 (강수량 결측을 0으로 추정)\n",
        "Gangwondo_2021['강수량(mm)'] = Gangwondo_2021['강수량(mm)'].fillna(0)\n",
        "Gyeonggido_2021['강수량(mm)'] = Gyeonggido_2021['강수량(mm)'].fillna(0)\n",
        "Gyeongsangnamdo_2021['강수량(mm)'] = Gyeongsangnamdo_2021['강수량(mm)'].fillna(0)\n",
        "Gyeongsangbukdo_2021['강수량(mm)'] = Gyeongsangbukdo_2021['강수량(mm)'].fillna(0)\n",
        "Gwangjusi_2021['강수량(mm)'] = Gwangjusi_2021['강수량(mm)'].fillna(0)\n",
        "Daegusi_2021['강수량(mm)'] = Daegusi_2021['강수량(mm)'].fillna(0)\n",
        "Daejeonsi_2021['강수량(mm)'] = Daejeonsi_2021['강수량(mm)'].fillna(0)\n",
        "Busansi_2021['강수량(mm)'] = Busansi_2021['강수량(mm)'].fillna(0)\n",
        "Seoulsi_2021['강수량(mm)'] = Seoulsi_2021['강수량(mm)'].fillna(0)\n",
        "Sejongsi_2021['강수량(mm)'] = Sejongsi_2021['강수량(mm)'].fillna(0)\n",
        "Ulsansi_2021['강수량(mm)'] = Ulsansi_2021['강수량(mm)'].fillna(0)\n",
        "Incheonsi_2021['강수량(mm)'] = Incheonsi_2021['강수량(mm)'].fillna(0)\n",
        "Jeollanamdo_2021['강수량(mm)'] = Jeollanamdo_2021['강수량(mm)'].fillna(0)\n",
        "Jeollabukdo_2021['강수량(mm)'] = Jeollabukdo_2021['강수량(mm)'].fillna(0)\n",
        "Jejudo_2021['강수량(mm)'] = Jejudo_2021['강수량(mm)'].fillna(0)\n",
        "Chungcheongnamdo_2021['강수량(mm)'] = Chungcheongnamdo_2021['강수량(mm)'].fillna(0)\n",
        "Chungcheongbukdo_2021['강수량(mm)'] = Chungcheongbukdo_2021['강수량(mm)'].fillna(0)"
      ],
      "metadata": {
        "id": "6VMzxzjakjCi"
      },
      "execution_count": null,
      "outputs": []
    },
    {
      "cell_type": "code",
      "source": [
        "# 모든 강수량 결측치 0으로 대치 (강수량 결측을 0으로 추정)\n",
        "Gangwondo_2022['강수량(mm)'] = Gangwondo_2022['강수량(mm)'].fillna(0)\n",
        "Gyeonggido_2022['강수량(mm)'] = Gyeonggido_2022['강수량(mm)'].fillna(0)\n",
        "Gyeongsangnamdo_2022['강수량(mm)'] = Gyeongsangnamdo_2022['강수량(mm)'].fillna(0)\n",
        "Gyeongsangbukdo_2022['강수량(mm)'] = Gyeongsangbukdo_2022['강수량(mm)'].fillna(0)\n",
        "Gwangjusi_2022['강수량(mm)'] = Gwangjusi_2022['강수량(mm)'].fillna(0)\n",
        "Daegusi_2022['강수량(mm)'] = Daegusi_2022['강수량(mm)'].fillna(0)\n",
        "Daejeonsi_2022['강수량(mm)'] = Daejeonsi_2022['강수량(mm)'].fillna(0)\n",
        "Busansi_2022['강수량(mm)'] = Busansi_2022['강수량(mm)'].fillna(0)\n",
        "Seoulsi_2022['강수량(mm)'] = Seoulsi_2022['강수량(mm)'].fillna(0)\n",
        "Sejongsi_2022['강수량(mm)'] = Sejongsi_2022['강수량(mm)'].fillna(0)\n",
        "Ulsansi_2022['강수량(mm)'] = Ulsansi_2022['강수량(mm)'].fillna(0)\n",
        "Incheonsi_2022['강수량(mm)'] = Incheonsi_2022['강수량(mm)'].fillna(0)\n",
        "Jeollanamdo_2022['강수량(mm)'] = Jeollanamdo_2022['강수량(mm)'].fillna(0)\n",
        "Jeollabukdo_2022['강수량(mm)'] = Jeollabukdo_2022['강수량(mm)'].fillna(0)\n",
        "Jejudo_2022['강수량(mm)'] = Jejudo_2022['강수량(mm)'].fillna(0)\n",
        "Chungcheongnamdo_2022['강수량(mm)'] = Chungcheongnamdo_2022['강수량(mm)'].fillna(0)\n",
        "Chungcheongbukdo_2022['강수량(mm)'] = Chungcheongbukdo_2022['강수량(mm)'].fillna(0)"
      ],
      "metadata": {
        "id": "-Vk7aOApk0D_"
      },
      "execution_count": null,
      "outputs": []
    },
    {
      "cell_type": "code",
      "source": [
        "# 모든 강수량 결측치 0으로 대치 (강수량 결측을 0으로 추정)\n",
        "Gangwondo_2023['강수량(mm)'] = Gangwondo_2023['강수량(mm)'].fillna(0)\n",
        "Gyeonggido_2023['강수량(mm)'] = Gyeonggido_2023['강수량(mm)'].fillna(0)\n",
        "Gyeongsangnamdo_2023['강수량(mm)'] = Gyeongsangnamdo_2023['강수량(mm)'].fillna(0)\n",
        "Gyeongsangbukdo_2023['강수량(mm)'] = Gyeongsangbukdo_2023['강수량(mm)'].fillna(0)\n",
        "Gwangjusi_2023['강수량(mm)'] = Gwangjusi_2023['강수량(mm)'].fillna(0)\n",
        "Daegusi_2023['강수량(mm)'] = Daegusi_2023['강수량(mm)'].fillna(0)\n",
        "Daejeonsi_2023['강수량(mm)'] = Daejeonsi_2023['강수량(mm)'].fillna(0)\n",
        "Busansi_2023['강수량(mm)'] = Busansi_2023['강수량(mm)'].fillna(0)\n",
        "Seoulsi_2023['강수량(mm)'] = Seoulsi_2023['강수량(mm)'].fillna(0)\n",
        "Sejongsi_2023['강수량(mm)'] = Sejongsi_2023['강수량(mm)'].fillna(0)\n",
        "Ulsansi_2023['강수량(mm)'] = Ulsansi_2023['강수량(mm)'].fillna(0)\n",
        "Incheonsi_2023['강수량(mm)'] = Incheonsi_2023['강수량(mm)'].fillna(0)\n",
        "Jeollanamdo_2023['강수량(mm)'] = Jeollanamdo_2023['강수량(mm)'].fillna(0)\n",
        "Jeollabukdo_2023['강수량(mm)'] = Jeollabukdo_2023['강수량(mm)'].fillna(0)\n",
        "Jejudo_2023['강수량(mm)'] = Jejudo_2023['강수량(mm)'].fillna(0)\n",
        "Chungcheongnamdo_2023['강수량(mm)'] = Chungcheongnamdo_2023['강수량(mm)'].fillna(0)\n",
        "Chungcheongbukdo_2023['강수량(mm)'] = Chungcheongbukdo_2023['강수량(mm)'].fillna(0)"
      ],
      "metadata": {
        "id": "43ps8ARMlCfR"
      },
      "execution_count": null,
      "outputs": []
    },
    {
      "cell_type": "code",
      "source": [
        "# 모든 강수량 결측치 0으로 대치 (강수량 결측을 0으로 추정)\n",
        "Gangwondo_test['강수량(mm)'] = Gangwondo_test['강수량(mm)'].fillna(0)\n",
        "Gyeonggido_test['강수량(mm)'] = Gyeonggido_test['강수량(mm)'].fillna(0)\n",
        "Gyeongsangnamdo_test['강수량(mm)'] = Gyeongsangnamdo_test['강수량(mm)'].fillna(0)\n",
        "Gyeongsangbukdo_test['강수량(mm)'] = Gyeongsangbukdo_test['강수량(mm)'].fillna(0)\n",
        "Gwangjusi_test['강수량(mm)'] = Gwangjusi_test['강수량(mm)'].fillna(0)\n",
        "Daegusi_test['강수량(mm)'] = Daegusi_test['강수량(mm)'].fillna(0)\n",
        "Daejeonsi_test['강수량(mm)'] = Daejeonsi_test['강수량(mm)'].fillna(0)\n",
        "Busansi_test['강수량(mm)'] = Busansi_test['강수량(mm)'].fillna(0)\n",
        "Seoulsi_test['강수량(mm)'] = Seoulsi_test['강수량(mm)'].fillna(0)\n",
        "Sejongsi_test['강수량(mm)'] = Sejongsi_test['강수량(mm)'].fillna(0)\n",
        "Ulsansi_test['강수량(mm)'] = Ulsansi_test['강수량(mm)'].fillna(0)\n",
        "Incheonsi_test['강수량(mm)'] = Incheonsi_test['강수량(mm)'].fillna(0)\n",
        "Jeollanamdo_test['강수량(mm)'] = Jeollanamdo_test['강수량(mm)'].fillna(0)\n",
        "Jeollabukdo_test['강수량(mm)'] = Jeollabukdo_test['강수량(mm)'].fillna(0)\n",
        "Jejudo_test['강수량(mm)'] = Jejudo_test['강수량(mm)'].fillna(0)\n",
        "Chungcheongnamdo_test['강수량(mm)'] = Chungcheongnamdo_test['강수량(mm)'].fillna(0)\n",
        "Chungcheongbukdo_test['강수량(mm)'] = Chungcheongbukdo_test['강수량(mm)'].fillna(0)"
      ],
      "metadata": {
        "id": "d9P1hmWA-51W"
      },
      "execution_count": null,
      "outputs": []
    },
    {
      "cell_type": "markdown",
      "source": [
        "- 그 외 결측을 평균값으로 대치 (강수량을 제외한 모든 변수는 결측량이 적기 때문)"
      ],
      "metadata": {
        "id": "14btaGSDlaEw"
      }
    },
    {
      "cell_type": "code",
      "source": [
        "Gangwondo_2020 = Gangwondo_2020.fillna(Gangwondo_2020.mean())\n",
        "Gyeonggido_2020 = Gyeonggido_2020.fillna(Gyeonggido_2020.mean())\n",
        "Gyeongsangnamdo_2020 = Gyeongsangnamdo_2020.fillna(Gyeongsangnamdo_2020.mean())\n",
        "Gyeongsangbukdo_2020 = Gyeongsangbukdo_2020.fillna(Gyeongsangbukdo_2020.mean())\n",
        "Gwangjusi_2020 = Gwangjusi_2020.fillna(Gwangjusi_2020.mean())\n",
        "Daegusi_2020 = Daegusi_2020.fillna(Daegusi_2020.mean())\n",
        "Daejeonsi_2020 = Daejeonsi_2020.fillna(Daejeonsi_2020.mean())\n",
        "Busansi_2020 = Busansi_2020.fillna(Busansi_2020.mean())\n",
        "Seoulsi_2020 = Seoulsi_2020.fillna(Seoulsi_2020.mean())\n",
        "Sejongsi_2020 = Sejongsi_2020.fillna(Sejongsi_2020.mean())\n",
        "Ulsansi_2020 = Ulsansi_2020.fillna(Ulsansi_2020.mean())\n",
        "Incheonsi_2020 = Incheonsi_2020.fillna(Incheonsi_2020.mean())\n",
        "Jeollanamdo_2020 = Jeollanamdo_2020.fillna(Jeollanamdo_2020.mean())\n",
        "Jeollabukdo_2020 = Jeollabukdo_2020.fillna(Jeollabukdo_2020.mean())\n",
        "Jejudo_2020 = Jejudo_2020.fillna(Jejudo_2020.mean())\n",
        "Chungcheongnamdo_2020 = Chungcheongnamdo_2020.fillna(Chungcheongnamdo_2020.mean())\n",
        "Chungcheongbukdo_2020 = Chungcheongbukdo_2020.fillna(Chungcheongbukdo_2020.mean())"
      ],
      "metadata": {
        "id": "kBQFCvWJlcz9"
      },
      "execution_count": null,
      "outputs": []
    },
    {
      "cell_type": "code",
      "source": [
        "Gangwondo_2021 = Gangwondo_2021.fillna(Gangwondo_2021.mean())\n",
        "Gyeonggido_2021 = Gyeonggido_2021.fillna(Gyeonggido_2021.mean())\n",
        "Gyeongsangnamdo_2021 = Gyeongsangnamdo_2021.fillna(Gyeongsangnamdo_2021.mean())\n",
        "Gyeongsangbukdo_2021 = Gyeongsangbukdo_2021.fillna(Gyeongsangbukdo_2021.mean())\n",
        "Gwangjusi_2021 = Gwangjusi_2021.fillna(Gwangjusi_2021.mean())\n",
        "Daegusi_2021 = Daegusi_2021.fillna(Daegusi_2021.mean())\n",
        "Daejeonsi_2021 = Daejeonsi_2021.fillna(Daejeonsi_2021.mean())\n",
        "Busansi_2021 = Busansi_2021.fillna(Busansi_2021.mean())\n",
        "Seoulsi_2021 = Seoulsi_2021.fillna(Seoulsi_2021.mean())\n",
        "Sejongsi_2021 = Sejongsi_2021.fillna(Sejongsi_2021.mean())\n",
        "Ulsansi_2021 = Ulsansi_2021.fillna(Ulsansi_2021.mean())\n",
        "Incheonsi_2021 = Incheonsi_2021.fillna(Incheonsi_2021.mean())\n",
        "Jeollanamdo_2021 = Jeollanamdo_2021.fillna(Jeollanamdo_2021.mean())\n",
        "Jeollabukdo_2021 = Jeollabukdo_2021.fillna(Jeollabukdo_2021.mean())\n",
        "Jejudo_2021 = Jejudo_2021.fillna(Jejudo_2021.mean())\n",
        "Chungcheongnamdo_2021 = Chungcheongnamdo_2021.fillna(Chungcheongnamdo_2021.mean())\n",
        "Chungcheongbukdo_2021 = Chungcheongbukdo_2021.fillna(Chungcheongbukdo_2021.mean())"
      ],
      "metadata": {
        "id": "Pcx4MWtlmb9s"
      },
      "execution_count": null,
      "outputs": []
    },
    {
      "cell_type": "code",
      "source": [
        "Gangwondo_2022 = Gangwondo_2022.fillna(Gangwondo_2022.mean())\n",
        "Gyeonggido_2022 = Gyeonggido_2022.fillna(Gyeonggido_2022.mean())\n",
        "Gyeongsangnamdo_2022 = Gyeongsangnamdo_2022.fillna(Gyeongsangnamdo_2022.mean())\n",
        "Gyeongsangbukdo_2022 = Gyeongsangbukdo_2022.fillna(Gyeongsangbukdo_2022.mean())\n",
        "Gwangjusi_2022 = Gwangjusi_2022.fillna(Gwangjusi_2022.mean())\n",
        "Daegusi_2022 = Daegusi_2022.fillna(Daegusi_2022.mean())\n",
        "Daejeonsi_2022 = Daejeonsi_2022.fillna(Daejeonsi_2022.mean())\n",
        "Busansi_2022 = Busansi_2022.fillna(Busansi_2022.mean())\n",
        "Seoulsi_2022 = Seoulsi_2022.fillna(Seoulsi_2022.mean())\n",
        "Sejongsi_2022 = Sejongsi_2022.fillna(Sejongsi_2022.mean())\n",
        "Ulsansi_2022 = Ulsansi_2022.fillna(Ulsansi_2022.mean())\n",
        "Incheonsi_2022 = Incheonsi_2022.fillna(Incheonsi_2022.mean())\n",
        "Jeollanamdo_2022 = Jeollanamdo_2022.fillna(Jeollanamdo_2022.mean())\n",
        "Jeollabukdo_2022 = Jeollabukdo_2022.fillna(Jeollabukdo_2022.mean())\n",
        "Jejudo_2022 = Jejudo_2022.fillna(Jejudo_2022.mean())\n",
        "Chungcheongnamdo_2022 = Chungcheongnamdo_2022.fillna(Chungcheongnamdo_2022.mean())\n",
        "Chungcheongbukdo_2022 = Chungcheongbukdo_2022.fillna(Chungcheongbukdo_2022.mean())"
      ],
      "metadata": {
        "id": "glRU662Vm9gB"
      },
      "execution_count": null,
      "outputs": []
    },
    {
      "cell_type": "code",
      "source": [
        "Gangwondo_2023 = Gangwondo_2023.fillna(Gangwondo_2023.mean())\n",
        "Gyeonggido_2023 = Gyeonggido_2023.fillna(Gyeonggido_2023.mean())\n",
        "Gyeongsangnamdo_2023 = Gyeongsangnamdo_2023.fillna(Gyeongsangnamdo_2023.mean())\n",
        "Gyeongsangbukdo_2023 = Gyeongsangbukdo_2023.fillna(Gyeongsangbukdo_2023.mean())\n",
        "Gwangjusi_2023 = Gwangjusi_2023.fillna(Gwangjusi_2023.mean())\n",
        "Daegusi_2023 = Daegusi_2023.fillna(Daegusi_2023.mean())\n",
        "Daejeonsi_2023 = Daejeonsi_2023.fillna(Daejeonsi_2023.mean())\n",
        "Busansi_2023 = Busansi_2023.fillna(Busansi_2023.mean())\n",
        "Seoulsi_2023 = Seoulsi_2023.fillna(Seoulsi_2023.mean())\n",
        "Sejongsi_2023 = Sejongsi_2023.fillna(Sejongsi_2023.mean())\n",
        "Ulsansi_2023 = Ulsansi_2023.fillna(Ulsansi_2023.mean())\n",
        "Incheonsi_2023 = Incheonsi_2023.fillna(Incheonsi_2023.mean())\n",
        "Jeollanamdo_2023 = Jeollanamdo_2023.fillna(Jeollanamdo_2023.mean())\n",
        "Jeollabukdo_2023 = Jeollabukdo_2023.fillna(Jeollabukdo_2023.mean())\n",
        "Jejudo_2023 = Jejudo_2023.fillna(Jejudo_2023.mean())\n",
        "Chungcheongnamdo_2023 = Chungcheongnamdo_2023.fillna(Chungcheongnamdo_2023.mean())\n",
        "Chungcheongbukdo_2023 = Chungcheongbukdo_2023.fillna(Chungcheongbukdo_2023.mean())"
      ],
      "metadata": {
        "id": "06XwDPmAnV9O"
      },
      "execution_count": null,
      "outputs": []
    },
    {
      "cell_type": "code",
      "source": [
        "Gangwondo_test = Gangwondo_test.fillna(Gangwondo_test.mean())\n",
        "Gyeonggido_test = Gyeonggido_test.fillna(Gyeonggido_test.mean())\n",
        "Gyeongsangnamdo_test = Gyeongsangnamdo_test.fillna(Gyeongsangnamdo_test.mean())\n",
        "Gyeongsangbukdo_test = Gyeongsangbukdo_test.fillna(Gyeongsangbukdo_test.mean())\n",
        "Gwangjusi_test = Gwangjusi_test.fillna(Gwangjusi_test.mean())\n",
        "Daegusi_test = Daegusi_test.fillna(Daegusi_test.mean())\n",
        "Daejeonsi_test = Daejeonsi_test.fillna(Daejeonsi_test.mean())\n",
        "Busansi_test = Busansi_test.fillna(Busansi_test.mean())\n",
        "Seoulsi_test = Seoulsi_test.fillna(Seoulsi_test.mean())\n",
        "Sejongsi_test = Sejongsi_test.fillna(Sejongsi_test.mean())\n",
        "Ulsansi_test= Ulsansi_test.fillna(Ulsansi_test.mean())\n",
        "Incheonsi_test = Incheonsi_test.fillna(Incheonsi_test.mean())\n",
        "Jeollanamdo_test = Jeollanamdo_test.fillna(Jeollanamdo_test.mean())\n",
        "Jeollabukdo_test = Jeollabukdo_test.fillna(Jeollabukdo_test.mean())\n",
        "Jejudo_test = Jejudo_test.fillna(Jejudo_test.mean())\n",
        "Chungcheongnamdo_test = Chungcheongnamdo_test.fillna(Chungcheongnamdo_test.mean())\n",
        "Chungcheongbukdo_test = Chungcheongbukdo_test.fillna(Chungcheongbukdo_test.mean())"
      ],
      "metadata": {
        "id": "OvPl7dce_QAD"
      },
      "execution_count": null,
      "outputs": []
    },
    {
      "cell_type": "code",
      "execution_count": null,
      "metadata": {
        "id": "ihZIWHZ82gLi"
      },
      "outputs": [],
      "source": [
        "# 시도별 날씨데이터를 합치기\n",
        "sido = pd.concat([Gangwondo_2020, Gyeonggido_2020, Gyeongsangnamdo_2020,Gyeongsangbukdo_2020, Gwangjusi_2020,Daegusi_2020, Daejeonsi_2020, Busansi_2020,\n",
        "           Seoulsi_2020, Sejongsi_2020,Ulsansi_2020, Incheonsi_2020, Jeollanamdo_2020, Jeollabukdo_2020, Jejudo_2020, Chungcheongnamdo_2020, Chungcheongbukdo_2020,\n",
        "                  Gangwondo_2021, Gyeonggido_2021, Gyeongsangnamdo_2021,Gyeongsangbukdo_2021, Gwangjusi_2021,Daegusi_2021, Daejeonsi_2021, Busansi_2021,\n",
        "           Seoulsi_2021, Sejongsi_2021,Ulsansi_2021, Incheonsi_2021, Jeollanamdo_2021, Jeollabukdo_2021, Jejudo_2021, Chungcheongnamdo_2021, Chungcheongbukdo_2021,\n",
        "                  Gangwondo_2022, Gyeonggido_2022, Gyeongsangnamdo_2022,Gyeongsangbukdo_2022, Gwangjusi_2022,Daegusi_2022, Daejeonsi_2022, Busansi_2022,\n",
        "           Seoulsi_2022, Sejongsi_2022,Ulsansi_2022, Incheonsi_2022, Jeollanamdo_2022, Jeollabukdo_2022, Jejudo_2022, Chungcheongnamdo_2022, Chungcheongbukdo_2022,\n",
        "                  Gangwondo_2023, Gyeonggido_2023, Gyeongsangnamdo_2023,Gyeongsangbukdo_2023, Gwangjusi_2023,Daegusi_2023, Daejeonsi_2023, Busansi_2023,\n",
        "           Seoulsi_2023, Sejongsi_2023, Ulsansi_2023, Incheonsi_2023, Jeollanamdo_2023, Jeollabukdo_2023, Jejudo_2023, Chungcheongnamdo_2023, Chungcheongbukdo_2023], axis = 0)"
      ]
    },
    {
      "cell_type": "code",
      "source": [
        "# 시도별 날씨데이터를 합치기\n",
        "sido_test = pd.concat([Gangwondo_test, Gyeonggido_test, Gyeongsangnamdo_test,Gyeongsangbukdo_test, Gwangjusi_test,Daegusi_test, Daejeonsi_test, Busansi_test,\n",
        "           Seoulsi_test, Sejongsi_test, Ulsansi_test, Incheonsi_test, Jeollanamdo_test, Jeollabukdo_test, Jejudo_test, Chungcheongnamdo_test, Chungcheongbukdo_test], axis = 0)"
      ],
      "metadata": {
        "id": "pWTWyCXQ_yPt"
      },
      "execution_count": null,
      "outputs": []
    },
    {
      "cell_type": "code",
      "execution_count": null,
      "metadata": {
        "id": "euLKg8uz3jqC"
      },
      "outputs": [],
      "source": [
        "# 일시별 날씨데이터의 평균을 데이터프레임 weather에 저장\n",
        "weather = sido.groupby('일시').mean()\n",
        "weather = weather.reset_index()"
      ]
    },
    {
      "cell_type": "code",
      "source": [
        "# 일시별 날씨데이터의 평균을 데이터프레임 weather에 저장\n",
        "weather_test = sido_test.groupby('일시').mean()\n",
        "weather_test = weather_test.reset_index()"
      ],
      "metadata": {
        "id": "z5lu50yWAHWq"
      },
      "execution_count": null,
      "outputs": []
    },
    {
      "cell_type": "code",
      "execution_count": null,
      "metadata": {
        "id": "fjhe-yVU5BPN"
      },
      "outputs": [],
      "source": [
        "weather['일시'] = pd.to_datetime(weather['일시'])\n",
        "weather_test['일시'] = pd.to_datetime(weather_test['일시'])"
      ]
    },
    {
      "cell_type": "markdown",
      "metadata": {
        "id": "kI9vKRf8VLaW"
      },
      "source": [
        "#### (2) 전력데이터"
      ]
    },
    {
      "cell_type": "code",
      "execution_count": null,
      "metadata": {
        "id": "VzCENWcSQjhV"
      },
      "outputs": [],
      "source": [
        "# datetime 형태로 바꾸기\n",
        "power_1['기준일시'] = pd.to_datetime(power_1['기준일시'])\n",
        "power_2['기준일시'] = pd.to_datetime(power_2['기준일시'])"
      ]
    },
    {
      "cell_type": "code",
      "execution_count": null,
      "metadata": {
        "id": "NfNVX08ZNVkl"
      },
      "outputs": [],
      "source": [
        "# power 2022년 3월 31일까지 데이터 불러오기\n",
        "power_2022 = power_1[(power_1['기준일시'] >= datetime(2020,1,1, 0, 0)) & (power_1['기준일시'] <= datetime(2022,3,31, 23, 59))]\n",
        "# power 2023년 3월 12일까지 데이터 불러오기\n",
        "power_2023 = power_2[(power_2['기준일시'] >= datetime(2022,4,1, 0, 0)) & (power_2['기준일시'] <= datetime(2023,3,12, 23, 59))]\n",
        "# 2023.03.13 - 2023.03.19 예측을 위한 데이터\n",
        "power_test = power_2[(power_2['기준일시'] >= datetime(2023,3,13, 0, 0)) & (power_2['기준일시'] <= datetime(2023,3,20, 5, 59))]"
      ]
    },
    {
      "cell_type": "code",
      "source": [
        "power = pd.concat([power_2022, power_2023], axis = 0)"
      ],
      "metadata": {
        "id": "LBXn4EVHtg2f"
      },
      "execution_count": null,
      "outputs": []
    },
    {
      "cell_type": "markdown",
      "source": [
        "#### (3) 발전량 데이터"
      ],
      "metadata": {
        "id": "85WBtOOJ8ivR"
      }
    },
    {
      "cell_type": "code",
      "source": [
        "# datetime 형태로 바꾸기\n",
        "energy1['거래일자'] = pd.to_datetime(energy1['거래일자'])\n",
        "energy2['거래일자'] = pd.to_datetime(energy2['거래일자'])"
      ],
      "metadata": {
        "id": "p5lJysQmcsXf"
      },
      "execution_count": null,
      "outputs": []
    },
    {
      "cell_type": "code",
      "source": [
        "# 2020년 이후 데이터 불러오기\n",
        "from datetime import datetime\n",
        "energy_2020 = energy1[energy1['거래일자'] >= datetime(2020,1,1, 0, 0)]\n",
        "energy_2023 = energy2[energy2['거래일자'] <= datetime(2023,3,20, 7, 0)]"
      ],
      "metadata": {
        "id": "aAUXmUf0dDAN"
      },
      "execution_count": null,
      "outputs": []
    },
    {
      "cell_type": "code",
      "source": [
        "# 컬럼명 지정\n",
        "energy_2020.columns = ['거래일자', '거래시간', '지역', '태양광 발전량', '풍력 발전량']\n",
        "energy_2023.columns = ['거래일자', '거래시간', '지역', '태양광 발전량', '풍력 발전량']"
      ],
      "metadata": {
        "id": "vnvT8sbgkuZw"
      },
      "execution_count": null,
      "outputs": []
    },
    {
      "cell_type": "code",
      "source": [
        "# 2020년 1월 ~ 2023년 3월 20일 데이터 합치기\n",
        "energy = pd.concat([energy_2020, energy_2023], axis = 0)"
      ],
      "metadata": {
        "id": "KmNcV4nadxWC"
      },
      "execution_count": null,
      "outputs": []
    },
    {
      "cell_type": "markdown",
      "source": [
        "- 결측치 채우기"
      ],
      "metadata": {
        "id": "EDhfUVZLmeJD"
      }
    },
    {
      "cell_type": "code",
      "source": [
        "# 풍력발전량의 결측은 0으로 대치\n",
        "energy['풍력 발전량'] = energy['풍력 발전량'].fillna(0)"
      ],
      "metadata": {
        "id": "_a8y197QfwMe"
      },
      "execution_count": null,
      "outputs": []
    },
    {
      "cell_type": "code",
      "execution_count": null,
      "metadata": {
        "id": "wGh50yZqfwgM"
      },
      "outputs": [],
      "source": [
        "# 공백(결측) 데이터를 0으로 변환\n",
        "energy['태양광 발전량'] = energy['태양광 발전량'].replace('   ', 0)\n",
        "energy['풍력 발전량'] = energy['풍력 발전량'].replace('   ', 0)"
      ]
    },
    {
      "cell_type": "code",
      "execution_count": null,
      "metadata": {
        "id": "SmUaGFAxm_ht"
      },
      "outputs": [],
      "source": [
        "# 숫자 데이터에 포함된 콤마를 공백으로 바꿔주기(콤마 때문에 문자로 인식하는중)\n",
        "for i in range(len(energy)) :\n",
        "  energy.iloc[i, 3] = str(energy.iloc[i, 3]).replace(',', '')"
      ]
    },
    {
      "cell_type": "code",
      "execution_count": null,
      "metadata": {
        "id": "q6RwIBAYiIV5"
      },
      "outputs": [],
      "source": [
        "# 태양광 발전량. 풍력 발전량을 숫자 타입으로 변경\n",
        "energy['태양광 발전량'] = energy['태양광 발전량'].astype('float')\n",
        "energy['풍력 발전량'] = energy['풍력 발전량'].astype('float')"
      ]
    },
    {
      "cell_type": "code",
      "source": [
        "energy = energy.reset_index(drop = True)"
      ],
      "metadata": {
        "id": "QHLL-wZiqwr0"
      },
      "execution_count": null,
      "outputs": []
    },
    {
      "cell_type": "code",
      "source": [
        "# 거래일자, 거래시간 변수를 이용하여 파생변수 기준일시 생성\n",
        "from datetime import datetime\n",
        "year_energy = energy['거래일자'].dt.year\n",
        "month_energy = energy['거래일자'].dt.month\n",
        "day_energy = energy['거래일자'].dt.day\n",
        "for i in range(len(energy)):\n",
        "  energy.loc[i,'기준일시'] = datetime(year_energy[i], month_energy[i], day_energy[i], energy.iloc[i,1]-1) # 0~23시로 바꾸기 위해 -1을 해주었음"
      ],
      "metadata": {
        "id": "SyJbl9bWesHi"
      },
      "execution_count": null,
      "outputs": []
    },
    {
      "cell_type": "code",
      "source": [
        "# 필요하지 않은 변수 제거\n",
        "energy_total = energy.drop(['거래일자','거래시간','지역'],axis = 1)"
      ],
      "metadata": {
        "id": "ctB0tApVfk3c"
      },
      "execution_count": null,
      "outputs": []
    },
    {
      "cell_type": "code",
      "source": [
        "# 기준일시를 기준으로 모든 지역 데이터 평균 값 이용\n",
        "energy_total= energy_total.groupby('기준일시').mean()\n",
        "energy_total = energy_total.reset_index()"
      ],
      "metadata": {
        "id": "QreTX5jFfnMY"
      },
      "execution_count": null,
      "outputs": []
    },
    {
      "cell_type": "code",
      "source": [
        "energy_train = energy_total[energy_total['기준일시'] <= datetime(2023,3,12, 23, 0)]\n",
        "energy_test = energy_total[(energy_total['기준일시'] >= datetime(2023,3,13, 0, 0)) & (energy_total['기준일시'] <= datetime(2023,3,20,6,0))]"
      ],
      "metadata": {
        "id": "CNNVpydcykLX"
      },
      "execution_count": null,
      "outputs": []
    },
    {
      "cell_type": "markdown",
      "metadata": {
        "id": "VkUiP6Nb7qQa"
      },
      "source": [
        "#### (4) join/merge"
      ]
    },
    {
      "cell_type": "markdown",
      "source": [
        "- power, weather 데이터 합치기"
      ],
      "metadata": {
        "id": "4nhSwwuq9WqE"
      }
    },
    {
      "cell_type": "code",
      "execution_count": null,
      "metadata": {
        "id": "srp79peI8iyt"
      },
      "outputs": [],
      "source": [
        "weather.rename(columns = {'일시' : '기준일시'}, inplace = True)\n",
        "weather_test.rename(columns = {'일시' : '기준일시'}, inplace = True)"
      ]
    },
    {
      "cell_type": "code",
      "execution_count": null,
      "metadata": {
        "id": "Z5_oPoPX-5lK"
      },
      "outputs": [],
      "source": [
        "# 전력 데이터와 날씨데이터 합치기\n",
        "data = pd.merge(power, weather, left_on = [power['기준일시'].dt.year,power['기준일시'].dt.month,power['기준일시'].dt.day,power['기준일시'].dt.hour],\n",
        "         right_on = [weather['기준일시'].dt.year,weather['기준일시'].dt.month,weather['기준일시'].dt.day,weather['기준일시'].dt.hour])\n",
        "\n",
        "test = pd.merge(power_test, weather_test, left_on = [power_test['기준일시'].dt.year,power_test['기준일시'].dt.month,power_test['기준일시'].dt.day,power_test['기준일시'].dt.hour],\n",
        "         right_on = [weather_test['기준일시'].dt.year,weather_test['기준일시'].dt.month,weather_test['기준일시'].dt.day,weather_test['기준일시'].dt.hour])"
      ]
    },
    {
      "cell_type": "code",
      "execution_count": null,
      "metadata": {
        "id": "_XLuDB75Bde0"
      },
      "outputs": [],
      "source": [
        "# 분석에 필요하지 않은 컬럼 제거\n",
        "data.drop(['key_0', 'key_1', 'key_2','key_3', '기준일시_y'], axis = 1, inplace = True)\n",
        "test.drop(['key_0', 'key_1', 'key_2','key_3', '기준일시_y'], axis = 1, inplace = True)"
      ]
    },
    {
      "cell_type": "code",
      "execution_count": null,
      "metadata": {
        "id": "ejfVvJBBBufN"
      },
      "outputs": [],
      "source": [
        "data.rename(columns = {'기준일시_x' : '기준일시'}, inplace = True)\n",
        "test.rename(columns = {'기준일시_x' : '기준일시'}, inplace = True)"
      ]
    },
    {
      "cell_type": "markdown",
      "source": [
        "- data, energy 데이터 합치기"
      ],
      "metadata": {
        "id": "KA5183Os9a9L"
      }
    },
    {
      "cell_type": "code",
      "source": [
        "data_join = pd.merge(data, energy_train, left_on = [data['기준일시'].dt.year,data['기준일시'].dt.month,data['기준일시'].dt.day,data['기준일시'].dt.hour],\n",
        "         right_on = [energy_train['기준일시'].dt.year,energy_train['기준일시'].dt.month,energy_train['기준일시'].dt.day,energy_train['기준일시'].dt.hour])"
      ],
      "metadata": {
        "id": "AhaRFHbpyaEI"
      },
      "execution_count": null,
      "outputs": []
    },
    {
      "cell_type": "code",
      "source": [
        "test_join = pd.merge(test, energy_test, left_on = [test['기준일시'].dt.year,test['기준일시'].dt.month,test['기준일시'].dt.day,test['기준일시'].dt.hour],\n",
        "         right_on = [energy_test['기준일시'].dt.year,energy_test['기준일시'].dt.month,energy_test['기준일시'].dt.day,energy_test['기준일시'].dt.hour])"
      ],
      "metadata": {
        "id": "5hOQOtQKzuvF"
      },
      "execution_count": null,
      "outputs": []
    },
    {
      "cell_type": "code",
      "execution_count": null,
      "metadata": {
        "id": "-uvWj3q40IEk"
      },
      "outputs": [],
      "source": [
        "data_join.drop(['key_0', 'key_1', 'key_2','key_3', '기준일시_y'], axis = 1, inplace = True)\n",
        "test_join.drop(['key_0', 'key_1', 'key_2','key_3', '기준일시_y'], axis = 1, inplace = True)"
      ]
    },
    {
      "cell_type": "code",
      "execution_count": null,
      "metadata": {
        "id": "jPZMKOLI0IFE"
      },
      "outputs": [],
      "source": [
        "data_join.rename(columns = {'기준일시_x' : '기준일시'}, inplace = True)\n",
        "test_join.rename(columns = {'기준일시_x' : '기준일시'}, inplace = True)"
      ]
    },
    {
      "cell_type": "markdown",
      "source": [
        "- 변수 month 만들기"
      ],
      "metadata": {
        "id": "3F5NLXz99dtv"
      }
    },
    {
      "cell_type": "code",
      "source": [
        "# 월 변수 만들기\n",
        "data_join['month'] = data_join['기준일시'].dt.month\n",
        "test_join['month'] = test_join['기준일시'].dt.month"
      ],
      "metadata": {
        "id": "uRjvMXyq8fk-"
      },
      "execution_count": null,
      "outputs": []
    },
    {
      "cell_type": "markdown",
      "source": [
        "- 변수명 지정"
      ],
      "metadata": {
        "id": "_qL8sXDp9tG6"
      }
    },
    {
      "cell_type": "markdown",
      "source": [
        "sd : 기준일시 (standard date)\n",
        "\n",
        "sc : 공급능력 (supply capacity)\n",
        "\n",
        "cd : 현재수요 (current demand)\n",
        "\n",
        "mpd : 최대예측수요 (maximum predicted demand)\n",
        "\n",
        "sr : 공급예비력 (supply reserve)\n",
        "\n",
        "srr : 공급예비율 (supply reserve ratio)\n",
        "\n",
        "or : 운영예비력 (operating resrve)\n",
        "\n",
        "orr : 운영예비율 (operating reserve ratio)\n",
        "\n",
        "p : 지점 (point)\n",
        "\n",
        "T : 기온 (temperatures)\n",
        "\n",
        "pt : 강수량 (precipitation)\n",
        "\n",
        "ws : 풍속 (wind speed)\n",
        "\n",
        "h : 습도 (Humidity)\n",
        "\n",
        "dp : 이슬점온도(dew point)\n",
        "\n",
        "ap : 현지기압 (atmospheric pressure)\n",
        "\n",
        "gt : 지면온도(groung temperature)\n",
        "\n",
        "s : 태양광발전량\n",
        "\n",
        "w : 풍력발전량\n",
        "\n",
        "month : 월"
      ],
      "metadata": {
        "id": "UUhcevzFOkCs"
      }
    },
    {
      "cell_type": "code",
      "execution_count": null,
      "metadata": {
        "id": "5KuAh2ldPYPw"
      },
      "outputs": [],
      "source": [
        "data_join.columns = ['sd', 'sc', 'cd', 'mpd', 'sr', 'srr',\n",
        "       'or', 'orr', 'p', 'T', 'pt', 'ws', 'h', 'dp', 'ap',\n",
        "       'gt','s','w','month']\n",
        "\n",
        "test_join.columns = ['sd', 'sc', 'cd', 'mpd', 'sr', 'srr',\n",
        "       'or', 'orr', 'p', 'T', 'pt', 'ws', 'h', 'dp', 'ap',\n",
        "       'gt', 's', 'w', 'month']"
      ]
    },
    {
      "cell_type": "markdown",
      "metadata": {
        "id": "FZAO_wEXKXQo"
      },
      "source": [
        "#### (5) 변수간 상관관계 파악"
      ]
    },
    {
      "cell_type": "code",
      "execution_count": null,
      "metadata": {
        "colab": {
          "base_uri": "https://localhost:8080/",
          "height": 452
        },
        "id": "aqpuO5jPPzsK",
        "outputId": "86a432af-6e3a-4a4e-d728-6431cf6062b8"
      },
      "outputs": [
        {
          "output_type": "display_data",
          "data": {
            "text/plain": [
              "<Figure size 480x480 with 2 Axes>"
            ],
            "image/png": "[encoded data removed]"
          },
          "metadata": {}
        }
      ],
      "source": [
        "def show_heatmap(data):\n",
        "    plt.matshow(data.corr())\n",
        "    plt.xticks(range(data.shape[1]), data.columns, fontsize=14, rotation=90)\n",
        "    plt.gca().xaxis.tick_bottom()\n",
        "    plt.yticks(range(data.shape[1]), data.columns, fontsize=14)\n",
        "\n",
        "    cb = plt.colorbar()\n",
        "    cb.ax.tick_params(labelsize=14)\n",
        "    plt.title(\"Feature Correlation Heatmap\", fontsize=14)\n",
        "    plt.show()\n",
        "\n",
        "\n",
        "show_heatmap(data_join)"
      ]
    },
    {
      "cell_type": "code",
      "execution_count": null,
      "metadata": {
        "id": "UujbCtLlQPWJ",
        "colab": {
          "base_uri": "https://localhost:8080/",
          "height": 665
        },
        "outputId": "a09bf036-53e9-4577-f0f6-40c9b7e10233"
      },
      "outputs": [
        {
          "output_type": "execute_result",
          "data": {
            "text/plain": [
              "        sd   sc        cd       mpd        sr       srr        or       orr  \\\n",
              "sd     1.0  NaN       NaN       NaN       NaN       NaN       NaN       NaN   \n",
              "sc     NaN  1.0       NaN       NaN       NaN       NaN       NaN       NaN   \n",
              "cd     NaN  NaN  1.000000  0.780866       NaN       NaN       NaN       NaN   \n",
              "mpd    NaN  NaN  0.780866  1.000000       NaN       NaN       NaN       NaN   \n",
              "sr     NaN  NaN       NaN       NaN  1.000000  0.951477       NaN       NaN   \n",
              "srr    NaN  NaN       NaN       NaN  0.951477  1.000000       NaN       NaN   \n",
              "or     NaN  NaN       NaN       NaN       NaN       NaN  1.000000  0.927424   \n",
              "orr    NaN  NaN       NaN       NaN       NaN       NaN  0.927424  1.000000   \n",
              "p      NaN  NaN       NaN       NaN       NaN       NaN       NaN       NaN   \n",
              "T      NaN  NaN       NaN       NaN       NaN       NaN       NaN       NaN   \n",
              "pt     NaN  NaN       NaN       NaN       NaN       NaN       NaN       NaN   \n",
              "ws     NaN  NaN       NaN       NaN       NaN       NaN       NaN       NaN   \n",
              "h      NaN  NaN       NaN       NaN       NaN       NaN       NaN       NaN   \n",
              "dp     NaN  NaN       NaN       NaN       NaN       NaN       NaN       NaN   \n",
              "ap     NaN  NaN       NaN       NaN       NaN       NaN       NaN       NaN   \n",
              "gt     NaN  NaN       NaN       NaN       NaN       NaN       NaN       NaN   \n",
              "s      NaN  NaN       NaN       NaN       NaN       NaN       NaN       NaN   \n",
              "w      NaN  NaN       NaN       NaN       NaN       NaN       NaN       NaN   \n",
              "month  NaN  NaN       NaN       NaN       NaN       NaN       NaN       NaN   \n",
              "\n",
              "         p         T   pt   ws    h        dp   ap        gt    s    w  month  \n",
              "sd     NaN       NaN  NaN  NaN  NaN       NaN  NaN       NaN  NaN  NaN    NaN  \n",
              "sc     NaN       NaN  NaN  NaN  NaN       NaN  NaN       NaN  NaN  NaN    NaN  \n",
              "cd     NaN       NaN  NaN  NaN  NaN       NaN  NaN       NaN  NaN  NaN    NaN  \n",
              "mpd    NaN       NaN  NaN  NaN  NaN       NaN  NaN       NaN  NaN  NaN    NaN  \n",
              "sr     NaN       NaN  NaN  NaN  NaN       NaN  NaN       NaN  NaN  NaN    NaN  \n",
              "srr    NaN       NaN  NaN  NaN  NaN       NaN  NaN       NaN  NaN  NaN    NaN  \n",
              "or     NaN       NaN  NaN  NaN  NaN       NaN  NaN       NaN  NaN  NaN    NaN  \n",
              "orr    NaN       NaN  NaN  NaN  NaN       NaN  NaN       NaN  NaN  NaN    NaN  \n",
              "p      1.0       NaN  NaN  NaN  NaN       NaN  NaN       NaN  NaN  NaN    NaN  \n",
              "T      NaN  1.000000  NaN  NaN  NaN  0.928073  NaN  0.947799  NaN  NaN    NaN  \n",
              "pt     NaN       NaN  1.0  NaN  NaN       NaN  NaN       NaN  NaN  NaN    NaN  \n",
              "ws     NaN       NaN  NaN  1.0  NaN       NaN  NaN       NaN  NaN  NaN    NaN  \n",
              "h      NaN       NaN  NaN  NaN  1.0       NaN  NaN       NaN  NaN  NaN    NaN  \n",
              "dp     NaN  0.928073  NaN  NaN  NaN  1.000000  NaN  0.810976  NaN  NaN    NaN  \n",
              "ap     NaN       NaN  NaN  NaN  NaN       NaN  1.0       NaN  NaN  NaN    NaN  \n",
              "gt     NaN  0.947799  NaN  NaN  NaN  0.810976  NaN  1.000000  NaN  NaN    NaN  \n",
              "s      NaN       NaN  NaN  NaN  NaN       NaN  NaN       NaN  1.0  NaN    NaN  \n",
              "w      NaN       NaN  NaN  NaN  NaN       NaN  NaN       NaN  NaN  1.0    NaN  \n",
              "month  NaN       NaN  NaN  NaN  NaN       NaN  NaN       NaN  NaN  NaN    1.0  "
            ],
            "text/html": [
              "\n",
              "  <div id=\"df-de1eaa5f-c3d4-4e69-b578-2cc0c413bc4a\" class=\"colab-df-container\">\n",
              "    <div>\n",
              "<style scoped>\n",
              "    .dataframe tbody tr th:only-of-type {\n",
              "        vertical-align: middle;\n",
              "    }\n",
              "\n",
              "    .dataframe tbody tr th {\n",
              "        vertical-align: top;\n",
              "    }\n",
              "\n",
              "    .dataframe thead th {\n",
              "        text-align: right;\n",
              "    }\n",
              "</style>\n",
              "<table border=\"1\" class=\"dataframe\">\n",
              "  <thead>\n",
              "    <tr style=\"text-align: right;\">\n",
              "      <th></th>\n",
              "      <th>sd</th>\n",
              "      <th>sc</th>\n",
              "      <th>cd</th>\n",
              "      <th>mpd</th>\n",
              "      <th>sr</th>\n",
              "      <th>srr</th>\n",
              "      <th>or</th>\n",
              "      <th>orr</th>\n",
              "      <th>p</th>\n",
              "      <th>T</th>\n",
              "      <th>pt</th>\n",
              "      <th>ws</th>\n",
              "      <th>h</th>\n",
              "      <th>dp</th>\n",
              "      <th>ap</th>\n",
              "      <th>gt</th>\n",
              "      <th>s</th>\n",
              "      <th>w</th>\n",
              "      <th>month</th>\n",
              "    </tr>\n",
              "  </thead>\n",
              "  <tbody>\n",
              "    <tr>\n",
              "      <th>sd</th>\n",
              "      <td>1.0</td>\n",
              "      <td>NaN</td>\n",
              "      <td>NaN</td>\n",
              "      <td>NaN</td>\n",
              "      <td>NaN</td>\n",
              "      <td>NaN</td>\n",
              "      <td>NaN</td>\n",
              "      <td>NaN</td>\n",
              "      <td>NaN</td>\n",
              "      <td>NaN</td>\n",
              "      <td>NaN</td>\n",
              "      <td>NaN</td>\n",
              "      <td>NaN</td>\n",
              "      <td>NaN</td>\n",
              "      <td>NaN</td>\n",
              "      <td>NaN</td>\n",
              "      <td>NaN</td>\n",
              "      <td>NaN</td>\n",
              "      <td>NaN</td>\n",
              "    </tr>\n",
              "    <tr>\n",
              "      <th>sc</th>\n",
              "      <td>NaN</td>\n",
              "      <td>1.0</td>\n",
              "      <td>NaN</td>\n",
              "      <td>NaN</td>\n",
              "      <td>NaN</td>\n",
              "      <td>NaN</td>\n",
              "      <td>NaN</td>\n",
              "      <td>NaN</td>\n",
              "      <td>NaN</td>\n",
              "      <td>NaN</td>\n",
              "      <td>NaN</td>\n",
              "      <td>NaN</td>\n",
              "      <td>NaN</td>\n",
              "      <td>NaN</td>\n",
              "      <td>NaN</td>\n",
              "      <td>NaN</td>\n",
              "      <td>NaN</td>\n",
              "      <td>NaN</td>\n",
              "      <td>NaN</td>\n",
              "    </tr>\n",
              "    <tr>\n",
              "      <th>cd</th>\n",
              "      <td>NaN</td>\n",
              "      <td>NaN</td>\n",
              "      <td>1.000000</td>\n",
              "      <td>0.780866</td>\n",
              "      <td>NaN</td>\n",
              "      <td>NaN</td>\n",
              "      <td>NaN</td>\n",
              "      <td>NaN</td>\n",
              "      <td>NaN</td>\n",
              "      <td>NaN</td>\n",
              "      <td>NaN</td>\n",
              "      <td>NaN</td>\n",
              "      <td>NaN</td>\n",
              "      <td>NaN</td>\n",
              "      <td>NaN</td>\n",
              "      <td>NaN</td>\n",
              "      <td>NaN</td>\n",
              "      <td>NaN</td>\n",
              "      <td>NaN</td>\n",
              "    </tr>\n",
              "    <tr>\n",
              "      <th>mpd</th>\n",
              "      <td>NaN</td>\n",
              "      <td>NaN</td>\n",
              "      <td>0.780866</td>\n",
              "      <td>1.000000</td>\n",
              "      <td>NaN</td>\n",
              "      <td>NaN</td>\n",
              "      <td>NaN</td>\n",
              "      <td>NaN</td>\n",
              "      <td>NaN</td>\n",
              "      <td>NaN</td>\n",
              "      <td>NaN</td>\n",
              "      <td>NaN</td>\n",
              "      <td>NaN</td>\n",
              "      <td>NaN</td>\n",
              "      <td>NaN</td>\n",
              "      <td>NaN</td>\n",
              "      <td>NaN</td>\n",
              "      <td>NaN</td>\n",
              "      <td>NaN</td>\n",
              "    </tr>\n",
              "    <tr>\n",
              "      <th>sr</th>\n",
              "      <td>NaN</td>\n",
              "      <td>NaN</td>\n",
              "      <td>NaN</td>\n",
              "      <td>NaN</td>\n",
              "      <td>1.000000</td>\n",
              "      <td>0.951477</td>\n",
              "      <td>NaN</td>\n",
              "      <td>NaN</td>\n",
              "      <td>NaN</td>\n",
              "      <td>NaN</td>\n",
              "      <td>NaN</td>\n",
              "      <td>NaN</td>\n",
              "      <td>NaN</td>\n",
              "      <td>NaN</td>\n",
              "      <td>NaN</td>\n",
              "      <td>NaN</td>\n",
              "      <td>NaN</td>\n",
              "      <td>NaN</td>\n",
              "      <td>NaN</td>\n",
              "    </tr>\n",
              "    <tr>\n",
              "      <th>srr</th>\n",
              "      <td>NaN</td>\n",
              "      <td>NaN</td>\n",
              "      <td>NaN</td>\n",
              "      <td>NaN</td>\n",
              "      <td>0.951477</td>\n",
              "      <td>1.000000</td>\n",
              "      <td>NaN</td>\n",
              "      <td>NaN</td>\n",
              "      <td>NaN</td>\n",
              "      <td>NaN</td>\n",
              "      <td>NaN</td>\n",
              "      <td>NaN</td>\n",
              "      <td>NaN</td>\n",
              "      <td>NaN</td>\n",
              "      <td>NaN</td>\n",
              "      <td>NaN</td>\n",
              "      <td>NaN</td>\n",
              "      <td>NaN</td>\n",
              "      <td>NaN</td>\n",
              "    </tr>\n",
              "    <tr>\n",
              "      <th>or</th>\n",
              "      <td>NaN</td>\n",
              "      <td>NaN</td>\n",
              "      <td>NaN</td>\n",
              "      <td>NaN</td>\n",
              "      <td>NaN</td>\n",
              "      <td>NaN</td>\n",
              "      <td>1.000000</td>\n",
              "      <td>0.927424</td>\n",
              "      <td>NaN</td>\n",
              "      <td>NaN</td>\n",
              "      <td>NaN</td>\n",
              "      <td>NaN</td>\n",
              "      <td>NaN</td>\n",
              "      <td>NaN</td>\n",
              "      <td>NaN</td>\n",
              "      <td>NaN</td>\n",
              "      <td>NaN</td>\n",
              "      <td>NaN</td>\n",
              "      <td>NaN</td>\n",
              "    </tr>\n",
              "    <tr>\n",
              "      <th>orr</th>\n",
              "      <td>NaN</td>\n",
              "      <td>NaN</td>\n",
              "      <td>NaN</td>\n",
              "      <td>NaN</td>\n",
              "      <td>NaN</td>\n",
              "      <td>NaN</td>\n",
              "      <td>0.927424</td>\n",
              "      <td>1.000000</td>\n",
              "      <td>NaN</td>\n",
              "      <td>NaN</td>\n",
              "      <td>NaN</td>\n",
              "      <td>NaN</td>\n",
              "      <td>NaN</td>\n",
              "      <td>NaN</td>\n",
              "      <td>NaN</td>\n",
              "      <td>NaN</td>\n",
              "      <td>NaN</td>\n",
              "      <td>NaN</td>\n",
              "      <td>NaN</td>\n",
              "    </tr>\n",
              "    <tr>\n",
              "      <th>p</th>\n",
              "      <td>NaN</td>\n",
              "      <td>NaN</td>\n",
              "      <td>NaN</td>\n",
              "      <td>NaN</td>\n",
              "      <td>NaN</td>\n",
              "      <td>NaN</td>\n",
              "      <td>NaN</td>\n",
              "      <td>NaN</td>\n",
              "      <td>1.0</td>\n",
              "      <td>NaN</td>\n",
              "      <td>NaN</td>\n",
              "      <td>NaN</td>\n",
              "      <td>NaN</td>\n",
              "      <td>NaN</td>\n",
              "      <td>NaN</td>\n",
              "      <td>NaN</td>\n",
              "      <td>NaN</td>\n",
              "      <td>NaN</td>\n",
              "      <td>NaN</td>\n",
              "    </tr>\n",
              "    <tr>\n",
              "      <th>T</th>\n",
              "      <td>NaN</td>\n",
              "      <td>NaN</td>\n",
              "      <td>NaN</td>\n",
              "      <td>NaN</td>\n",
              "      <td>NaN</td>\n",
              "      <td>NaN</td>\n",
              "      <td>NaN</td>\n",
              "      <td>NaN</td>\n",
              "      <td>NaN</td>\n",
              "      <td>1.000000</td>\n",
              "      <td>NaN</td>\n",
              "      <td>NaN</td>\n",
              "      <td>NaN</td>\n",
              "      <td>0.928073</td>\n",
              "      <td>NaN</td>\n",
              "      <td>0.947799</td>\n",
              "      <td>NaN</td>\n",
              "      <td>NaN</td>\n",
              "      <td>NaN</td>\n",
              "    </tr>\n",
              "    <tr>\n",
              "      <th>pt</th>\n",
              "      <td>NaN</td>\n",
              "      <td>NaN</td>\n",
              "      <td>NaN</td>\n",
              "      <td>NaN</td>\n",
              "      <td>NaN</td>\n",
              "      <td>NaN</td>\n",
              "      <td>NaN</td>\n",
              "      <td>NaN</td>\n",
              "      <td>NaN</td>\n",
              "      <td>NaN</td>\n",
              "      <td>1.0</td>\n",
              "      <td>NaN</td>\n",
              "      <td>NaN</td>\n",
              "      <td>NaN</td>\n",
              "      <td>NaN</td>\n",
              "      <td>NaN</td>\n",
              "      <td>NaN</td>\n",
              "      <td>NaN</td>\n",
              "      <td>NaN</td>\n",
              "    </tr>\n",
              "    <tr>\n",
              "      <th>ws</th>\n",
              "      <td>NaN</td>\n",
              "      <td>NaN</td>\n",
              "      <td>NaN</td>\n",
              "      <td>NaN</td>\n",
              "      <td>NaN</td>\n",
              "      <td>NaN</td>\n",
              "      <td>NaN</td>\n",
              "      <td>NaN</td>\n",
              "      <td>NaN</td>\n",
              "      <td>NaN</td>\n",
              "      <td>NaN</td>\n",
              "      <td>1.0</td>\n",
              "      <td>NaN</td>\n",
              "      <td>NaN</td>\n",
              "      <td>NaN</td>\n",
              "      <td>NaN</td>\n",
              "      <td>NaN</td>\n",
              "      <td>NaN</td>\n",
              "      <td>NaN</td>\n",
              "    </tr>\n",
              "    <tr>\n",
              "      <th>h</th>\n",
              "      <td>NaN</td>\n",
              "      <td>NaN</td>\n",
              "      <td>NaN</td>\n",
              "      <td>NaN</td>\n",
              "      <td>NaN</td>\n",
              "      <td>NaN</td>\n",
              "      <td>NaN</td>\n",
              "      <td>NaN</td>\n",
              "      <td>NaN</td>\n",
              "      <td>NaN</td>\n",
              "      <td>NaN</td>\n",
              "      <td>NaN</td>\n",
              "      <td>1.0</td>\n",
              "      <td>NaN</td>\n",
              "      <td>NaN</td>\n",
              "      <td>NaN</td>\n",
              "      <td>NaN</td>\n",
              "      <td>NaN</td>\n",
              "      <td>NaN</td>\n",
              "    </tr>\n",
              "    <tr>\n",
              "      <th>dp</th>\n",
              "      <td>NaN</td>\n",
              "      <td>NaN</td>\n",
              "      <td>NaN</td>\n",
              "      <td>NaN</td>\n",
              "      <td>NaN</td>\n",
              "      <td>NaN</td>\n",
              "      <td>NaN</td>\n",
              "      <td>NaN</td>\n",
              "      <td>NaN</td>\n",
              "      <td>0.928073</td>\n",
              "      <td>NaN</td>\n",
              "      <td>NaN</td>\n",
              "      <td>NaN</td>\n",
              "      <td>1.000000</td>\n",
              "      <td>NaN</td>\n",
              "      <td>0.810976</td>\n",
              "      <td>NaN</td>\n",
              "      <td>NaN</td>\n",
              "      <td>NaN</td>\n",
              "    </tr>\n",
              "    <tr>\n",
              "      <th>ap</th>\n",
              "      <td>NaN</td>\n",
              "      <td>NaN</td>\n",
              "      <td>NaN</td>\n",
              "      <td>NaN</td>\n",
              "      <td>NaN</td>\n",
              "      <td>NaN</td>\n",
              "      <td>NaN</td>\n",
              "      <td>NaN</td>\n",
              "      <td>NaN</td>\n",
              "      <td>NaN</td>\n",
              "      <td>NaN</td>\n",
              "      <td>NaN</td>\n",
              "      <td>NaN</td>\n",
              "      <td>NaN</td>\n",
              "      <td>1.0</td>\n",
              "      <td>NaN</td>\n",
              "      <td>NaN</td>\n",
              "      <td>NaN</td>\n",
              "      <td>NaN</td>\n",
              "    </tr>\n",
              "    <tr>\n",
              "      <th>gt</th>\n",
              "      <td>NaN</td>\n",
              "      <td>NaN</td>\n",
              "      <td>NaN</td>\n",
              "      <td>NaN</td>\n",
              "      <td>NaN</td>\n",
              "      <td>NaN</td>\n",
              "      <td>NaN</td>\n",
              "      <td>NaN</td>\n",
              "      <td>NaN</td>\n",
              "      <td>0.947799</td>\n",
              "      <td>NaN</td>\n",
              "      <td>NaN</td>\n",
              "      <td>NaN</td>\n",
              "      <td>0.810976</td>\n",
              "      <td>NaN</td>\n",
              "      <td>1.000000</td>\n",
              "      <td>NaN</td>\n",
              "      <td>NaN</td>\n",
              "      <td>NaN</td>\n",
              "    </tr>\n",
              "    <tr>\n",
              "      <th>s</th>\n",
              "      <td>NaN</td>\n",
              "      <td>NaN</td>\n",
              "      <td>NaN</td>\n",
              "      <td>NaN</td>\n",
              "      <td>NaN</td>\n",
              "      <td>NaN</td>\n",
              "      <td>NaN</td>\n",
              "      <td>NaN</td>\n",
              "      <td>NaN</td>\n",
              "      <td>NaN</td>\n",
              "      <td>NaN</td>\n",
              "      <td>NaN</td>\n",
              "      <td>NaN</td>\n",
              "      <td>NaN</td>\n",
              "      <td>NaN</td>\n",
              "      <td>NaN</td>\n",
              "      <td>1.0</td>\n",
              "      <td>NaN</td>\n",
              "      <td>NaN</td>\n",
              "    </tr>\n",
              "    <tr>\n",
              "      <th>w</th>\n",
              "      <td>NaN</td>\n",
              "      <td>NaN</td>\n",
              "      <td>NaN</td>\n",
              "      <td>NaN</td>\n",
              "      <td>NaN</td>\n",
              "      <td>NaN</td>\n",
              "      <td>NaN</td>\n",
              "      <td>NaN</td>\n",
              "      <td>NaN</td>\n",
              "      <td>NaN</td>\n",
              "      <td>NaN</td>\n",
              "      <td>NaN</td>\n",
              "      <td>NaN</td>\n",
              "      <td>NaN</td>\n",
              "      <td>NaN</td>\n",
              "      <td>NaN</td>\n",
              "      <td>NaN</td>\n",
              "      <td>1.0</td>\n",
              "      <td>NaN</td>\n",
              "    </tr>\n",
              "    <tr>\n",
              "      <th>month</th>\n",
              "      <td>NaN</td>\n",
              "      <td>NaN</td>\n",
              "      <td>NaN</td>\n",
              "      <td>NaN</td>\n",
              "      <td>NaN</td>\n",
              "      <td>NaN</td>\n",
              "      <td>NaN</td>\n",
              "      <td>NaN</td>\n",
              "      <td>NaN</td>\n",
              "      <td>NaN</td>\n",
              "      <td>NaN</td>\n",
              "      <td>NaN</td>\n",
              "      <td>NaN</td>\n",
              "      <td>NaN</td>\n",
              "      <td>NaN</td>\n",
              "      <td>NaN</td>\n",
              "      <td>NaN</td>\n",
              "      <td>NaN</td>\n",
              "      <td>1.0</td>\n",
              "    </tr>\n",
              "  </tbody>\n",
              "</table>\n",
              "</div>\n",
              "    <div class=\"colab-df-buttons\">\n",
              "\n",
              "  <div class=\"colab-df-container\">\n",
              "    <button class=\"colab-df-convert\" onclick=\"convertToInteractive('df-de1eaa5f-c3d4-4e69-b578-2cc0c413bc4a')\"\n",
              "            title=\"Convert this dataframe to an interactive table.\"\n",
              "            style=\"display:none;\">\n",
              "\n",
              "  <svg xmlns=\"http://www.w3.org/2000/svg\" height=\"24px\" viewBox=\"0 -960 960 960\">\n",
              "    <path d=\"M120-120v-720h720v720H120Zm60-500h600v-160H180v160Zm220 220h160v-160H400v160Zm0 220h160v-160H400v160ZM180-400h160v-160H180v160Zm440 0h160v-160H620v160ZM180-180h160v-160H180v160Zm440 0h160v-160H620v160Z\"/>\n",
              "  </svg>\n",
              "    </button>\n",
              "\n",
              "  <style>\n",
              "    .colab-df-container {\n",
              "      display:flex;\n",
              "      gap: 12px;\n",
              "    }\n",
              "\n",
              "    .colab-df-convert {\n",
              "      background-color: #E8F0FE;\n",
              "      border: none;\n",
              "      border-radius: 50%;\n",
              "      cursor: pointer;\n",
              "      display: none;\n",
              "      fill: #1967D2;\n",
              "      height: 32px;\n",
              "      padding: 0 0 0 0;\n",
              "      width: 32px;\n",
              "    }\n",
              "\n",
              "    .colab-df-convert:hover {\n",
              "      background-color: #E2EBFA;\n",
              "      box-shadow: 0px 1px 2px rgba(60, 64, 67, 0.3), 0px 1px 3px 1px rgba(60, 64, 67, 0.15);\n",
              "      fill: #174EA6;\n",
              "    }\n",
              "\n",
              "    .colab-df-buttons div {\n",
              "      margin-bottom: 4px;\n",
              "    }\n",
              "\n",
              "    [theme=dark] .colab-df-convert {\n",
              "      background-color: #3B4455;\n",
              "      fill: #D2E3FC;\n",
              "    }\n",
              "\n",
              "    [theme=dark] .colab-df-convert:hover {\n",
              "      background-color: #434B5C;\n",
              "      box-shadow: 0px 1px 3px 1px rgba(0, 0, 0, 0.15);\n",
              "      filter: drop-shadow(0px 1px 2px rgba(0, 0, 0, 0.3));\n",
              "      fill: #FFFFFF;\n",
              "    }\n",
              "  </style>\n",
              "\n",
              "    <script>\n",
              "      const buttonEl =\n",
              "        document.querySelector('#df-de1eaa5f-c3d4-4e69-b578-2cc0c413bc4a button.colab-df-convert');\n",
              "      buttonEl.style.display =\n",
              "        google.colab.kernel.accessAllowed ? 'block' : 'none';\n",
              "\n",
              "      async function convertToInteractive(key) {\n",
              "        const element = document.querySelector('#df-de1eaa5f-c3d4-4e69-b578-2cc0c413bc4a');\n",
              "        const dataTable =\n",
              "          await google.colab.kernel.invokeFunction('convertToInteractive',\n",
              "                                                    [key], {});\n",
              "        if (!dataTable) return;\n",
              "\n",
              "        const docLinkHtml = 'Like what you see? Visit the ' +\n",
              "          '<a target=\"_blank\" href=https://colab.research.google.com/notebooks/data_table.ipynb>data table notebook</a>'\n",
              "          + ' to learn more about interactive tables.';\n",
              "        element.innerHTML = '';\n",
              "        dataTable['output_type'] = 'display_data';\n",
              "        await google.colab.output.renderOutput(dataTable, element);\n",
              "        const docLink = document.createElement('div');\n",
              "        docLink.innerHTML = docLinkHtml;\n",
              "        element.appendChild(docLink);\n",
              "      }\n",
              "    </script>\n",
              "  </div>\n",
              "\n",
              "\n",
              "<div id=\"df-c588971d-962f-4d45-b276-b712342a221e\">\n",
              "  <button class=\"colab-df-quickchart\" onclick=\"quickchart('df-c588971d-962f-4d45-b276-b712342a221e')\"\n",
              "            title=\"Suggest charts\"\n",
              "            style=\"display:none;\">\n",
              "\n",
              "<svg xmlns=\"http://www.w3.org/2000/svg\" height=\"24px\"viewBox=\"0 0 24 24\"\n",
              "     width=\"24px\">\n",
              "    <g>\n",
              "        <path d=\"M19 3H5c-1.1 0-2 .9-2 2v14c0 1.1.9 2 2 2h14c1.1 0 2-.9 2-2V5c0-1.1-.9-2-2-2zM9 17H7v-7h2v7zm4 0h-2V7h2v10zm4 0h-2v-4h2v4z\"/>\n",
              "    </g>\n",
              "</svg>\n",
              "  </button>\n",
              "\n",
              "<style>\n",
              "  .colab-df-quickchart {\n",
              "      --bg-color: #E8F0FE;\n",
              "      --fill-color: #1967D2;\n",
              "      --hover-bg-color: #E2EBFA;\n",
              "      --hover-fill-color: #174EA6;\n",
              "      --disabled-fill-color: #AAA;\n",
              "      --disabled-bg-color: #DDD;\n",
              "  }\n",
              "\n",
              "  [theme=dark] .colab-df-quickchart {\n",
              "      --bg-color: #3B4455;\n",
              "      --fill-color: #D2E3FC;\n",
              "      --hover-bg-color: #434B5C;\n",
              "      --hover-fill-color: #FFFFFF;\n",
              "      --disabled-bg-color: #3B4455;\n",
              "      --disabled-fill-color: #666;\n",
              "  }\n",
              "\n",
              "  .colab-df-quickchart {\n",
              "    background-color: var(--bg-color);\n",
              "    border: none;\n",
              "    border-radius: 50%;\n",
              "    cursor: pointer;\n",
              "    display: none;\n",
              "    fill: var(--fill-color);\n",
              "    height: 32px;\n",
              "    padding: 0;\n",
              "    width: 32px;\n",
              "  }\n",
              "\n",
              "  .colab-df-quickchart:hover {\n",
              "    background-color: var(--hover-bg-color);\n",
              "    box-shadow: 0 1px 2px rgba(60, 64, 67, 0.3), 0 1px 3px 1px rgba(60, 64, 67, 0.15);\n",
              "    fill: var(--button-hover-fill-color);\n",
              "  }\n",
              "\n",
              "  .colab-df-quickchart-complete:disabled,\n",
              "  .colab-df-quickchart-complete:disabled:hover {\n",
              "    background-color: var(--disabled-bg-color);\n",
              "    fill: var(--disabled-fill-color);\n",
              "    box-shadow: none;\n",
              "  }\n",
              "\n",
              "  .colab-df-spinner {\n",
              "    border: 2px solid var(--fill-color);\n",
              "    border-color: transparent;\n",
              "    border-bottom-color: var(--fill-color);\n",
              "    animation:\n",
              "      spin 1s steps(1) infinite;\n",
              "  }\n",
              "\n",
              "  @keyframes spin {\n",
              "    0% {\n",
              "      border-color: transparent;\n",
              "      border-bottom-color: var(--fill-color);\n",
              "      border-left-color: var(--fill-color);\n",
              "    }\n",
              "    20% {\n",
              "      border-color: transparent;\n",
              "      border-left-color: var(--fill-color);\n",
              "      border-top-color: var(--fill-color);\n",
              "    }\n",
              "    30% {\n",
              "      border-color: transparent;\n",
              "      border-left-color: var(--fill-color);\n",
              "      border-top-color: var(--fill-color);\n",
              "      border-right-color: var(--fill-color);\n",
              "    }\n",
              "    40% {\n",
              "      border-color: transparent;\n",
              "      border-right-color: var(--fill-color);\n",
              "      border-top-color: var(--fill-color);\n",
              "    }\n",
              "    60% {\n",
              "      border-color: transparent;\n",
              "      border-right-color: var(--fill-color);\n",
              "    }\n",
              "    80% {\n",
              "      border-color: transparent;\n",
              "      border-right-color: var(--fill-color);\n",
              "      border-bottom-color: var(--fill-color);\n",
              "    }\n",
              "    90% {\n",
              "      border-color: transparent;\n",
              "      border-bottom-color: var(--fill-color);\n",
              "    }\n",
              "  }\n",
              "</style>\n",
              "\n",
              "  <script>\n",
              "    async function quickchart(key) {\n",
              "      const quickchartButtonEl =\n",
              "        document.querySelector('#' + key + ' button');\n",
              "      quickchartButtonEl.disabled = true;  // To prevent multiple clicks.\n",
              "      quickchartButtonEl.classList.add('colab-df-spinner');\n",
              "      try {\n",
              "        const charts = await google.colab.kernel.invokeFunction(\n",
              "            'suggestCharts', [key], {});\n",
              "      } catch (error) {\n",
              "        console.error('Error during call to suggestCharts:', error);\n",
              "      }\n",
              "      quickchartButtonEl.classList.remove('colab-df-spinner');\n",
              "      quickchartButtonEl.classList.add('colab-df-quickchart-complete');\n",
              "    }\n",
              "    (() => {\n",
              "      let quickchartButtonEl =\n",
              "        document.querySelector('#df-c588971d-962f-4d45-b276-b712342a221e button');\n",
              "      quickchartButtonEl.style.display =\n",
              "        google.colab.kernel.accessAllowed ? 'block' : 'none';\n",
              "    })();\n",
              "  </script>\n",
              "</div>\n",
              "\n",
              "    </div>\n",
              "  </div>\n"
            ],
            "application/vnd.google.colaboratory.intrinsic+json": {
              "type": "dataframe",
              "summary": "{\n  \"name\": \"data_join\",\n  \"rows\": 19,\n  \"fields\": [\n    {\n      \"column\": \"sd\",\n      \"properties\": {\n        \"dtype\": \"number\",\n        \"std\": null,\n        \"min\": 1.0,\n        \"max\": 1.0,\n        \"num_unique_values\": 1,\n        \"samples\": [\n          1.0\n        ],\n        \"semantic_type\": \"\",\n        \"description\": \"\"\n      }\n    },\n    {\n      \"column\": \"sc\",\n      \"properties\": {\n        \"dtype\": \"number\",\n        \"std\": null,\n        \"min\": 1.0,\n        \"max\": 1.0,\n        \"num_unique_values\": 1,\n        \"samples\": [\n          1.0\n        ],\n        \"semantic_type\": \"\",\n        \"description\": \"\"\n      }\n    },\n    {\n      \"column\": \"cd\",\n      \"properties\": {\n        \"dtype\": \"number\",\n        \"std\": 0.15495124158643186,\n        \"min\": 0.7808658526419181,\n        \"max\": 1.0,\n        \"num_unique_values\": 2,\n        \"samples\": [\n          0.7808658526419181\n        ],\n        \"semantic_type\": \"\",\n        \"description\": \"\"\n      }\n    },\n    {\n      \"column\": \"mpd\",\n      \"properties\": {\n        \"dtype\": \"number\",\n        \"std\": 0.15495124158643186,\n        \"min\": 0.7808658526419181,\n        \"max\": 1.0,\n        \"num_unique_values\": 2,\n        \"samples\": [\n          1.0\n        ],\n        \"semantic_type\": \"\",\n        \"description\": \"\"\n      }\n    },\n    {\n      \"column\": \"sr\",\n      \"properties\": {\n        \"dtype\": \"number\",\n        \"std\": 0.0343106553353608,\n        \"min\": 0.951477405890824,\n        \"max\": 1.0,\n        \"num_unique_values\": 2,\n        \"samples\": [\n          0.951477405890824\n        ],\n        \"semantic_type\": \"\",\n        \"description\": \"\"\n      }\n    },\n    {\n      \"column\": \"srr\",\n      \"properties\": {\n        \"dtype\": \"number\",\n        \"std\": 0.0343106553353608,\n        \"min\": 0.951477405890824,\n        \"max\": 1.0,\n        \"num_unique_values\": 2,\n        \"samples\": [\n          1.0\n        ],\n        \"semantic_type\": \"\",\n        \"description\": \"\"\n      }\n    },\n    {\n      \"column\": \"or\",\n      \"properties\": {\n        \"dtype\": \"number\",\n        \"std\": 0.05131877321072887,\n        \"min\": 0.9274242949210382,\n        \"max\": 1.0,\n        \"num_unique_values\": 2,\n        \"samples\": [\n          0.9274242949210382\n        ],\n        \"semantic_type\": \"\",\n        \"description\": \"\"\n      }\n    },\n    {\n      \"column\": \"orr\",\n      \"properties\": {\n        \"dtype\": \"number\",\n        \"std\": 0.05131877321072887,\n        \"min\": 0.9274242949210382,\n        \"max\": 1.0,\n        \"num_unique_values\": 2,\n        \"samples\": [\n          1.0\n        ],\n        \"semantic_type\": \"\",\n        \"description\": \"\"\n      }\n    },\n    {\n      \"column\": \"p\",\n      \"properties\": {\n        \"dtype\": \"number\",\n        \"std\": null,\n        \"min\": 1.0,\n        \"max\": 1.0,\n        \"num_unique_values\": 1,\n        \"samples\": [\n          1.0\n        ],\n        \"semantic_type\": \"\",\n        \"description\": \"\"\n      }\n    },\n    {\n      \"column\": \"T\",\n      \"properties\": {\n        \"dtype\": \"number\",\n        \"std\": 0.037165523597042865,\n        \"min\": 0.9280725746494665,\n        \"max\": 1.0,\n        \"num_unique_values\": 3,\n        \"samples\": [\n          1.0\n        ],\n        \"semantic_type\": \"\",\n        \"description\": \"\"\n      }\n    },\n    {\n      \"column\": \"pt\",\n      \"properties\": {\n        \"dtype\": \"number\",\n        \"std\": null,\n        \"min\": 1.0,\n        \"max\": 1.0,\n        \"num_unique_values\": 1,\n        \"samples\": [\n          1.0\n        ],\n        \"semantic_type\": \"\",\n        \"description\": \"\"\n      }\n    },\n    {\n      \"column\": \"ws\",\n      \"properties\": {\n        \"dtype\": \"number\",\n        \"std\": null,\n        \"min\": 1.0,\n        \"max\": 1.0,\n        \"num_unique_values\": 1,\n        \"samples\": [\n          1.0\n        ],\n        \"semantic_type\": \"\",\n        \"description\": \"\"\n      }\n    },\n    {\n      \"column\": \"h\",\n      \"properties\": {\n        \"dtype\": \"number\",\n        \"std\": null,\n        \"min\": 1.0,\n        \"max\": 1.0,\n        \"num_unique_values\": 1,\n        \"samples\": [\n          1.0\n        ],\n        \"semantic_type\": \"\",\n        \"description\": \"\"\n      }\n    },\n    {\n      \"column\": \"dp\",\n      \"properties\": {\n        \"dtype\": \"number\",\n        \"std\": 0.09540741886294214,\n        \"min\": 0.8109756430228774,\n        \"max\": 1.0,\n        \"num_unique_values\": 3,\n        \"samples\": [\n          0.9280725746494665\n        ],\n        \"semantic_type\": \"\",\n        \"description\": \"\"\n      }\n    },\n    {\n      \"column\": \"ap\",\n      \"properties\": {\n        \"dtype\": \"number\",\n        \"std\": null,\n        \"min\": 1.0,\n        \"max\": 1.0,\n        \"num_unique_values\": 1,\n        \"samples\": [\n          1.0\n        ],\n        \"semantic_type\": \"\",\n        \"description\": \"\"\n      }\n    },\n    {\n      \"column\": \"gt\",\n      \"properties\": {\n        \"dtype\": \"number\",\n        \"std\": 0.09761806096757138,\n        \"min\": 0.8109756430228774,\n        \"max\": 1.0,\n        \"num_unique_values\": 3,\n        \"samples\": [\n          0.9477985983093709\n        ],\n        \"semantic_type\": \"\",\n        \"description\": \"\"\n      }\n    },\n    {\n      \"column\": \"s\",\n      \"properties\": {\n        \"dtype\": \"number\",\n        \"std\": null,\n        \"min\": 1.0,\n        \"max\": 1.0,\n        \"num_unique_values\": 1,\n        \"samples\": [\n          1.0\n        ],\n        \"semantic_type\": \"\",\n        \"description\": \"\"\n      }\n    },\n    {\n      \"column\": \"w\",\n      \"properties\": {\n        \"dtype\": \"number\",\n        \"std\": null,\n        \"min\": 1.0,\n        \"max\": 1.0,\n        \"num_unique_values\": 1,\n        \"samples\": [\n          1.0\n        ],\n        \"semantic_type\": \"\",\n        \"description\": \"\"\n      }\n    },\n    {\n      \"column\": \"month\",\n      \"properties\": {\n        \"dtype\": \"number\",\n        \"std\": null,\n        \"min\": 1.0,\n        \"max\": 1.0,\n        \"num_unique_values\": 1,\n        \"samples\": [\n          1.0\n        ],\n        \"semantic_type\": \"\",\n        \"description\": \"\"\n      }\n    }\n  ]\n}"
            }
          },
          "metadata": {},
          "execution_count": 69
        }
      ],
      "source": [
        "# 변수 간 상관성 확인\n",
        "data_join.corr()[data_join.corr()>0.7]"
      ]
    },
    {
      "cell_type": "code",
      "execution_count": null,
      "metadata": {
        "id": "GRxUgJsnRX_i"
      },
      "outputs": [],
      "source": [
        "# 상관성 높은 변수들 제거\n",
        "data_join.drop(['mpd', 'srr', 'gt', 'sd','orr', 'dp','p'], axis = 1, inplace = True)\n",
        "test_join.drop(['mpd', 'srr', 'gt', 'sd','orr', 'dp','p'], axis = 1, inplace = True)"
      ]
    },
    {
      "cell_type": "markdown",
      "metadata": {
        "id": "-DYh5c1e70vC"
      },
      "source": [
        "### 5. 모델링"
      ]
    },
    {
      "cell_type": "code",
      "execution_count": null,
      "metadata": {
        "id": "UmmRvJizPpUo"
      },
      "outputs": [],
      "source": [
        "# 파라미터 지정\n",
        "split_fraction = 0.7\n",
        "train_split = int(split_fraction * int(data_join.shape[0]))\n",
        "past = 1440  # 5일 데이터 이용하여 미래예측\n",
        "future = 1   # 뒤의 1시점 예측\n",
        "learning_rate = 0.01\n",
        "batch_size = 128\n",
        "epochs = 30"
      ]
    },
    {
      "cell_type": "code",
      "source": [
        "# 정규화 함수\n",
        "def normalize(data,m,s) :\n",
        "  data_mean = m\n",
        "  data_std = s\n",
        "  return (data-data_mean) / data_std"
      ],
      "metadata": {
        "id": "Ytp1nTTznyFP"
      },
      "execution_count": null,
      "outputs": []
    },
    {
      "cell_type": "code",
      "source": [
        "# 정규화\n",
        "m = data_join[:train_split].mean(axis=0)\n",
        "s = data_join[:train_split].std(axis=0)\n",
        "\n",
        "features = normalize(data_join, m,s)\n",
        "features = pd.DataFrame(features)\n",
        "test_data = normalize(test_join, m, s)"
      ],
      "metadata": {
        "id": "Td-nqjlBoa4a"
      },
      "execution_count": null,
      "outputs": []
    },
    {
      "cell_type": "code",
      "source": [
        "# 데이터 분할\n",
        "train_data = features.loc[0 : train_split - 1]\n",
        "val_data = features.loc[train_split:]"
      ],
      "metadata": {
        "id": "7FMqVLUlV8vZ"
      },
      "execution_count": null,
      "outputs": []
    },
    {
      "cell_type": "markdown",
      "metadata": {
        "id": "ievMsDtfKQ_c"
      },
      "source": [
        "#### training dataset"
      ]
    },
    {
      "cell_type": "code",
      "execution_count": null,
      "metadata": {
        "id": "4l-2W1B6KtzV"
      },
      "outputs": [],
      "source": [
        "# window_size 설정 (6시간 예측해야 하므로 12*6 = 72로 설정)\n",
        "window_size = 72"
      ]
    },
    {
      "cell_type": "code",
      "source": [
        "train_data.columns = range(12)\n",
        "val_data.columns = range(12)"
      ],
      "metadata": {
        "id": "BTP4i03TbVw4"
      },
      "execution_count": null,
      "outputs": []
    },
    {
      "cell_type": "code",
      "execution_count": null,
      "metadata": {
        "id": "il2TkxkGKU6T"
      },
      "outputs": [],
      "source": [
        "# train_x, train_y 생성\n",
        "start = past + future\n",
        "end = start + train_split\n",
        "train_X = train_data[[i for i in range(12)]].values\n",
        "train_y = data_join.iloc[start:end][['cd']]"
      ]
    },
    {
      "cell_type": "code",
      "execution_count": null,
      "metadata": {
        "id": "ev1qANlIRUng"
      },
      "outputs": [],
      "source": [
        "# 이후 72시점의 cd를 y로 지정 (즉 72열을 가짐)\n",
        "y_train = []\n",
        "for i in range(len(train_y) - window_size):\n",
        "    _Y = train_y[i : i + window_size]\n",
        "    y_train.append(_Y)\n",
        "Y = np.array(y_train).reshape(len(train_y)-72,72)\n",
        "Y = pd.DataFrame(Y)"
      ]
    },
    {
      "cell_type": "code",
      "execution_count": null,
      "metadata": {
        "id": "hxkz0HaYe7Id"
      },
      "outputs": [],
      "source": [
        "# valid x, valid_y 만들기\n",
        "\n",
        "x_end = len(val_data) - past - future\n",
        "label_start = train_split + past + future\n",
        "val_X = val_data.iloc[:x_end][[i for i in range(12)]].values\n",
        "val_y = data_join.iloc[label_start:][['cd']]\n",
        "\n",
        "\n",
        "y_valid = []\n",
        "for i in range(len(val_y) - window_size):\n",
        "    _Y = val_y[i : i + window_size] # 다음 날 종가(i+windows_size)는 포함되지 않음\n",
        "    y_valid.append(_Y)\n",
        "\n",
        "Y_val = np.array(y_valid).reshape(len(val_y)-72,72)\n",
        "Y_val = pd.DataFrame(Y_val)"
      ]
    },
    {
      "cell_type": "code",
      "source": [
        "# 2023.03.13 - 2023.03.19까지의 데이터(2016개)를 x 데이터로 사용\n",
        "x = test_data.iloc[:2016]\n",
        "x.columns = range(12)"
      ],
      "metadata": {
        "id": "zFSI-yGhse_F"
      },
      "execution_count": null,
      "outputs": []
    },
    {
      "cell_type": "code",
      "source": [
        "test_X = x.iloc[:][[i for i in range(12)]].values\n",
        "test_y = test_join[:][['cd']]"
      ],
      "metadata": {
        "id": "1qvfxSQAfGjx"
      },
      "execution_count": null,
      "outputs": []
    },
    {
      "cell_type": "code",
      "source": [
        "# 이후 72시점의 cd를 y로 지정 (즉 72열을 가짐)\n",
        "# 2023.03.13 - 2023.03.19의 5분단위 6시간 후까지의 'cd' 실제값을 test_Y로 지정\n",
        "y_test = []\n",
        "for i in range(len(test_y) - window_size):\n",
        "    _Y = test_y[i : i + window_size]\n",
        "    y_test.append(_Y)\n",
        "Y_test = np.array(y_test).reshape(len(test_y)-72,72)\n",
        "test_Y = pd.DataFrame(Y_test)"
      ],
      "metadata": {
        "id": "dDzdG-YwgN5u"
      },
      "execution_count": null,
      "outputs": []
    },
    {
      "cell_type": "markdown",
      "source": [
        "#### (1) 랜덤포레스트"
      ],
      "metadata": {
        "id": "myck8sFmeWrB"
      }
    },
    {
      "cell_type": "code",
      "source": [
        "### RandomForest Regressor\n",
        "from sklearn.ensemble import RandomForestRegressor\n",
        "\n",
        "rf = RandomForestRegressor(n_estimators = 25)\n",
        "rf.fit(train_X[:len(train_X)-72], Y)"
      ],
      "metadata": {
        "colab": {
          "base_uri": "https://localhost:8080/",
          "height": 74
        },
        "id": "7chCHqTYmnKc",
        "outputId": "7b3d7a56-2290-4966-aff5-17e0113390d5"
      },
      "execution_count": null,
      "outputs": [
        {
          "output_type": "execute_result",
          "data": {
            "text/plain": [
              "RandomForestRegressor(n_estimators=25)"
            ],
            "text/html": [
              "<style>#sk-container-id-1 {color: black;background-color: white;}#sk-container-id-1 pre{padding: 0;}#sk-container-id-1 div.sk-toggleable {background-color: white;}#sk-container-id-1 label.sk-toggleable__label {cursor: pointer;display: block;width: 100%;margin-bottom: 0;padding: 0.3em;box-sizing: border-box;text-align: center;}#sk-container-id-1 label.sk-toggleable__label-arrow:before {content: \"▸\";float: left;margin-right: 0.25em;color: #696969;}#sk-container-id-1 label.sk-toggleable__label-arrow:hover:before {color: black;}#sk-container-id-1 div.sk-estimator:hover label.sk-toggleable__label-arrow:before {color: black;}#sk-container-id-1 div.sk-toggleable__content {max-height: 0;max-width: 0;overflow: hidden;text-align: left;background-color: #f0f8ff;}#sk-container-id-1 div.sk-toggleable__content pre {margin: 0.2em;color: black;border-radius: 0.25em;background-color: #f0f8ff;}#sk-container-id-1 input.sk-toggleable__control:checked~div.sk-toggleable__content {max-height: 200px;max-width: 100%;overflow: auto;}#sk-container-id-1 input.sk-toggleable__control:checked~label.sk-toggleable__label-arrow:before {content: \"▾\";}#sk-container-id-1 div.sk-estimator input.sk-toggleable__control:checked~label.sk-toggleable__label {background-color: #d4ebff;}#sk-container-id-1 div.sk-label input.sk-toggleable__control:checked~label.sk-toggleable__label {background-color: #d4ebff;}#sk-container-id-1 input.sk-hidden--visually {border: 0;clip: rect(1px 1px 1px 1px);clip: rect(1px, 1px, 1px, 1px);height: 1px;margin: -1px;overflow: hidden;padding: 0;position: absolute;width: 1px;}#sk-container-id-1 div.sk-estimator {font-family: monospace;background-color: #f0f8ff;border: 1px dotted black;border-radius: 0.25em;box-sizing: border-box;margin-bottom: 0.5em;}#sk-container-id-1 div.sk-estimator:hover {background-color: #d4ebff;}#sk-container-id-1 div.sk-parallel-item::after {content: \"\";width: 100%;border-bottom: 1px solid gray;flex-grow: 1;}#sk-container-id-1 div.sk-label:hover label.sk-toggleable__label {background-color: #d4ebff;}#sk-container-id-1 div.sk-serial::before {content: \"\";position: absolute;border-left: 1px solid gray;box-sizing: border-box;top: 0;bottom: 0;left: 50%;z-index: 0;}#sk-container-id-1 div.sk-serial {display: flex;flex-direction: column;align-items: center;background-color: white;padding-right: 0.2em;padding-left: 0.2em;position: relative;}#sk-container-id-1 div.sk-item {position: relative;z-index: 1;}#sk-container-id-1 div.sk-parallel {display: flex;align-items: stretch;justify-content: center;background-color: white;position: relative;}#sk-container-id-1 div.sk-item::before, #sk-container-id-1 div.sk-parallel-item::before {content: \"\";position: absolute;border-left: 1px solid gray;box-sizing: border-box;top: 0;bottom: 0;left: 50%;z-index: -1;}#sk-container-id-1 div.sk-parallel-item {display: flex;flex-direction: column;z-index: 1;position: relative;background-color: white;}#sk-container-id-1 div.sk-parallel-item:first-child::after {align-self: flex-end;width: 50%;}#sk-container-id-1 div.sk-parallel-item:last-child::after {align-self: flex-start;width: 50%;}#sk-container-id-1 div.sk-parallel-item:only-child::after {width: 0;}#sk-container-id-1 div.sk-dashed-wrapped {border: 1px dashed gray;margin: 0 0.4em 0.5em 0.4em;box-sizing: border-box;padding-bottom: 0.4em;background-color: white;}#sk-container-id-1 div.sk-label label {font-family: monospace;font-weight: bold;display: inline-block;line-height: 1.2em;}#sk-container-id-1 div.sk-label-container {text-align: center;}#sk-container-id-1 div.sk-container {/* jupyter's `normalize.less` sets `[hidden] { display: none; }` but bootstrap.min.css set `[hidden] { display: none !important; }` so we also need the `!important` here to be able to override the default hidden behavior on the sphinx rendered scikit-learn.org. See: https://github.com/scikit-learn/scikit-learn/issues/21755 */display: inline-block !important;position: relative;}#sk-container-id-1 div.sk-text-repr-fallback {display: none;}</style><div id=\"sk-container-id-1\" class=\"sk-top-container\"><div class=\"sk-text-repr-fallback\"><pre>RandomForestRegressor(n_estimators=25)</pre><b>In a Jupyter environment, please rerun this cell to show the HTML representation or trust the notebook. <br />On GitHub, the HTML representation is unable to render, please try loading this page with nbviewer.org.</b></div><div class=\"sk-container\" hidden><div class=\"sk-item\"><div class=\"sk-estimator sk-toggleable\"><input class=\"sk-toggleable__control sk-hidden--visually\" id=\"sk-estimator-id-1\" type=\"checkbox\" checked><label for=\"sk-estimator-id-1\" class=\"sk-toggleable__label sk-toggleable__label-arrow\">RandomForestRegressor</label><div class=\"sk-toggleable__content\"><pre>RandomForestRegressor(n_estimators=25)</pre></div></div></div></div></div>"
            ]
          },
          "metadata": {},
          "execution_count": 119
        }
      ]
    },
    {
      "cell_type": "code",
      "source": [
        "pred_rf = rf.predict(val_X[:len(val_X)-72])"
      ],
      "metadata": {
        "id": "HGSKdyLNnMaG"
      },
      "execution_count": null,
      "outputs": []
    },
    {
      "cell_type": "code",
      "source": [
        "from sklearn.metrics import mean_absolute_percentage_error\n",
        "mean_absolute_percentage_error(Y_val, pred_rf) # 0.0941"
      ],
      "metadata": {
        "colab": {
          "base_uri": "https://localhost:8080/"
        },
        "id": "GHLWe1vmubwr",
        "outputId": "36018de9-7933-4b8a-f6c8-892fbe7c0262"
      },
      "execution_count": null,
      "outputs": [
        {
          "output_type": "execute_result",
          "data": {
            "text/plain": [
              "0.09412051121864337"
            ]
          },
          "metadata": {},
          "execution_count": 121
        }
      ]
    },
    {
      "cell_type": "code",
      "source": [
        "pred_test = rf.predict(test_X)"
      ],
      "metadata": {
        "id": "oLOmmNKS1olB"
      },
      "execution_count": null,
      "outputs": []
    },
    {
      "cell_type": "code",
      "source": [
        "# 분석대상기간(23.03.13-23.03.19)의 mape 결과\n",
        "from sklearn.metrics import mean_absolute_percentage_error\n",
        "mean_absolute_percentage_error(test_Y, pred_test) #0.1007"
      ],
      "metadata": {
        "colab": {
          "base_uri": "https://localhost:8080/"
        },
        "outputId": "ffdd2d43-1bad-4dfb-9165-2b311475a01e",
        "id": "ORg7j4b31olJ"
      },
      "execution_count": null,
      "outputs": [
        {
          "output_type": "execute_result",
          "data": {
            "text/plain": [
              "0.10073088108448214"
            ]
          },
          "metadata": {},
          "execution_count": 123
        }
      ]
    },
    {
      "cell_type": "markdown",
      "source": [
        "#### (2) LightGBM"
      ],
      "metadata": {
        "id": "3L7uZsLcfTBi"
      }
    },
    {
      "cell_type": "markdown",
      "source": [
        "향후 6시간의 전력수요량을 예측해야 하는데, LightGBM 5분(1시점) 뒤의 전력수요량만 예측하기 때문에, for문을 이용하여 5분 뒤를 예측하는 모델부터, 6시간 뒤를 예측하는 모델까지 총 72개의 모델을 학습했다."
      ],
      "metadata": {
        "id": "ycPS2NlyfXTW"
      }
    },
    {
      "cell_type": "code",
      "source": [
        "import lightgbm as ltb\n",
        "lgb = ltb.LGBMRegressor(learning_rate = 0.04, max_depth = 10, metric = 'mape')"
      ],
      "metadata": {
        "id": "zPM-iLTb8ye4"
      },
      "execution_count": null,
      "outputs": []
    },
    {
      "cell_type": "code",
      "source": [
        "pred = []\n",
        "for i in range(72):\n",
        "  lgb.fit(train_X[:len(train_X)-72], Y[[i]])\n",
        "  pred.append(lgb.predict(val_X[:len(val_X)-72]))"
      ],
      "metadata": {
        "id": "snyOwPgk-1D5",
        "colab": {
          "base_uri": "https://localhost:8080/"
        },
        "outputId": "fb289495-3f4d-47ea-b84c-c68e4fbc220c"
      },
      "execution_count": null,
      "outputs": [
        {
          "output_type": "stream",
          "name": "stdout",
          "text": [
            "[LightGBM] [Warning] Accuracy may be bad since you didn't explicitly set num_leaves OR 2^max_depth > num_leaves. (num_leaves=31).\n",
            "[LightGBM] [Warning] Accuracy may be bad since you didn't explicitly set num_leaves OR 2^max_depth > num_leaves. (num_leaves=31).\n",
            "[LightGBM] [Info] Auto-choosing row-wise multi-threading, the overhead of testing was 0.010386 seconds.\n",
            "You can set `force_row_wise=true` to remove the overhead.\n",
            "And if memory is not enough, you can set `force_col_wise=true`.\n",
            "[LightGBM] [Info] Total Bins 2818\n",
            "[LightGBM] [Info] Number of data points in the train set: 234868, number of used features: 12\n",
            "[LightGBM] [Info] Start training from score 63654.030921\n",
            "[LightGBM] [Warning] Accuracy may be bad since you didn't explicitly set num_leaves OR 2^max_depth > num_leaves. (num_leaves=31).\n",
            "[LightGBM] [Warning] Accuracy may be bad since you didn't explicitly set num_leaves OR 2^max_depth > num_leaves. (num_leaves=31).\n",
            "[LightGBM] [Warning] Accuracy may be bad since you didn't explicitly set num_leaves OR 2^max_depth > num_leaves. (num_leaves=31).\n",
            "[LightGBM] [Info] Auto-choosing row-wise multi-threading, the overhead of testing was 0.009692 seconds.\n",
            "You can set `force_row_wise=true` to remove the overhead.\n",
            "And if memory is not enough, you can set `force_col_wise=true`.\n",
            "[LightGBM] [Info] Total Bins 2818\n",
            "[LightGBM] [Info] Number of data points in the train set: 234868, number of used features: 12\n",
            "[LightGBM] [Info] Start training from score 63654.070060\n",
            "[LightGBM] [Warning] Accuracy may be bad since you didn't explicitly set num_leaves OR 2^max_depth > num_leaves. (num_leaves=31).\n",
            "[LightGBM] [Warning] Accuracy may be bad since you didn't explicitly set num_leaves OR 2^max_depth > num_leaves. (num_leaves=31).\n",
            "[LightGBM] [Warning] Accuracy may be bad since you didn't explicitly set num_leaves OR 2^max_depth > num_leaves. (num_leaves=31).\n",
            "[LightGBM] [Info] Auto-choosing row-wise multi-threading, the overhead of testing was 0.010308 seconds.\n",
            "You can set `force_row_wise=true` to remove the overhead.\n",
            "And if memory is not enough, you can set `force_col_wise=true`.\n",
            "[LightGBM] [Info] Total Bins 2818\n",
            "[LightGBM] [Info] Number of data points in the train set: 234868, number of used features: 12\n",
            "[LightGBM] [Info] Start training from score 63654.111836\n",
            "[LightGBM] [Warning] Accuracy may be bad since you didn't explicitly set num_leaves OR 2^max_depth > num_leaves. (num_leaves=31).\n",
            "[LightGBM] [Warning] Accuracy may be bad since you didn't explicitly set num_leaves OR 2^max_depth > num_leaves. (num_leaves=31).\n",
            "[LightGBM] [Warning] Accuracy may be bad since you didn't explicitly set num_leaves OR 2^max_depth > num_leaves. (num_leaves=31).\n",
            "[LightGBM] [Info] Auto-choosing col-wise multi-threading, the overhead of testing was 0.031595 seconds.\n",
            "You can set `force_col_wise=true` to remove the overhead.\n",
            "[LightGBM] [Info] Total Bins 2818\n",
            "[LightGBM] [Info] Number of data points in the train set: 234868, number of used features: 12\n",
            "[LightGBM] [Info] Start training from score 63654.153749\n",
            "[LightGBM] [Warning] Accuracy may be bad since you didn't explicitly set num_leaves OR 2^max_depth > num_leaves. (num_leaves=31).\n",
            "[LightGBM] [Warning] Accuracy may be bad since you didn't explicitly set num_leaves OR 2^max_depth > num_leaves. (num_leaves=31).\n",
            "[LightGBM] [Warning] Accuracy may be bad since you didn't explicitly set num_leaves OR 2^max_depth > num_leaves. (num_leaves=31).\n",
            "[LightGBM] [Info] Auto-choosing row-wise multi-threading, the overhead of testing was 0.018236 seconds.\n",
            "You can set `force_row_wise=true` to remove the overhead.\n",
            "And if memory is not enough, you can set `force_col_wise=true`.\n",
            "[LightGBM] [Info] Total Bins 2818\n",
            "[LightGBM] [Info] Number of data points in the train set: 234868, number of used features: 12\n",
            "[LightGBM] [Info] Start training from score 63654.198548\n",
            "[LightGBM] [Warning] Accuracy may be bad since you didn't explicitly set num_leaves OR 2^max_depth > num_leaves. (num_leaves=31).\n",
            "[LightGBM] [Warning] Accuracy may be bad since you didn't explicitly set num_leaves OR 2^max_depth > num_leaves. (num_leaves=31).\n",
            "[LightGBM] [Warning] Accuracy may be bad since you didn't explicitly set num_leaves OR 2^max_depth > num_leaves. (num_leaves=31).\n",
            "[LightGBM] [Info] Auto-choosing row-wise multi-threading, the overhead of testing was 0.009822 seconds.\n",
            "You can set `force_row_wise=true` to remove the overhead.\n",
            "And if memory is not enough, you can set `force_col_wise=true`.\n",
            "[LightGBM] [Info] Total Bins 2818\n",
            "[LightGBM] [Info] Number of data points in the train set: 234868, number of used features: 12\n",
            "[LightGBM] [Info] Start training from score 63654.245457\n",
            "[LightGBM] [Warning] Accuracy may be bad since you didn't explicitly set num_leaves OR 2^max_depth > num_leaves. (num_leaves=31).\n",
            "[LightGBM] [Warning] Accuracy may be bad since you didn't explicitly set num_leaves OR 2^max_depth > num_leaves. (num_leaves=31).\n",
            "[LightGBM] [Warning] Accuracy may be bad since you didn't explicitly set num_leaves OR 2^max_depth > num_leaves. (num_leaves=31).\n",
            "[LightGBM] [Info] Auto-choosing row-wise multi-threading, the overhead of testing was 0.011345 seconds.\n",
            "You can set `force_row_wise=true` to remove the overhead.\n",
            "And if memory is not enough, you can set `force_col_wise=true`.\n",
            "[LightGBM] [Info] Total Bins 2818\n",
            "[LightGBM] [Info] Number of data points in the train set: 234868, number of used features: 12\n",
            "[LightGBM] [Info] Start training from score 63654.294073\n",
            "[LightGBM] [Warning] Accuracy may be bad since you didn't explicitly set num_leaves OR 2^max_depth > num_leaves. (num_leaves=31).\n",
            "[LightGBM] [Warning] Accuracy may be bad since you didn't explicitly set num_leaves OR 2^max_depth > num_leaves. (num_leaves=31).\n",
            "[LightGBM] [Warning] Accuracy may be bad since you didn't explicitly set num_leaves OR 2^max_depth > num_leaves. (num_leaves=31).\n",
            "[LightGBM] [Info] Auto-choosing row-wise multi-threading, the overhead of testing was 0.009723 seconds.\n",
            "You can set `force_row_wise=true` to remove the overhead.\n",
            "And if memory is not enough, you can set `force_col_wise=true`.\n",
            "[LightGBM] [Info] Total Bins 2818\n",
            "[LightGBM] [Info] Number of data points in the train set: 234868, number of used features: 12\n",
            "[LightGBM] [Info] Start training from score 63654.341882\n",
            "[LightGBM] [Warning] Accuracy may be bad since you didn't explicitly set num_leaves OR 2^max_depth > num_leaves. (num_leaves=31).\n",
            "[LightGBM] [Warning] Accuracy may be bad since you didn't explicitly set num_leaves OR 2^max_depth > num_leaves. (num_leaves=31).\n",
            "[LightGBM] [Warning] Accuracy may be bad since you didn't explicitly set num_leaves OR 2^max_depth > num_leaves. (num_leaves=31).\n",
            "[LightGBM] [Info] Auto-choosing row-wise multi-threading, the overhead of testing was 0.009965 seconds.\n",
            "You can set `force_row_wise=true` to remove the overhead.\n",
            "And if memory is not enough, you can set `force_col_wise=true`.\n",
            "[LightGBM] [Info] Total Bins 2818\n",
            "[LightGBM] [Info] Number of data points in the train set: 234868, number of used features: 12\n",
            "[LightGBM] [Info] Start training from score 63654.390282\n",
            "[LightGBM] [Warning] Accuracy may be bad since you didn't explicitly set num_leaves OR 2^max_depth > num_leaves. (num_leaves=31).\n",
            "[LightGBM] [Warning] Accuracy may be bad since you didn't explicitly set num_leaves OR 2^max_depth > num_leaves. (num_leaves=31).\n",
            "[LightGBM] [Warning] Accuracy may be bad since you didn't explicitly set num_leaves OR 2^max_depth > num_leaves. (num_leaves=31).\n",
            "[LightGBM] [Info] Auto-choosing col-wise multi-threading, the overhead of testing was 0.046750 seconds.\n",
            "You can set `force_col_wise=true` to remove the overhead.\n",
            "[LightGBM] [Info] Total Bins 2818\n",
            "[LightGBM] [Info] Number of data points in the train set: 234868, number of used features: 12\n",
            "[LightGBM] [Info] Start training from score 63654.438171\n",
            "[LightGBM] [Warning] Accuracy may be bad since you didn't explicitly set num_leaves OR 2^max_depth > num_leaves. (num_leaves=31).\n",
            "[LightGBM] [Warning] Accuracy may be bad since you didn't explicitly set num_leaves OR 2^max_depth > num_leaves. (num_leaves=31).\n",
            "[LightGBM] [Warning] Accuracy may be bad since you didn't explicitly set num_leaves OR 2^max_depth > num_leaves. (num_leaves=31).\n",
            "[LightGBM] [Info] Auto-choosing row-wise multi-threading, the overhead of testing was 0.009903 seconds.\n",
            "You can set `force_row_wise=true` to remove the overhead.\n",
            "And if memory is not enough, you can set `force_col_wise=true`.\n",
            "[LightGBM] [Info] Total Bins 2818\n",
            "[LightGBM] [Info] Number of data points in the train set: 234868, number of used features: 12\n",
            "[LightGBM] [Info] Start training from score 63654.484679\n",
            "[LightGBM] [Warning] Accuracy may be bad since you didn't explicitly set num_leaves OR 2^max_depth > num_leaves. (num_leaves=31).\n",
            "[LightGBM] [Warning] Accuracy may be bad since you didn't explicitly set num_leaves OR 2^max_depth > num_leaves. (num_leaves=31).\n",
            "[LightGBM] [Warning] Accuracy may be bad since you didn't explicitly set num_leaves OR 2^max_depth > num_leaves. (num_leaves=31).\n",
            "[LightGBM] [Info] Auto-choosing row-wise multi-threading, the overhead of testing was 0.009645 seconds.\n",
            "You can set `force_row_wise=true` to remove the overhead.\n",
            "And if memory is not enough, you can set `force_col_wise=true`.\n",
            "[LightGBM] [Info] Total Bins 2818\n",
            "[LightGBM] [Info] Number of data points in the train set: 234868, number of used features: 12\n",
            "[LightGBM] [Info] Start training from score 63654.530993\n",
            "[LightGBM] [Warning] Accuracy may be bad since you didn't explicitly set num_leaves OR 2^max_depth > num_leaves. (num_leaves=31).\n",
            "[LightGBM] [Warning] Accuracy may be bad since you didn't explicitly set num_leaves OR 2^max_depth > num_leaves. (num_leaves=31).\n",
            "[LightGBM] [Warning] Accuracy may be bad since you didn't explicitly set num_leaves OR 2^max_depth > num_leaves. (num_leaves=31).\n",
            "[LightGBM] [Info] Auto-choosing row-wise multi-threading, the overhead of testing was 0.009912 seconds.\n",
            "You can set `force_row_wise=true` to remove the overhead.\n",
            "And if memory is not enough, you can set `force_col_wise=true`.\n",
            "[LightGBM] [Info] Total Bins 2818\n",
            "[LightGBM] [Info] Number of data points in the train set: 234868, number of used features: 12\n",
            "[LightGBM] [Info] Start training from score 63654.577880\n",
            "[LightGBM] [Warning] Accuracy may be bad since you didn't explicitly set num_leaves OR 2^max_depth > num_leaves. (num_leaves=31).\n",
            "[LightGBM] [Warning] Accuracy may be bad since you didn't explicitly set num_leaves OR 2^max_depth > num_leaves. (num_leaves=31).\n",
            "[LightGBM] [Warning] Accuracy may be bad since you didn't explicitly set num_leaves OR 2^max_depth > num_leaves. (num_leaves=31).\n",
            "[LightGBM] [Info] Auto-choosing row-wise multi-threading, the overhead of testing was 0.009585 seconds.\n",
            "You can set `force_row_wise=true` to remove the overhead.\n",
            "And if memory is not enough, you can set `force_col_wise=true`.\n",
            "[LightGBM] [Info] Total Bins 2818\n",
            "[LightGBM] [Info] Number of data points in the train set: 234868, number of used features: 12\n",
            "[LightGBM] [Info] Start training from score 63654.623995\n",
            "[LightGBM] [Warning] Accuracy may be bad since you didn't explicitly set num_leaves OR 2^max_depth > num_leaves. (num_leaves=31).\n",
            "[LightGBM] [Warning] Accuracy may be bad since you didn't explicitly set num_leaves OR 2^max_depth > num_leaves. (num_leaves=31).\n",
            "[LightGBM] [Warning] Accuracy may be bad since you didn't explicitly set num_leaves OR 2^max_depth > num_leaves. (num_leaves=31).\n",
            "[LightGBM] [Info] Auto-choosing row-wise multi-threading, the overhead of testing was 0.016697 seconds.\n",
            "You can set `force_row_wise=true` to remove the overhead.\n",
            "And if memory is not enough, you can set `force_col_wise=true`.\n",
            "[LightGBM] [Info] Total Bins 2818\n",
            "[LightGBM] [Info] Number of data points in the train set: 234868, number of used features: 12\n",
            "[LightGBM] [Info] Start training from score 63654.669635\n",
            "[LightGBM] [Warning] Accuracy may be bad since you didn't explicitly set num_leaves OR 2^max_depth > num_leaves. (num_leaves=31).\n",
            "[LightGBM] [Warning] Accuracy may be bad since you didn't explicitly set num_leaves OR 2^max_depth > num_leaves. (num_leaves=31).\n",
            "[LightGBM] [Warning] Accuracy may be bad since you didn't explicitly set num_leaves OR 2^max_depth > num_leaves. (num_leaves=31).\n",
            "[LightGBM] [Info] Auto-choosing col-wise multi-threading, the overhead of testing was 0.032756 seconds.\n",
            "You can set `force_col_wise=true` to remove the overhead.\n",
            "[LightGBM] [Info] Total Bins 2818\n",
            "[LightGBM] [Info] Number of data points in the train set: 234868, number of used features: 12\n",
            "[LightGBM] [Info] Start training from score 63654.713718\n",
            "[LightGBM] [Warning] Accuracy may be bad since you didn't explicitly set num_leaves OR 2^max_depth > num_leaves. (num_leaves=31).\n",
            "[LightGBM] [Warning] Accuracy may be bad since you didn't explicitly set num_leaves OR 2^max_depth > num_leaves. (num_leaves=31).\n",
            "[LightGBM] [Warning] Accuracy may be bad since you didn't explicitly set num_leaves OR 2^max_depth > num_leaves. (num_leaves=31).\n",
            "[LightGBM] [Info] Auto-choosing row-wise multi-threading, the overhead of testing was 0.009904 seconds.\n",
            "You can set `force_row_wise=true` to remove the overhead.\n",
            "And if memory is not enough, you can set `force_col_wise=true`.\n",
            "[LightGBM] [Info] Total Bins 2818\n",
            "[LightGBM] [Info] Number of data points in the train set: 234868, number of used features: 12\n",
            "[LightGBM] [Info] Start training from score 63654.758377\n",
            "[LightGBM] [Warning] Accuracy may be bad since you didn't explicitly set num_leaves OR 2^max_depth > num_leaves. (num_leaves=31).\n",
            "[LightGBM] [Warning] Accuracy may be bad since you didn't explicitly set num_leaves OR 2^max_depth > num_leaves. (num_leaves=31).\n",
            "[LightGBM] [Warning] Accuracy may be bad since you didn't explicitly set num_leaves OR 2^max_depth > num_leaves. (num_leaves=31).\n",
            "[LightGBM] [Info] Auto-choosing row-wise multi-threading, the overhead of testing was 0.009912 seconds.\n",
            "You can set `force_row_wise=true` to remove the overhead.\n",
            "And if memory is not enough, you can set `force_col_wise=true`.\n",
            "[LightGBM] [Info] Total Bins 2818\n",
            "[LightGBM] [Info] Number of data points in the train set: 234868, number of used features: 12\n",
            "[LightGBM] [Info] Start training from score 63654.802666\n",
            "[LightGBM] [Warning] Accuracy may be bad since you didn't explicitly set num_leaves OR 2^max_depth > num_leaves. (num_leaves=31).\n",
            "[LightGBM] [Warning] Accuracy may be bad since you didn't explicitly set num_leaves OR 2^max_depth > num_leaves. (num_leaves=31).\n",
            "[LightGBM] [Warning] Accuracy may be bad since you didn't explicitly set num_leaves OR 2^max_depth > num_leaves. (num_leaves=31).\n",
            "[LightGBM] [Info] Auto-choosing row-wise multi-threading, the overhead of testing was 0.016573 seconds.\n",
            "You can set `force_row_wise=true` to remove the overhead.\n",
            "And if memory is not enough, you can set `force_col_wise=true`.\n",
            "[LightGBM] [Info] Total Bins 2818\n",
            "[LightGBM] [Info] Number of data points in the train set: 234868, number of used features: 12\n",
            "[LightGBM] [Info] Start training from score 63654.843590\n",
            "[LightGBM] [Warning] Accuracy may be bad since you didn't explicitly set num_leaves OR 2^max_depth > num_leaves. (num_leaves=31).\n",
            "[LightGBM] [Warning] Accuracy may be bad since you didn't explicitly set num_leaves OR 2^max_depth > num_leaves. (num_leaves=31).\n",
            "[LightGBM] [Warning] Accuracy may be bad since you didn't explicitly set num_leaves OR 2^max_depth > num_leaves. (num_leaves=31).\n",
            "[LightGBM] [Info] Auto-choosing row-wise multi-threading, the overhead of testing was 0.018219 seconds.\n",
            "You can set `force_row_wise=true` to remove the overhead.\n",
            "And if memory is not enough, you can set `force_col_wise=true`.\n",
            "[LightGBM] [Info] Total Bins 2818\n",
            "[LightGBM] [Info] Number of data points in the train set: 234868, number of used features: 12\n",
            "[LightGBM] [Info] Start training from score 63654.884252\n",
            "[LightGBM] [Warning] Accuracy may be bad since you didn't explicitly set num_leaves OR 2^max_depth > num_leaves. (num_leaves=31).\n",
            "[LightGBM] [Warning] Accuracy may be bad since you didn't explicitly set num_leaves OR 2^max_depth > num_leaves. (num_leaves=31).\n",
            "[LightGBM] [Warning] Accuracy may be bad since you didn't explicitly set num_leaves OR 2^max_depth > num_leaves. (num_leaves=31).\n",
            "[LightGBM] [Info] Auto-choosing row-wise multi-threading, the overhead of testing was 0.009815 seconds.\n",
            "You can set `force_row_wise=true` to remove the overhead.\n",
            "And if memory is not enough, you can set `force_col_wise=true`.\n",
            "[LightGBM] [Info] Total Bins 2818\n",
            "[LightGBM] [Info] Number of data points in the train set: 234868, number of used features: 12\n",
            "[LightGBM] [Info] Start training from score 63654.925072\n",
            "[LightGBM] [Warning] Accuracy may be bad since you didn't explicitly set num_leaves OR 2^max_depth > num_leaves. (num_leaves=31).\n",
            "[LightGBM] [Warning] Accuracy may be bad since you didn't explicitly set num_leaves OR 2^max_depth > num_leaves. (num_leaves=31).\n",
            "[LightGBM] [Warning] Accuracy may be bad since you didn't explicitly set num_leaves OR 2^max_depth > num_leaves. (num_leaves=31).\n",
            "[LightGBM] [Info] Auto-choosing row-wise multi-threading, the overhead of testing was 0.010356 seconds.\n",
            "You can set `force_row_wise=true` to remove the overhead.\n",
            "And if memory is not enough, you can set `force_col_wise=true`.\n",
            "[LightGBM] [Info] Total Bins 2818\n",
            "[LightGBM] [Info] Number of data points in the train set: 234868, number of used features: 12\n",
            "[LightGBM] [Info] Start training from score 63654.965175\n",
            "[LightGBM] [Warning] Accuracy may be bad since you didn't explicitly set num_leaves OR 2^max_depth > num_leaves. (num_leaves=31).\n",
            "[LightGBM] [Warning] Accuracy may be bad since you didn't explicitly set num_leaves OR 2^max_depth > num_leaves. (num_leaves=31).\n",
            "[LightGBM] [Warning] Accuracy may be bad since you didn't explicitly set num_leaves OR 2^max_depth > num_leaves. (num_leaves=31).\n",
            "[LightGBM] [Info] Auto-choosing row-wise multi-threading, the overhead of testing was 0.009801 seconds.\n",
            "You can set `force_row_wise=true` to remove the overhead.\n",
            "And if memory is not enough, you can set `force_col_wise=true`.\n",
            "[LightGBM] [Info] Total Bins 2818\n",
            "[LightGBM] [Info] Number of data points in the train set: 234868, number of used features: 12\n",
            "[LightGBM] [Info] Start training from score 63655.003311\n",
            "[LightGBM] [Warning] Accuracy may be bad since you didn't explicitly set num_leaves OR 2^max_depth > num_leaves. (num_leaves=31).\n",
            "[LightGBM] [Warning] Accuracy may be bad since you didn't explicitly set num_leaves OR 2^max_depth > num_leaves. (num_leaves=31).\n",
            "[LightGBM] [Warning] Accuracy may be bad since you didn't explicitly set num_leaves OR 2^max_depth > num_leaves. (num_leaves=31).\n",
            "[LightGBM] [Info] Auto-choosing col-wise multi-threading, the overhead of testing was 0.051103 seconds.\n",
            "You can set `force_col_wise=true` to remove the overhead.\n",
            "[LightGBM] [Info] Total Bins 2818\n",
            "[LightGBM] [Info] Number of data points in the train set: 234868, number of used features: 12\n",
            "[LightGBM] [Info] Start training from score 63655.043120\n",
            "[LightGBM] [Warning] Accuracy may be bad since you didn't explicitly set num_leaves OR 2^max_depth > num_leaves. (num_leaves=31).\n",
            "[LightGBM] [Warning] Accuracy may be bad since you didn't explicitly set num_leaves OR 2^max_depth > num_leaves. (num_leaves=31).\n",
            "[LightGBM] [Warning] Accuracy may be bad since you didn't explicitly set num_leaves OR 2^max_depth > num_leaves. (num_leaves=31).\n",
            "[LightGBM] [Info] Auto-choosing row-wise multi-threading, the overhead of testing was 0.011560 seconds.\n",
            "You can set `force_row_wise=true` to remove the overhead.\n",
            "And if memory is not enough, you can set `force_col_wise=true`.\n",
            "[LightGBM] [Info] Total Bins 2818\n",
            "[LightGBM] [Info] Number of data points in the train set: 234868, number of used features: 12\n",
            "[LightGBM] [Info] Start training from score 63655.083049\n",
            "[LightGBM] [Warning] Accuracy may be bad since you didn't explicitly set num_leaves OR 2^max_depth > num_leaves. (num_leaves=31).\n",
            "[LightGBM] [Warning] Accuracy may be bad since you didn't explicitly set num_leaves OR 2^max_depth > num_leaves. (num_leaves=31).\n",
            "[LightGBM] [Warning] Accuracy may be bad since you didn't explicitly set num_leaves OR 2^max_depth > num_leaves. (num_leaves=31).\n",
            "[LightGBM] [Info] Auto-choosing row-wise multi-threading, the overhead of testing was 0.009680 seconds.\n",
            "You can set `force_row_wise=true` to remove the overhead.\n",
            "And if memory is not enough, you can set `force_col_wise=true`.\n",
            "[LightGBM] [Info] Total Bins 2818\n",
            "[LightGBM] [Info] Number of data points in the train set: 234868, number of used features: 12\n",
            "[LightGBM] [Info] Start training from score 63655.122806\n",
            "[LightGBM] [Warning] Accuracy may be bad since you didn't explicitly set num_leaves OR 2^max_depth > num_leaves. (num_leaves=31).\n",
            "[LightGBM] [Warning] Accuracy may be bad since you didn't explicitly set num_leaves OR 2^max_depth > num_leaves. (num_leaves=31).\n",
            "[LightGBM] [Warning] Accuracy may be bad since you didn't explicitly set num_leaves OR 2^max_depth > num_leaves. (num_leaves=31).\n",
            "[LightGBM] [Info] Auto-choosing row-wise multi-threading, the overhead of testing was 0.010074 seconds.\n",
            "You can set `force_row_wise=true` to remove the overhead.\n",
            "And if memory is not enough, you can set `force_col_wise=true`.\n",
            "[LightGBM] [Info] Total Bins 2818\n",
            "[LightGBM] [Info] Number of data points in the train set: 234868, number of used features: 12\n",
            "[LightGBM] [Info] Start training from score 63655.162333\n",
            "[LightGBM] [Warning] Accuracy may be bad since you didn't explicitly set num_leaves OR 2^max_depth > num_leaves. (num_leaves=31).\n",
            "[LightGBM] [Warning] Accuracy may be bad since you didn't explicitly set num_leaves OR 2^max_depth > num_leaves. (num_leaves=31).\n",
            "[LightGBM] [Warning] Accuracy may be bad since you didn't explicitly set num_leaves OR 2^max_depth > num_leaves. (num_leaves=31).\n",
            "[LightGBM] [Info] Auto-choosing row-wise multi-threading, the overhead of testing was 0.009675 seconds.\n",
            "You can set `force_row_wise=true` to remove the overhead.\n",
            "And if memory is not enough, you can set `force_col_wise=true`.\n",
            "[LightGBM] [Info] Total Bins 2818\n",
            "[LightGBM] [Info] Number of data points in the train set: 234868, number of used features: 12\n",
            "[LightGBM] [Info] Start training from score 63655.200221\n",
            "[LightGBM] [Warning] Accuracy may be bad since you didn't explicitly set num_leaves OR 2^max_depth > num_leaves. (num_leaves=31).\n",
            "[LightGBM] [Warning] Accuracy may be bad since you didn't explicitly set num_leaves OR 2^max_depth > num_leaves. (num_leaves=31).\n",
            "[LightGBM] [Warning] Accuracy may be bad since you didn't explicitly set num_leaves OR 2^max_depth > num_leaves. (num_leaves=31).\n",
            "[LightGBM] [Info] Auto-choosing row-wise multi-threading, the overhead of testing was 0.016035 seconds.\n",
            "You can set `force_row_wise=true` to remove the overhead.\n",
            "And if memory is not enough, you can set `force_col_wise=true`.\n",
            "[LightGBM] [Info] Total Bins 2818\n",
            "[LightGBM] [Info] Number of data points in the train set: 234868, number of used features: 12\n",
            "[LightGBM] [Info] Start training from score 63655.239586\n",
            "[LightGBM] [Warning] Accuracy may be bad since you didn't explicitly set num_leaves OR 2^max_depth > num_leaves. (num_leaves=31).\n",
            "[LightGBM] [Warning] Accuracy may be bad since you didn't explicitly set num_leaves OR 2^max_depth > num_leaves. (num_leaves=31).\n",
            "[LightGBM] [Warning] Accuracy may be bad since you didn't explicitly set num_leaves OR 2^max_depth > num_leaves. (num_leaves=31).\n",
            "[LightGBM] [Info] Auto-choosing row-wise multi-threading, the overhead of testing was 0.009797 seconds.\n",
            "You can set `force_row_wise=true` to remove the overhead.\n",
            "And if memory is not enough, you can set `force_col_wise=true`.\n",
            "[LightGBM] [Info] Total Bins 2818\n",
            "[LightGBM] [Info] Number of data points in the train set: 234868, number of used features: 12\n",
            "[LightGBM] [Info] Start training from score 63655.276419\n",
            "[LightGBM] [Warning] Accuracy may be bad since you didn't explicitly set num_leaves OR 2^max_depth > num_leaves. (num_leaves=31).\n",
            "[LightGBM] [Warning] Accuracy may be bad since you didn't explicitly set num_leaves OR 2^max_depth > num_leaves. (num_leaves=31).\n",
            "[LightGBM] [Warning] Accuracy may be bad since you didn't explicitly set num_leaves OR 2^max_depth > num_leaves. (num_leaves=31).\n",
            "[LightGBM] [Info] Auto-choosing row-wise multi-threading, the overhead of testing was 0.010003 seconds.\n",
            "You can set `force_row_wise=true` to remove the overhead.\n",
            "And if memory is not enough, you can set `force_col_wise=true`.\n",
            "[LightGBM] [Info] Total Bins 2818\n",
            "[LightGBM] [Info] Number of data points in the train set: 234868, number of used features: 12\n",
            "[LightGBM] [Info] Start training from score 63655.311195\n",
            "[LightGBM] [Warning] Accuracy may be bad since you didn't explicitly set num_leaves OR 2^max_depth > num_leaves. (num_leaves=31).\n",
            "[LightGBM] [Warning] Accuracy may be bad since you didn't explicitly set num_leaves OR 2^max_depth > num_leaves. (num_leaves=31).\n",
            "[LightGBM] [Warning] Accuracy may be bad since you didn't explicitly set num_leaves OR 2^max_depth > num_leaves. (num_leaves=31).\n",
            "[LightGBM] [Info] Auto-choosing row-wise multi-threading, the overhead of testing was 0.010254 seconds.\n",
            "You can set `force_row_wise=true` to remove the overhead.\n",
            "And if memory is not enough, you can set `force_col_wise=true`.\n",
            "[LightGBM] [Info] Total Bins 2818\n",
            "[LightGBM] [Info] Number of data points in the train set: 234868, number of used features: 12\n",
            "[LightGBM] [Info] Start training from score 63655.344178\n",
            "[LightGBM] [Warning] Accuracy may be bad since you didn't explicitly set num_leaves OR 2^max_depth > num_leaves. (num_leaves=31).\n",
            "[LightGBM] [Warning] Accuracy may be bad since you didn't explicitly set num_leaves OR 2^max_depth > num_leaves. (num_leaves=31).\n",
            "[LightGBM] [Warning] Accuracy may be bad since you didn't explicitly set num_leaves OR 2^max_depth > num_leaves. (num_leaves=31).\n",
            "[LightGBM] [Info] Auto-choosing row-wise multi-threading, the overhead of testing was 0.009729 seconds.\n",
            "You can set `force_row_wise=true` to remove the overhead.\n",
            "And if memory is not enough, you can set `force_col_wise=true`.\n",
            "[LightGBM] [Info] Total Bins 2818\n",
            "[LightGBM] [Info] Number of data points in the train set: 234868, number of used features: 12\n",
            "[LightGBM] [Info] Start training from score 63655.376593\n",
            "[LightGBM] [Warning] Accuracy may be bad since you didn't explicitly set num_leaves OR 2^max_depth > num_leaves. (num_leaves=31).\n",
            "[LightGBM] [Warning] Accuracy may be bad since you didn't explicitly set num_leaves OR 2^max_depth > num_leaves. (num_leaves=31).\n",
            "[LightGBM] [Warning] Accuracy may be bad since you didn't explicitly set num_leaves OR 2^max_depth > num_leaves. (num_leaves=31).\n",
            "[LightGBM] [Info] Auto-choosing col-wise multi-threading, the overhead of testing was 0.102166 seconds.\n",
            "You can set `force_col_wise=true` to remove the overhead.\n",
            "[LightGBM] [Info] Total Bins 2818\n",
            "[LightGBM] [Info] Number of data points in the train set: 234868, number of used features: 12\n",
            "[LightGBM] [Info] Start training from score 63655.409948\n",
            "[LightGBM] [Warning] Accuracy may be bad since you didn't explicitly set num_leaves OR 2^max_depth > num_leaves. (num_leaves=31).\n",
            "[LightGBM] [Warning] Accuracy may be bad since you didn't explicitly set num_leaves OR 2^max_depth > num_leaves. (num_leaves=31).\n",
            "[LightGBM] [Warning] Accuracy may be bad since you didn't explicitly set num_leaves OR 2^max_depth > num_leaves. (num_leaves=31).\n",
            "[LightGBM] [Info] Auto-choosing row-wise multi-threading, the overhead of testing was 0.009898 seconds.\n",
            "You can set `force_row_wise=true` to remove the overhead.\n",
            "And if memory is not enough, you can set `force_col_wise=true`.\n",
            "[LightGBM] [Info] Total Bins 2818\n",
            "[LightGBM] [Info] Number of data points in the train set: 234868, number of used features: 12\n",
            "[LightGBM] [Info] Start training from score 63655.443103\n",
            "[LightGBM] [Warning] Accuracy may be bad since you didn't explicitly set num_leaves OR 2^max_depth > num_leaves. (num_leaves=31).\n",
            "[LightGBM] [Warning] Accuracy may be bad since you didn't explicitly set num_leaves OR 2^max_depth > num_leaves. (num_leaves=31).\n",
            "[LightGBM] [Warning] Accuracy may be bad since you didn't explicitly set num_leaves OR 2^max_depth > num_leaves. (num_leaves=31).\n",
            "[LightGBM] [Info] Auto-choosing row-wise multi-threading, the overhead of testing was 0.010379 seconds.\n",
            "You can set `force_row_wise=true` to remove the overhead.\n",
            "And if memory is not enough, you can set `force_col_wise=true`.\n",
            "[LightGBM] [Info] Total Bins 2818\n",
            "[LightGBM] [Info] Number of data points in the train set: 234868, number of used features: 12\n",
            "[LightGBM] [Info] Start training from score 63655.474988\n",
            "[LightGBM] [Warning] Accuracy may be bad since you didn't explicitly set num_leaves OR 2^max_depth > num_leaves. (num_leaves=31).\n",
            "[LightGBM] [Warning] Accuracy may be bad since you didn't explicitly set num_leaves OR 2^max_depth > num_leaves. (num_leaves=31).\n",
            "[LightGBM] [Warning] Accuracy may be bad since you didn't explicitly set num_leaves OR 2^max_depth > num_leaves. (num_leaves=31).\n",
            "[LightGBM] [Info] Auto-choosing row-wise multi-threading, the overhead of testing was 0.009818 seconds.\n",
            "You can set `force_row_wise=true` to remove the overhead.\n",
            "And if memory is not enough, you can set `force_col_wise=true`.\n",
            "[LightGBM] [Info] Total Bins 2818\n",
            "[LightGBM] [Info] Number of data points in the train set: 234868, number of used features: 12\n",
            "[LightGBM] [Info] Start training from score 63655.505095\n",
            "[LightGBM] [Warning] Accuracy may be bad since you didn't explicitly set num_leaves OR 2^max_depth > num_leaves. (num_leaves=31).\n",
            "[LightGBM] [Warning] Accuracy may be bad since you didn't explicitly set num_leaves OR 2^max_depth > num_leaves. (num_leaves=31).\n",
            "[LightGBM] [Warning] Accuracy may be bad since you didn't explicitly set num_leaves OR 2^max_depth > num_leaves. (num_leaves=31).\n",
            "[LightGBM] [Info] Auto-choosing row-wise multi-threading, the overhead of testing was 0.009681 seconds.\n",
            "You can set `force_row_wise=true` to remove the overhead.\n",
            "And if memory is not enough, you can set `force_col_wise=true`.\n",
            "[LightGBM] [Info] Total Bins 2818\n",
            "[LightGBM] [Info] Number of data points in the train set: 234868, number of used features: 12\n",
            "[LightGBM] [Info] Start training from score 63655.534935\n",
            "[LightGBM] [Warning] Accuracy may be bad since you didn't explicitly set num_leaves OR 2^max_depth > num_leaves. (num_leaves=31).\n",
            "[LightGBM] [Warning] Accuracy may be bad since you didn't explicitly set num_leaves OR 2^max_depth > num_leaves. (num_leaves=31).\n",
            "[LightGBM] [Warning] Accuracy may be bad since you didn't explicitly set num_leaves OR 2^max_depth > num_leaves. (num_leaves=31).\n",
            "[LightGBM] [Info] Auto-choosing row-wise multi-threading, the overhead of testing was 0.016153 seconds.\n",
            "You can set `force_row_wise=true` to remove the overhead.\n",
            "And if memory is not enough, you can set `force_col_wise=true`.\n",
            "[LightGBM] [Info] Total Bins 2818\n",
            "[LightGBM] [Info] Number of data points in the train set: 234868, number of used features: 12\n",
            "[LightGBM] [Info] Start training from score 63655.564917\n",
            "[LightGBM] [Warning] Accuracy may be bad since you didn't explicitly set num_leaves OR 2^max_depth > num_leaves. (num_leaves=31).\n",
            "[LightGBM] [Warning] Accuracy may be bad since you didn't explicitly set num_leaves OR 2^max_depth > num_leaves. (num_leaves=31).\n",
            "[LightGBM] [Warning] Accuracy may be bad since you didn't explicitly set num_leaves OR 2^max_depth > num_leaves. (num_leaves=31).\n",
            "[LightGBM] [Info] Auto-choosing row-wise multi-threading, the overhead of testing was 0.010036 seconds.\n",
            "You can set `force_row_wise=true` to remove the overhead.\n",
            "And if memory is not enough, you can set `force_col_wise=true`.\n",
            "[LightGBM] [Info] Total Bins 2818\n",
            "[LightGBM] [Info] Number of data points in the train set: 234868, number of used features: 12\n",
            "[LightGBM] [Info] Start training from score 63655.595878\n",
            "[LightGBM] [Warning] Accuracy may be bad since you didn't explicitly set num_leaves OR 2^max_depth > num_leaves. (num_leaves=31).\n",
            "[LightGBM] [Warning] Accuracy may be bad since you didn't explicitly set num_leaves OR 2^max_depth > num_leaves. (num_leaves=31).\n",
            "[LightGBM] [Warning] Accuracy may be bad since you didn't explicitly set num_leaves OR 2^max_depth > num_leaves. (num_leaves=31).\n",
            "[LightGBM] [Info] Auto-choosing row-wise multi-threading, the overhead of testing was 0.009650 seconds.\n",
            "You can set `force_row_wise=true` to remove the overhead.\n",
            "And if memory is not enough, you can set `force_col_wise=true`.\n",
            "[LightGBM] [Info] Total Bins 2818\n",
            "[LightGBM] [Info] Number of data points in the train set: 234868, number of used features: 12\n",
            "[LightGBM] [Info] Start training from score 63655.626248\n",
            "[LightGBM] [Warning] Accuracy may be bad since you didn't explicitly set num_leaves OR 2^max_depth > num_leaves. (num_leaves=31).\n",
            "[LightGBM] [Warning] Accuracy may be bad since you didn't explicitly set num_leaves OR 2^max_depth > num_leaves. (num_leaves=31).\n",
            "[LightGBM] [Warning] Accuracy may be bad since you didn't explicitly set num_leaves OR 2^max_depth > num_leaves. (num_leaves=31).\n",
            "[LightGBM] [Info] Auto-choosing row-wise multi-threading, the overhead of testing was 0.010239 seconds.\n",
            "You can set `force_row_wise=true` to remove the overhead.\n",
            "And if memory is not enough, you can set `force_col_wise=true`.\n",
            "[LightGBM] [Info] Total Bins 2818\n",
            "[LightGBM] [Info] Number of data points in the train set: 234868, number of used features: 12\n",
            "[LightGBM] [Info] Start training from score 63655.655657\n",
            "[LightGBM] [Warning] Accuracy may be bad since you didn't explicitly set num_leaves OR 2^max_depth > num_leaves. (num_leaves=31).\n",
            "[LightGBM] [Warning] Accuracy may be bad since you didn't explicitly set num_leaves OR 2^max_depth > num_leaves. (num_leaves=31).\n",
            "[LightGBM] [Warning] Accuracy may be bad since you didn't explicitly set num_leaves OR 2^max_depth > num_leaves. (num_leaves=31).\n",
            "[LightGBM] [Info] Auto-choosing row-wise multi-threading, the overhead of testing was 0.016723 seconds.\n",
            "You can set `force_row_wise=true` to remove the overhead.\n",
            "And if memory is not enough, you can set `force_col_wise=true`.\n",
            "[LightGBM] [Info] Total Bins 2818\n",
            "[LightGBM] [Info] Number of data points in the train set: 234868, number of used features: 12\n",
            "[LightGBM] [Info] Start training from score 63655.684047\n",
            "[LightGBM] [Warning] Accuracy may be bad since you didn't explicitly set num_leaves OR 2^max_depth > num_leaves. (num_leaves=31).\n",
            "[LightGBM] [Warning] Accuracy may be bad since you didn't explicitly set num_leaves OR 2^max_depth > num_leaves. (num_leaves=31).\n",
            "[LightGBM] [Warning] Accuracy may be bad since you didn't explicitly set num_leaves OR 2^max_depth > num_leaves. (num_leaves=31).\n",
            "[LightGBM] [Info] Auto-choosing row-wise multi-threading, the overhead of testing was 0.009727 seconds.\n",
            "You can set `force_row_wise=true` to remove the overhead.\n",
            "And if memory is not enough, you can set `force_col_wise=true`.\n",
            "[LightGBM] [Info] Total Bins 2818\n",
            "[LightGBM] [Info] Number of data points in the train set: 234868, number of used features: 12\n",
            "[LightGBM] [Info] Start training from score 63655.713712\n",
            "[LightGBM] [Warning] Accuracy may be bad since you didn't explicitly set num_leaves OR 2^max_depth > num_leaves. (num_leaves=31).\n",
            "[LightGBM] [Warning] Accuracy may be bad since you didn't explicitly set num_leaves OR 2^max_depth > num_leaves. (num_leaves=31).\n",
            "[LightGBM] [Warning] Accuracy may be bad since you didn't explicitly set num_leaves OR 2^max_depth > num_leaves. (num_leaves=31).\n",
            "[LightGBM] [Info] Auto-choosing row-wise multi-threading, the overhead of testing was 0.010589 seconds.\n",
            "You can set `force_row_wise=true` to remove the overhead.\n",
            "And if memory is not enough, you can set `force_col_wise=true`.\n",
            "[LightGBM] [Info] Total Bins 2818\n",
            "[LightGBM] [Info] Number of data points in the train set: 234868, number of used features: 12\n",
            "[LightGBM] [Info] Start training from score 63655.741052\n",
            "[LightGBM] [Warning] Accuracy may be bad since you didn't explicitly set num_leaves OR 2^max_depth > num_leaves. (num_leaves=31).\n",
            "[LightGBM] [Warning] Accuracy may be bad since you didn't explicitly set num_leaves OR 2^max_depth > num_leaves. (num_leaves=31).\n",
            "[LightGBM] [Warning] Accuracy may be bad since you didn't explicitly set num_leaves OR 2^max_depth > num_leaves. (num_leaves=31).\n",
            "[LightGBM] [Info] Auto-choosing row-wise multi-threading, the overhead of testing was 0.010678 seconds.\n",
            "You can set `force_row_wise=true` to remove the overhead.\n",
            "And if memory is not enough, you can set `force_col_wise=true`.\n",
            "[LightGBM] [Info] Total Bins 2818\n",
            "[LightGBM] [Info] Number of data points in the train set: 234868, number of used features: 12\n",
            "[LightGBM] [Info] Start training from score 63655.768821\n",
            "[LightGBM] [Warning] Accuracy may be bad since you didn't explicitly set num_leaves OR 2^max_depth > num_leaves. (num_leaves=31).\n",
            "[LightGBM] [Warning] Accuracy may be bad since you didn't explicitly set num_leaves OR 2^max_depth > num_leaves. (num_leaves=31).\n",
            "[LightGBM] [Warning] Accuracy may be bad since you didn't explicitly set num_leaves OR 2^max_depth > num_leaves. (num_leaves=31).\n",
            "[LightGBM] [Info] Auto-choosing row-wise multi-threading, the overhead of testing was 0.009728 seconds.\n",
            "You can set `force_row_wise=true` to remove the overhead.\n",
            "And if memory is not enough, you can set `force_col_wise=true`.\n",
            "[LightGBM] [Info] Total Bins 2818\n",
            "[LightGBM] [Info] Number of data points in the train set: 234868, number of used features: 12\n",
            "[LightGBM] [Info] Start training from score 63655.795002\n",
            "[LightGBM] [Warning] Accuracy may be bad since you didn't explicitly set num_leaves OR 2^max_depth > num_leaves. (num_leaves=31).\n",
            "[LightGBM] [Warning] Accuracy may be bad since you didn't explicitly set num_leaves OR 2^max_depth > num_leaves. (num_leaves=31).\n",
            "[LightGBM] [Warning] Accuracy may be bad since you didn't explicitly set num_leaves OR 2^max_depth > num_leaves. (num_leaves=31).\n",
            "[LightGBM] [Info] Auto-choosing col-wise multi-threading, the overhead of testing was 0.051178 seconds.\n",
            "You can set `force_col_wise=true` to remove the overhead.\n",
            "[LightGBM] [Info] Total Bins 2818\n",
            "[LightGBM] [Info] Number of data points in the train set: 234868, number of used features: 12\n",
            "[LightGBM] [Info] Start training from score 63655.819666\n",
            "[LightGBM] [Warning] Accuracy may be bad since you didn't explicitly set num_leaves OR 2^max_depth > num_leaves. (num_leaves=31).\n",
            "[LightGBM] [Warning] Accuracy may be bad since you didn't explicitly set num_leaves OR 2^max_depth > num_leaves. (num_leaves=31).\n",
            "[LightGBM] [Warning] Accuracy may be bad since you didn't explicitly set num_leaves OR 2^max_depth > num_leaves. (num_leaves=31).\n",
            "[LightGBM] [Info] Auto-choosing row-wise multi-threading, the overhead of testing was 0.010583 seconds.\n",
            "You can set `force_row_wise=true` to remove the overhead.\n",
            "And if memory is not enough, you can set `force_col_wise=true`.\n",
            "[LightGBM] [Info] Total Bins 2818\n",
            "[LightGBM] [Info] Number of data points in the train set: 234868, number of used features: 12\n",
            "[LightGBM] [Info] Start training from score 63655.843009\n",
            "[LightGBM] [Warning] Accuracy may be bad since you didn't explicitly set num_leaves OR 2^max_depth > num_leaves. (num_leaves=31).\n",
            "[LightGBM] [Warning] Accuracy may be bad since you didn't explicitly set num_leaves OR 2^max_depth > num_leaves. (num_leaves=31).\n",
            "[LightGBM] [Warning] Accuracy may be bad since you didn't explicitly set num_leaves OR 2^max_depth > num_leaves. (num_leaves=31).\n",
            "[LightGBM] [Info] Auto-choosing row-wise multi-threading, the overhead of testing was 0.010447 seconds.\n",
            "You can set `force_row_wise=true` to remove the overhead.\n",
            "And if memory is not enough, you can set `force_col_wise=true`.\n",
            "[LightGBM] [Info] Total Bins 2818\n",
            "[LightGBM] [Info] Number of data points in the train set: 234868, number of used features: 12\n",
            "[LightGBM] [Info] Start training from score 63655.865752\n",
            "[LightGBM] [Warning] Accuracy may be bad since you didn't explicitly set num_leaves OR 2^max_depth > num_leaves. (num_leaves=31).\n",
            "[LightGBM] [Warning] Accuracy may be bad since you didn't explicitly set num_leaves OR 2^max_depth > num_leaves. (num_leaves=31).\n",
            "[LightGBM] [Warning] Accuracy may be bad since you didn't explicitly set num_leaves OR 2^max_depth > num_leaves. (num_leaves=31).\n",
            "[LightGBM] [Info] Auto-choosing row-wise multi-threading, the overhead of testing was 0.009982 seconds.\n",
            "You can set `force_row_wise=true` to remove the overhead.\n",
            "And if memory is not enough, you can set `force_col_wise=true`.\n",
            "[LightGBM] [Info] Total Bins 2818\n",
            "[LightGBM] [Info] Number of data points in the train set: 234868, number of used features: 12\n",
            "[LightGBM] [Info] Start training from score 63655.887873\n",
            "[LightGBM] [Warning] Accuracy may be bad since you didn't explicitly set num_leaves OR 2^max_depth > num_leaves. (num_leaves=31).\n",
            "[LightGBM] [Warning] Accuracy may be bad since you didn't explicitly set num_leaves OR 2^max_depth > num_leaves. (num_leaves=31).\n",
            "[LightGBM] [Warning] Accuracy may be bad since you didn't explicitly set num_leaves OR 2^max_depth > num_leaves. (num_leaves=31).\n",
            "[LightGBM] [Info] Auto-choosing row-wise multi-threading, the overhead of testing was 0.009615 seconds.\n",
            "You can set `force_row_wise=true` to remove the overhead.\n",
            "And if memory is not enough, you can set `force_col_wise=true`.\n",
            "[LightGBM] [Info] Total Bins 2818\n",
            "[LightGBM] [Info] Number of data points in the train set: 234868, number of used features: 12\n",
            "[LightGBM] [Info] Start training from score 63655.910006\n",
            "[LightGBM] [Warning] Accuracy may be bad since you didn't explicitly set num_leaves OR 2^max_depth > num_leaves. (num_leaves=31).\n",
            "[LightGBM] [Warning] Accuracy may be bad since you didn't explicitly set num_leaves OR 2^max_depth > num_leaves. (num_leaves=31).\n",
            "[LightGBM] [Warning] Accuracy may be bad since you didn't explicitly set num_leaves OR 2^max_depth > num_leaves. (num_leaves=31).\n",
            "[LightGBM] [Info] Auto-choosing row-wise multi-threading, the overhead of testing was 0.015848 seconds.\n",
            "You can set `force_row_wise=true` to remove the overhead.\n",
            "And if memory is not enough, you can set `force_col_wise=true`.\n",
            "[LightGBM] [Info] Total Bins 2818\n",
            "[LightGBM] [Info] Number of data points in the train set: 234868, number of used features: 12\n",
            "[LightGBM] [Info] Start training from score 63655.931143\n",
            "[LightGBM] [Warning] Accuracy may be bad since you didn't explicitly set num_leaves OR 2^max_depth > num_leaves. (num_leaves=31).\n",
            "[LightGBM] [Warning] Accuracy may be bad since you didn't explicitly set num_leaves OR 2^max_depth > num_leaves. (num_leaves=31).\n",
            "[LightGBM] [Warning] Accuracy may be bad since you didn't explicitly set num_leaves OR 2^max_depth > num_leaves. (num_leaves=31).\n",
            "[LightGBM] [Info] Auto-choosing row-wise multi-threading, the overhead of testing was 0.009761 seconds.\n",
            "You can set `force_row_wise=true` to remove the overhead.\n",
            "And if memory is not enough, you can set `force_col_wise=true`.\n",
            "[LightGBM] [Info] Total Bins 2818\n",
            "[LightGBM] [Info] Number of data points in the train set: 234868, number of used features: 12\n",
            "[LightGBM] [Info] Start training from score 63655.952121\n",
            "[LightGBM] [Warning] Accuracy may be bad since you didn't explicitly set num_leaves OR 2^max_depth > num_leaves. (num_leaves=31).\n",
            "[LightGBM] [Warning] Accuracy may be bad since you didn't explicitly set num_leaves OR 2^max_depth > num_leaves. (num_leaves=31).\n",
            "[LightGBM] [Warning] Accuracy may be bad since you didn't explicitly set num_leaves OR 2^max_depth > num_leaves. (num_leaves=31).\n",
            "[LightGBM] [Info] Auto-choosing row-wise multi-threading, the overhead of testing was 0.009828 seconds.\n",
            "You can set `force_row_wise=true` to remove the overhead.\n",
            "And if memory is not enough, you can set `force_col_wise=true`.\n",
            "[LightGBM] [Info] Total Bins 2818\n",
            "[LightGBM] [Info] Number of data points in the train set: 234868, number of used features: 12\n",
            "[LightGBM] [Info] Start training from score 63655.975733\n",
            "[LightGBM] [Warning] Accuracy may be bad since you didn't explicitly set num_leaves OR 2^max_depth > num_leaves. (num_leaves=31).\n",
            "[LightGBM] [Warning] Accuracy may be bad since you didn't explicitly set num_leaves OR 2^max_depth > num_leaves. (num_leaves=31).\n",
            "[LightGBM] [Warning] Accuracy may be bad since you didn't explicitly set num_leaves OR 2^max_depth > num_leaves. (num_leaves=31).\n",
            "[LightGBM] [Info] Auto-choosing row-wise multi-threading, the overhead of testing was 0.009903 seconds.\n",
            "You can set `force_row_wise=true` to remove the overhead.\n",
            "And if memory is not enough, you can set `force_col_wise=true`.\n",
            "[LightGBM] [Info] Total Bins 2818\n",
            "[LightGBM] [Info] Number of data points in the train set: 234868, number of used features: 12\n",
            "[LightGBM] [Info] Start training from score 63655.997019\n",
            "[LightGBM] [Warning] Accuracy may be bad since you didn't explicitly set num_leaves OR 2^max_depth > num_leaves. (num_leaves=31).\n",
            "[LightGBM] [Warning] Accuracy may be bad since you didn't explicitly set num_leaves OR 2^max_depth > num_leaves. (num_leaves=31).\n",
            "[LightGBM] [Warning] Accuracy may be bad since you didn't explicitly set num_leaves OR 2^max_depth > num_leaves. (num_leaves=31).\n",
            "[LightGBM] [Info] Auto-choosing row-wise multi-threading, the overhead of testing was 0.016314 seconds.\n",
            "You can set `force_row_wise=true` to remove the overhead.\n",
            "And if memory is not enough, you can set `force_col_wise=true`.\n",
            "[LightGBM] [Info] Total Bins 2818\n",
            "[LightGBM] [Info] Number of data points in the train set: 234868, number of used features: 12\n",
            "[LightGBM] [Info] Start training from score 63656.017687\n",
            "[LightGBM] [Warning] Accuracy may be bad since you didn't explicitly set num_leaves OR 2^max_depth > num_leaves. (num_leaves=31).\n",
            "[LightGBM] [Warning] Accuracy may be bad since you didn't explicitly set num_leaves OR 2^max_depth > num_leaves. (num_leaves=31).\n",
            "[LightGBM] [Warning] Accuracy may be bad since you didn't explicitly set num_leaves OR 2^max_depth > num_leaves. (num_leaves=31).\n",
            "[LightGBM] [Info] Auto-choosing row-wise multi-threading, the overhead of testing was 0.010367 seconds.\n",
            "You can set `force_row_wise=true` to remove the overhead.\n",
            "And if memory is not enough, you can set `force_col_wise=true`.\n",
            "[LightGBM] [Info] Total Bins 2818\n",
            "[LightGBM] [Info] Number of data points in the train set: 234868, number of used features: 12\n",
            "[LightGBM] [Info] Start training from score 63656.038395\n",
            "[LightGBM] [Warning] Accuracy may be bad since you didn't explicitly set num_leaves OR 2^max_depth > num_leaves. (num_leaves=31).\n",
            "[LightGBM] [Warning] Accuracy may be bad since you didn't explicitly set num_leaves OR 2^max_depth > num_leaves. (num_leaves=31).\n",
            "[LightGBM] [Warning] Accuracy may be bad since you didn't explicitly set num_leaves OR 2^max_depth > num_leaves. (num_leaves=31).\n",
            "[LightGBM] [Info] Auto-choosing row-wise multi-threading, the overhead of testing was 0.010680 seconds.\n",
            "You can set `force_row_wise=true` to remove the overhead.\n",
            "And if memory is not enough, you can set `force_col_wise=true`.\n",
            "[LightGBM] [Info] Total Bins 2818\n",
            "[LightGBM] [Info] Number of data points in the train set: 234868, number of used features: 12\n",
            "[LightGBM] [Info] Start training from score 63656.055843\n",
            "[LightGBM] [Warning] Accuracy may be bad since you didn't explicitly set num_leaves OR 2^max_depth > num_leaves. (num_leaves=31).\n",
            "[LightGBM] [Warning] Accuracy may be bad since you didn't explicitly set num_leaves OR 2^max_depth > num_leaves. (num_leaves=31).\n",
            "[LightGBM] [Warning] Accuracy may be bad since you didn't explicitly set num_leaves OR 2^max_depth > num_leaves. (num_leaves=31).\n",
            "[LightGBM] [Info] Auto-choosing row-wise multi-threading, the overhead of testing was 0.010237 seconds.\n",
            "You can set `force_row_wise=true` to remove the overhead.\n",
            "And if memory is not enough, you can set `force_col_wise=true`.\n",
            "[LightGBM] [Info] Total Bins 2818\n",
            "[LightGBM] [Info] Number of data points in the train set: 234868, number of used features: 12\n",
            "[LightGBM] [Info] Start training from score 63656.072211\n",
            "[LightGBM] [Warning] Accuracy may be bad since you didn't explicitly set num_leaves OR 2^max_depth > num_leaves. (num_leaves=31).\n",
            "[LightGBM] [Warning] Accuracy may be bad since you didn't explicitly set num_leaves OR 2^max_depth > num_leaves. (num_leaves=31).\n",
            "[LightGBM] [Warning] Accuracy may be bad since you didn't explicitly set num_leaves OR 2^max_depth > num_leaves. (num_leaves=31).\n",
            "[LightGBM] [Info] Auto-choosing row-wise multi-threading, the overhead of testing was 0.009962 seconds.\n",
            "You can set `force_row_wise=true` to remove the overhead.\n",
            "And if memory is not enough, you can set `force_col_wise=true`.\n",
            "[LightGBM] [Info] Total Bins 2818\n",
            "[LightGBM] [Info] Number of data points in the train set: 234868, number of used features: 12\n",
            "[LightGBM] [Info] Start training from score 63656.083228\n",
            "[LightGBM] [Warning] Accuracy may be bad since you didn't explicitly set num_leaves OR 2^max_depth > num_leaves. (num_leaves=31).\n",
            "[LightGBM] [Warning] Accuracy may be bad since you didn't explicitly set num_leaves OR 2^max_depth > num_leaves. (num_leaves=31).\n",
            "[LightGBM] [Warning] Accuracy may be bad since you didn't explicitly set num_leaves OR 2^max_depth > num_leaves. (num_leaves=31).\n",
            "[LightGBM] [Info] Auto-choosing row-wise multi-threading, the overhead of testing was 0.017320 seconds.\n",
            "You can set `force_row_wise=true` to remove the overhead.\n",
            "And if memory is not enough, you can set `force_col_wise=true`.\n",
            "[LightGBM] [Info] Total Bins 2818\n",
            "[LightGBM] [Info] Number of data points in the train set: 234868, number of used features: 12\n",
            "[LightGBM] [Info] Start training from score 63656.093729\n",
            "[LightGBM] [Warning] Accuracy may be bad since you didn't explicitly set num_leaves OR 2^max_depth > num_leaves. (num_leaves=31).\n",
            "[LightGBM] [Warning] Accuracy may be bad since you didn't explicitly set num_leaves OR 2^max_depth > num_leaves. (num_leaves=31).\n",
            "[LightGBM] [Warning] Accuracy may be bad since you didn't explicitly set num_leaves OR 2^max_depth > num_leaves. (num_leaves=31).\n",
            "[LightGBM] [Info] Auto-choosing row-wise multi-threading, the overhead of testing was 0.009977 seconds.\n",
            "You can set `force_row_wise=true` to remove the overhead.\n",
            "And if memory is not enough, you can set `force_col_wise=true`.\n",
            "[LightGBM] [Info] Total Bins 2818\n",
            "[LightGBM] [Info] Number of data points in the train set: 234868, number of used features: 12\n",
            "[LightGBM] [Info] Start training from score 63656.101720\n",
            "[LightGBM] [Warning] Accuracy may be bad since you didn't explicitly set num_leaves OR 2^max_depth > num_leaves. (num_leaves=31).\n",
            "[LightGBM] [Warning] Accuracy may be bad since you didn't explicitly set num_leaves OR 2^max_depth > num_leaves. (num_leaves=31).\n",
            "[LightGBM] [Warning] Accuracy may be bad since you didn't explicitly set num_leaves OR 2^max_depth > num_leaves. (num_leaves=31).\n",
            "[LightGBM] [Info] Auto-choosing row-wise multi-threading, the overhead of testing was 0.009830 seconds.\n",
            "You can set `force_row_wise=true` to remove the overhead.\n",
            "And if memory is not enough, you can set `force_col_wise=true`.\n",
            "[LightGBM] [Info] Total Bins 2818\n",
            "[LightGBM] [Info] Number of data points in the train set: 234868, number of used features: 12\n",
            "[LightGBM] [Info] Start training from score 63656.108537\n",
            "[LightGBM] [Warning] Accuracy may be bad since you didn't explicitly set num_leaves OR 2^max_depth > num_leaves. (num_leaves=31).\n",
            "[LightGBM] [Warning] Accuracy may be bad since you didn't explicitly set num_leaves OR 2^max_depth > num_leaves. (num_leaves=31).\n",
            "[LightGBM] [Warning] Accuracy may be bad since you didn't explicitly set num_leaves OR 2^max_depth > num_leaves. (num_leaves=31).\n",
            "[LightGBM] [Info] Auto-choosing row-wise multi-threading, the overhead of testing was 0.009681 seconds.\n",
            "You can set `force_row_wise=true` to remove the overhead.\n",
            "And if memory is not enough, you can set `force_col_wise=true`.\n",
            "[LightGBM] [Info] Total Bins 2818\n",
            "[LightGBM] [Info] Number of data points in the train set: 234868, number of used features: 12\n",
            "[LightGBM] [Info] Start training from score 63656.112175\n",
            "[LightGBM] [Warning] Accuracy may be bad since you didn't explicitly set num_leaves OR 2^max_depth > num_leaves. (num_leaves=31).\n",
            "[LightGBM] [Warning] Accuracy may be bad since you didn't explicitly set num_leaves OR 2^max_depth > num_leaves. (num_leaves=31).\n",
            "[LightGBM] [Warning] Accuracy may be bad since you didn't explicitly set num_leaves OR 2^max_depth > num_leaves. (num_leaves=31).\n",
            "[LightGBM] [Info] Auto-choosing row-wise multi-threading, the overhead of testing was 0.010188 seconds.\n",
            "You can set `force_row_wise=true` to remove the overhead.\n",
            "And if memory is not enough, you can set `force_col_wise=true`.\n",
            "[LightGBM] [Info] Total Bins 2818\n",
            "[LightGBM] [Info] Number of data points in the train set: 234868, number of used features: 12\n",
            "[LightGBM] [Info] Start training from score 63656.111211\n",
            "[LightGBM] [Warning] Accuracy may be bad since you didn't explicitly set num_leaves OR 2^max_depth > num_leaves. (num_leaves=31).\n",
            "[LightGBM] [Warning] Accuracy may be bad since you didn't explicitly set num_leaves OR 2^max_depth > num_leaves. (num_leaves=31).\n",
            "[LightGBM] [Warning] Accuracy may be bad since you didn't explicitly set num_leaves OR 2^max_depth > num_leaves. (num_leaves=31).\n",
            "[LightGBM] [Info] Auto-choosing col-wise multi-threading, the overhead of testing was 0.050392 seconds.\n",
            "You can set `force_col_wise=true` to remove the overhead.\n",
            "[LightGBM] [Info] Total Bins 2818\n",
            "[LightGBM] [Info] Number of data points in the train set: 234868, number of used features: 12\n",
            "[LightGBM] [Info] Start training from score 63656.108382\n",
            "[LightGBM] [Warning] Accuracy may be bad since you didn't explicitly set num_leaves OR 2^max_depth > num_leaves. (num_leaves=31).\n",
            "[LightGBM] [Warning] Accuracy may be bad since you didn't explicitly set num_leaves OR 2^max_depth > num_leaves. (num_leaves=31).\n",
            "[LightGBM] [Warning] Accuracy may be bad since you didn't explicitly set num_leaves OR 2^max_depth > num_leaves. (num_leaves=31).\n",
            "[LightGBM] [Info] Auto-choosing row-wise multi-threading, the overhead of testing was 0.009672 seconds.\n",
            "You can set `force_row_wise=true` to remove the overhead.\n",
            "And if memory is not enough, you can set `force_col_wise=true`.\n",
            "[LightGBM] [Info] Total Bins 2818\n",
            "[LightGBM] [Info] Number of data points in the train set: 234868, number of used features: 12\n",
            "[LightGBM] [Info] Start training from score 63656.103726\n",
            "[LightGBM] [Warning] Accuracy may be bad since you didn't explicitly set num_leaves OR 2^max_depth > num_leaves. (num_leaves=31).\n",
            "[LightGBM] [Warning] Accuracy may be bad since you didn't explicitly set num_leaves OR 2^max_depth > num_leaves. (num_leaves=31).\n",
            "[LightGBM] [Warning] Accuracy may be bad since you didn't explicitly set num_leaves OR 2^max_depth > num_leaves. (num_leaves=31).\n",
            "[LightGBM] [Info] Auto-choosing row-wise multi-threading, the overhead of testing was 0.010035 seconds.\n",
            "You can set `force_row_wise=true` to remove the overhead.\n",
            "And if memory is not enough, you can set `force_col_wise=true`.\n",
            "[LightGBM] [Info] Total Bins 2818\n",
            "[LightGBM] [Info] Number of data points in the train set: 234868, number of used features: 12\n",
            "[LightGBM] [Info] Start training from score 63656.095782\n",
            "[LightGBM] [Warning] Accuracy may be bad since you didn't explicitly set num_leaves OR 2^max_depth > num_leaves. (num_leaves=31).\n",
            "[LightGBM] [Warning] Accuracy may be bad since you didn't explicitly set num_leaves OR 2^max_depth > num_leaves. (num_leaves=31).\n",
            "[LightGBM] [Warning] Accuracy may be bad since you didn't explicitly set num_leaves OR 2^max_depth > num_leaves. (num_leaves=31).\n",
            "[LightGBM] [Info] Auto-choosing row-wise multi-threading, the overhead of testing was 0.009828 seconds.\n",
            "You can set `force_row_wise=true` to remove the overhead.\n",
            "And if memory is not enough, you can set `force_col_wise=true`.\n",
            "[LightGBM] [Info] Total Bins 2818\n",
            "[LightGBM] [Info] Number of data points in the train set: 234868, number of used features: 12\n",
            "[LightGBM] [Info] Start training from score 63656.086254\n",
            "[LightGBM] [Warning] Accuracy may be bad since you didn't explicitly set num_leaves OR 2^max_depth > num_leaves. (num_leaves=31).\n",
            "[LightGBM] [Warning] Accuracy may be bad since you didn't explicitly set num_leaves OR 2^max_depth > num_leaves. (num_leaves=31).\n",
            "[LightGBM] [Warning] Accuracy may be bad since you didn't explicitly set num_leaves OR 2^max_depth > num_leaves. (num_leaves=31).\n",
            "[LightGBM] [Info] Auto-choosing row-wise multi-threading, the overhead of testing was 0.015587 seconds.\n",
            "You can set `force_row_wise=true` to remove the overhead.\n",
            "And if memory is not enough, you can set `force_col_wise=true`.\n",
            "[LightGBM] [Info] Total Bins 2818\n",
            "[LightGBM] [Info] Number of data points in the train set: 234868, number of used features: 12\n",
            "[LightGBM] [Info] Start training from score 63656.072847\n",
            "[LightGBM] [Warning] Accuracy may be bad since you didn't explicitly set num_leaves OR 2^max_depth > num_leaves. (num_leaves=31).\n",
            "[LightGBM] [Warning] Accuracy may be bad since you didn't explicitly set num_leaves OR 2^max_depth > num_leaves. (num_leaves=31).\n",
            "[LightGBM] [Warning] Accuracy may be bad since you didn't explicitly set num_leaves OR 2^max_depth > num_leaves. (num_leaves=31).\n",
            "[LightGBM] [Info] Auto-choosing row-wise multi-threading, the overhead of testing was 0.015692 seconds.\n",
            "You can set `force_row_wise=true` to remove the overhead.\n",
            "And if memory is not enough, you can set `force_col_wise=true`.\n",
            "[LightGBM] [Info] Total Bins 2818\n",
            "[LightGBM] [Info] Number of data points in the train set: 234868, number of used features: 12\n",
            "[LightGBM] [Info] Start training from score 63656.056417\n",
            "[LightGBM] [Warning] Accuracy may be bad since you didn't explicitly set num_leaves OR 2^max_depth > num_leaves. (num_leaves=31).\n"
          ]
        }
      ]
    },
    {
      "cell_type": "code",
      "source": [
        "Y_lgb = np.array(pred).reshape(72,-1)"
      ],
      "metadata": {
        "id": "WipJIoc8AjMu"
      },
      "execution_count": null,
      "outputs": []
    },
    {
      "cell_type": "code",
      "source": [
        "pred_lgb = pd.DataFrame(np.transpose(Y_lgb))"
      ],
      "metadata": {
        "id": "Rx9JrV9SA24n"
      },
      "execution_count": null,
      "outputs": []
    },
    {
      "cell_type": "code",
      "source": [
        "mean_absolute_percentage_error(Y_val, pred_lgb) # 0.0865"
      ],
      "metadata": {
        "colab": {
          "base_uri": "https://localhost:8080/"
        },
        "id": "iknq51_U9e2L",
        "outputId": "b128daa1-261a-45a7-f490-aadde6656725"
      },
      "execution_count": null,
      "outputs": [
        {
          "output_type": "execute_result",
          "data": {
            "text/plain": [
              "0.08657261242555095"
            ]
          },
          "metadata": {},
          "execution_count": 95
        }
      ]
    },
    {
      "cell_type": "markdown",
      "source": [
        "#### (3) Bagging"
      ],
      "metadata": {
        "id": "6SSVSdl3idOo"
      }
    },
    {
      "cell_type": "code",
      "source": [
        "### bagging regressor\n",
        "from sklearn.ensemble import BaggingRegressor\n",
        "bag = BaggingRegressor(n_estimators = 20,\n",
        "                       max_samples = 0.5)\n",
        "bag.fit(train_X[:len(train_X)-72], Y)"
      ],
      "metadata": {
        "colab": {
          "base_uri": "https://localhost:8080/",
          "height": 74
        },
        "id": "9-f0HxIFwJHk",
        "outputId": "c80be85d-2260-41e8-8e10-004dc7937153"
      },
      "execution_count": null,
      "outputs": [
        {
          "output_type": "execute_result",
          "data": {
            "text/plain": [
              "BaggingRegressor(max_samples=0.5, n_estimators=20)"
            ],
            "text/html": [
              "<style>#sk-container-id-2 {color: black;background-color: white;}#sk-container-id-2 pre{padding: 0;}#sk-container-id-2 div.sk-toggleable {background-color: white;}#sk-container-id-2 label.sk-toggleable__label {cursor: pointer;display: block;width: 100%;margin-bottom: 0;padding: 0.3em;box-sizing: border-box;text-align: center;}#sk-container-id-2 label.sk-toggleable__label-arrow:before {content: \"▸\";float: left;margin-right: 0.25em;color: #696969;}#sk-container-id-2 label.sk-toggleable__label-arrow:hover:before {color: black;}#sk-container-id-2 div.sk-estimator:hover label.sk-toggleable__label-arrow:before {color: black;}#sk-container-id-2 div.sk-toggleable__content {max-height: 0;max-width: 0;overflow: hidden;text-align: left;background-color: #f0f8ff;}#sk-container-id-2 div.sk-toggleable__content pre {margin: 0.2em;color: black;border-radius: 0.25em;background-color: #f0f8ff;}#sk-container-id-2 input.sk-toggleable__control:checked~div.sk-toggleable__content {max-height: 200px;max-width: 100%;overflow: auto;}#sk-container-id-2 input.sk-toggleable__control:checked~label.sk-toggleable__label-arrow:before {content: \"▾\";}#sk-container-id-2 div.sk-estimator input.sk-toggleable__control:checked~label.sk-toggleable__label {background-color: #d4ebff;}#sk-container-id-2 div.sk-label input.sk-toggleable__control:checked~label.sk-toggleable__label {background-color: #d4ebff;}#sk-container-id-2 input.sk-hidden--visually {border: 0;clip: rect(1px 1px 1px 1px);clip: rect(1px, 1px, 1px, 1px);height: 1px;margin: -1px;overflow: hidden;padding: 0;position: absolute;width: 1px;}#sk-container-id-2 div.sk-estimator {font-family: monospace;background-color: #f0f8ff;border: 1px dotted black;border-radius: 0.25em;box-sizing: border-box;margin-bottom: 0.5em;}#sk-container-id-2 div.sk-estimator:hover {background-color: #d4ebff;}#sk-container-id-2 div.sk-parallel-item::after {content: \"\";width: 100%;border-bottom: 1px solid gray;flex-grow: 1;}#sk-container-id-2 div.sk-label:hover label.sk-toggleable__label {background-color: #d4ebff;}#sk-container-id-2 div.sk-serial::before {content: \"\";position: absolute;border-left: 1px solid gray;box-sizing: border-box;top: 0;bottom: 0;left: 50%;z-index: 0;}#sk-container-id-2 div.sk-serial {display: flex;flex-direction: column;align-items: center;background-color: white;padding-right: 0.2em;padding-left: 0.2em;position: relative;}#sk-container-id-2 div.sk-item {position: relative;z-index: 1;}#sk-container-id-2 div.sk-parallel {display: flex;align-items: stretch;justify-content: center;background-color: white;position: relative;}#sk-container-id-2 div.sk-item::before, #sk-container-id-2 div.sk-parallel-item::before {content: \"\";position: absolute;border-left: 1px solid gray;box-sizing: border-box;top: 0;bottom: 0;left: 50%;z-index: -1;}#sk-container-id-2 div.sk-parallel-item {display: flex;flex-direction: column;z-index: 1;position: relative;background-color: white;}#sk-container-id-2 div.sk-parallel-item:first-child::after {align-self: flex-end;width: 50%;}#sk-container-id-2 div.sk-parallel-item:last-child::after {align-self: flex-start;width: 50%;}#sk-container-id-2 div.sk-parallel-item:only-child::after {width: 0;}#sk-container-id-2 div.sk-dashed-wrapped {border: 1px dashed gray;margin: 0 0.4em 0.5em 0.4em;box-sizing: border-box;padding-bottom: 0.4em;background-color: white;}#sk-container-id-2 div.sk-label label {font-family: monospace;font-weight: bold;display: inline-block;line-height: 1.2em;}#sk-container-id-2 div.sk-label-container {text-align: center;}#sk-container-id-2 div.sk-container {/* jupyter's `normalize.less` sets `[hidden] { display: none; }` but bootstrap.min.css set `[hidden] { display: none !important; }` so we also need the `!important` here to be able to override the default hidden behavior on the sphinx rendered scikit-learn.org. See: https://github.com/scikit-learn/scikit-learn/issues/21755 */display: inline-block !important;position: relative;}#sk-container-id-2 div.sk-text-repr-fallback {display: none;}</style><div id=\"sk-container-id-2\" class=\"sk-top-container\"><div class=\"sk-text-repr-fallback\"><pre>BaggingRegressor(max_samples=0.5, n_estimators=20)</pre><b>In a Jupyter environment, please rerun this cell to show the HTML representation or trust the notebook. <br />On GitHub, the HTML representation is unable to render, please try loading this page with nbviewer.org.</b></div><div class=\"sk-container\" hidden><div class=\"sk-item\"><div class=\"sk-estimator sk-toggleable\"><input class=\"sk-toggleable__control sk-hidden--visually\" id=\"sk-estimator-id-2\" type=\"checkbox\" checked><label for=\"sk-estimator-id-2\" class=\"sk-toggleable__label sk-toggleable__label-arrow\">BaggingRegressor</label><div class=\"sk-toggleable__content\"><pre>BaggingRegressor(max_samples=0.5, n_estimators=20)</pre></div></div></div></div></div>"
            ]
          },
          "metadata": {},
          "execution_count": 129
        }
      ]
    },
    {
      "cell_type": "code",
      "source": [
        "pred_bag = bag.predict(val_X[:len(val_X)-72])"
      ],
      "metadata": {
        "id": "F8CkJLONwwMy"
      },
      "execution_count": null,
      "outputs": []
    },
    {
      "cell_type": "code",
      "source": [
        "from sklearn.metrics import mean_absolute_percentage_error\n",
        "mean_absolute_percentage_error(Y_val, pred_bag) # 0.0932"
      ],
      "metadata": {
        "colab": {
          "base_uri": "https://localhost:8080/"
        },
        "id": "96A0Xjruw38r",
        "outputId": "015ecf0f-cacd-4b91-b992-a61be9de353f"
      },
      "execution_count": null,
      "outputs": [
        {
          "output_type": "execute_result",
          "data": {
            "text/plain": [
              "0.09323315370297049"
            ]
          },
          "metadata": {},
          "execution_count": 131
        }
      ]
    },
    {
      "cell_type": "code",
      "source": [
        "pred_test = bag.predict(test_X)"
      ],
      "metadata": {
        "id": "B-sIeCOBGBUH"
      },
      "execution_count": null,
      "outputs": []
    },
    {
      "cell_type": "code",
      "source": [
        "# 분석대상기간(23.03.13-23.03.19)의 mape 결과\n",
        "from sklearn.metrics import mean_absolute_percentage_error\n",
        "mean_absolute_percentage_error(test_Y, pred_test) #0.09772"
      ],
      "metadata": {
        "colab": {
          "base_uri": "https://localhost:8080/"
        },
        "outputId": "51de371c-97c8-4120-d65a-eb929dcb7755",
        "id": "P8rJxPO5GBUg"
      },
      "execution_count": null,
      "outputs": [
        {
          "output_type": "execute_result",
          "data": {
            "text/plain": [
              "0.09772466045635574"
            ]
          },
          "metadata": {},
          "execution_count": 133
        }
      ]
    },
    {
      "cell_type": "markdown",
      "source": [
        "### 6. 제출"
      ],
      "metadata": {
        "id": "v1BBAaTK2dXW"
      }
    },
    {
      "cell_type": "markdown",
      "source": [
        "세가지 모델 중 lightgbm 모델의 성능이 가장 좋았기 때문에 lightgbm 모델을 이용해 분석대상기간의 mape를 구하였다."
      ],
      "metadata": {
        "id": "gvdvEGkPjsRi"
      }
    },
    {
      "cell_type": "code",
      "source": [
        "pred = []\n",
        "for i in range(72):\n",
        "  lgb.fit(train_X[:len(train_X)-72], Y[[i]])\n",
        "  pred.append(lgb.predict(test_X))"
      ],
      "metadata": {
        "id": "NNNByHTNMZRk",
        "colab": {
          "base_uri": "https://localhost:8080/"
        },
        "outputId": "3992cad0-d737-470b-fc72-3939853911c6"
      },
      "execution_count": null,
      "outputs": [
        {
          "output_type": "stream",
          "name": "stdout",
          "text": [
            "[LightGBM] [Warning] Accuracy may be bad since you didn't explicitly set num_leaves OR 2^max_depth > num_leaves. (num_leaves=31).\n",
            "[LightGBM] [Warning] Accuracy may be bad since you didn't explicitly set num_leaves OR 2^max_depth > num_leaves. (num_leaves=31).\n",
            "[LightGBM] [Info] Auto-choosing row-wise multi-threading, the overhead of testing was 0.015604 seconds.\n",
            "You can set `force_row_wise=true` to remove the overhead.\n",
            "And if memory is not enough, you can set `force_col_wise=true`.\n",
            "[LightGBM] [Info] Total Bins 2818\n",
            "[LightGBM] [Info] Number of data points in the train set: 234868, number of used features: 12\n",
            "[LightGBM] [Info] Start training from score 63654.030921\n",
            "[LightGBM] [Warning] Accuracy may be bad since you didn't explicitly set num_leaves OR 2^max_depth > num_leaves. (num_leaves=31).\n",
            "[LightGBM] [Warning] Accuracy may be bad since you didn't explicitly set num_leaves OR 2^max_depth > num_leaves. (num_leaves=31).\n",
            "[LightGBM] [Warning] Accuracy may be bad since you didn't explicitly set num_leaves OR 2^max_depth > num_leaves. (num_leaves=31).\n",
            "[LightGBM] [Info] Auto-choosing row-wise multi-threading, the overhead of testing was 0.009666 seconds.\n",
            "You can set `force_row_wise=true` to remove the overhead.\n",
            "And if memory is not enough, you can set `force_col_wise=true`.\n",
            "[LightGBM] [Info] Total Bins 2818\n",
            "[LightGBM] [Info] Number of data points in the train set: 234868, number of used features: 12\n",
            "[LightGBM] [Info] Start training from score 63654.070060\n",
            "[LightGBM] [Warning] Accuracy may be bad since you didn't explicitly set num_leaves OR 2^max_depth > num_leaves. (num_leaves=31).\n",
            "[LightGBM] [Warning] Accuracy may be bad since you didn't explicitly set num_leaves OR 2^max_depth > num_leaves. (num_leaves=31).\n",
            "[LightGBM] [Warning] Accuracy may be bad since you didn't explicitly set num_leaves OR 2^max_depth > num_leaves. (num_leaves=31).\n",
            "[LightGBM] [Info] Auto-choosing row-wise multi-threading, the overhead of testing was 0.009873 seconds.\n",
            "You can set `force_row_wise=true` to remove the overhead.\n",
            "And if memory is not enough, you can set `force_col_wise=true`.\n",
            "[LightGBM] [Info] Total Bins 2818\n",
            "[LightGBM] [Info] Number of data points in the train set: 234868, number of used features: 12\n",
            "[LightGBM] [Info] Start training from score 63654.111836\n",
            "[LightGBM] [Warning] Accuracy may be bad since you didn't explicitly set num_leaves OR 2^max_depth > num_leaves. (num_leaves=31).\n",
            "[LightGBM] [Warning] Accuracy may be bad since you didn't explicitly set num_leaves OR 2^max_depth > num_leaves. (num_leaves=31).\n",
            "[LightGBM] [Warning] Accuracy may be bad since you didn't explicitly set num_leaves OR 2^max_depth > num_leaves. (num_leaves=31).\n",
            "[LightGBM] [Info] Auto-choosing row-wise multi-threading, the overhead of testing was 0.009602 seconds.\n",
            "You can set `force_row_wise=true` to remove the overhead.\n",
            "And if memory is not enough, you can set `force_col_wise=true`.\n",
            "[LightGBM] [Info] Total Bins 2818\n",
            "[LightGBM] [Info] Number of data points in the train set: 234868, number of used features: 12\n",
            "[LightGBM] [Info] Start training from score 63654.153749\n",
            "[LightGBM] [Warning] Accuracy may be bad since you didn't explicitly set num_leaves OR 2^max_depth > num_leaves. (num_leaves=31).\n",
            "[LightGBM] [Warning] Accuracy may be bad since you didn't explicitly set num_leaves OR 2^max_depth > num_leaves. (num_leaves=31).\n",
            "[LightGBM] [Warning] Accuracy may be bad since you didn't explicitly set num_leaves OR 2^max_depth > num_leaves. (num_leaves=31).\n",
            "[LightGBM] [Info] Auto-choosing row-wise multi-threading, the overhead of testing was 0.009554 seconds.\n",
            "You can set `force_row_wise=true` to remove the overhead.\n",
            "And if memory is not enough, you can set `force_col_wise=true`.\n",
            "[LightGBM] [Info] Total Bins 2818\n",
            "[LightGBM] [Info] Number of data points in the train set: 234868, number of used features: 12\n",
            "[LightGBM] [Info] Start training from score 63654.198548\n",
            "[LightGBM] [Warning] Accuracy may be bad since you didn't explicitly set num_leaves OR 2^max_depth > num_leaves. (num_leaves=31).\n",
            "[LightGBM] [Warning] Accuracy may be bad since you didn't explicitly set num_leaves OR 2^max_depth > num_leaves. (num_leaves=31).\n",
            "[LightGBM] [Warning] Accuracy may be bad since you didn't explicitly set num_leaves OR 2^max_depth > num_leaves. (num_leaves=31).\n",
            "[LightGBM] [Info] Auto-choosing row-wise multi-threading, the overhead of testing was 0.009563 seconds.\n",
            "You can set `force_row_wise=true` to remove the overhead.\n",
            "And if memory is not enough, you can set `force_col_wise=true`.\n",
            "[LightGBM] [Info] Total Bins 2818\n",
            "[LightGBM] [Info] Number of data points in the train set: 234868, number of used features: 12\n",
            "[LightGBM] [Info] Start training from score 63654.245457\n",
            "[LightGBM] [Warning] Accuracy may be bad since you didn't explicitly set num_leaves OR 2^max_depth > num_leaves. (num_leaves=31).\n",
            "[LightGBM] [Warning] Accuracy may be bad since you didn't explicitly set num_leaves OR 2^max_depth > num_leaves. (num_leaves=31).\n",
            "[LightGBM] [Warning] Accuracy may be bad since you didn't explicitly set num_leaves OR 2^max_depth > num_leaves. (num_leaves=31).\n",
            "[LightGBM] [Info] Auto-choosing row-wise multi-threading, the overhead of testing was 0.016263 seconds.\n",
            "You can set `force_row_wise=true` to remove the overhead.\n",
            "And if memory is not enough, you can set `force_col_wise=true`.\n",
            "[LightGBM] [Info] Total Bins 2818\n",
            "[LightGBM] [Info] Number of data points in the train set: 234868, number of used features: 12\n",
            "[LightGBM] [Info] Start training from score 63654.294073\n",
            "[LightGBM] [Warning] Accuracy may be bad since you didn't explicitly set num_leaves OR 2^max_depth > num_leaves. (num_leaves=31).\n",
            "[LightGBM] [Warning] Accuracy may be bad since you didn't explicitly set num_leaves OR 2^max_depth > num_leaves. (num_leaves=31).\n",
            "[LightGBM] [Warning] Accuracy may be bad since you didn't explicitly set num_leaves OR 2^max_depth > num_leaves. (num_leaves=31).\n",
            "[LightGBM] [Info] Auto-choosing row-wise multi-threading, the overhead of testing was 0.009734 seconds.\n",
            "You can set `force_row_wise=true` to remove the overhead.\n",
            "And if memory is not enough, you can set `force_col_wise=true`.\n",
            "[LightGBM] [Info] Total Bins 2818\n",
            "[LightGBM] [Info] Number of data points in the train set: 234868, number of used features: 12\n",
            "[LightGBM] [Info] Start training from score 63654.341882\n",
            "[LightGBM] [Warning] Accuracy may be bad since you didn't explicitly set num_leaves OR 2^max_depth > num_leaves. (num_leaves=31).\n",
            "[LightGBM] [Warning] Accuracy may be bad since you didn't explicitly set num_leaves OR 2^max_depth > num_leaves. (num_leaves=31).\n",
            "[LightGBM] [Warning] Accuracy may be bad since you didn't explicitly set num_leaves OR 2^max_depth > num_leaves. (num_leaves=31).\n",
            "[LightGBM] [Info] Auto-choosing row-wise multi-threading, the overhead of testing was 0.009708 seconds.\n",
            "You can set `force_row_wise=true` to remove the overhead.\n",
            "And if memory is not enough, you can set `force_col_wise=true`.\n",
            "[LightGBM] [Info] Total Bins 2818\n",
            "[LightGBM] [Info] Number of data points in the train set: 234868, number of used features: 12\n",
            "[LightGBM] [Info] Start training from score 63654.390282\n",
            "[LightGBM] [Warning] Accuracy may be bad since you didn't explicitly set num_leaves OR 2^max_depth > num_leaves. (num_leaves=31).\n",
            "[LightGBM] [Warning] Accuracy may be bad since you didn't explicitly set num_leaves OR 2^max_depth > num_leaves. (num_leaves=31).\n",
            "[LightGBM] [Warning] Accuracy may be bad since you didn't explicitly set num_leaves OR 2^max_depth > num_leaves. (num_leaves=31).\n",
            "[LightGBM] [Info] Auto-choosing row-wise multi-threading, the overhead of testing was 0.009682 seconds.\n",
            "You can set `force_row_wise=true` to remove the overhead.\n",
            "And if memory is not enough, you can set `force_col_wise=true`.\n",
            "[LightGBM] [Info] Total Bins 2818\n",
            "[LightGBM] [Info] Number of data points in the train set: 234868, number of used features: 12\n",
            "[LightGBM] [Info] Start training from score 63654.438171\n",
            "[LightGBM] [Warning] Accuracy may be bad since you didn't explicitly set num_leaves OR 2^max_depth > num_leaves. (num_leaves=31).\n",
            "[LightGBM] [Warning] Accuracy may be bad since you didn't explicitly set num_leaves OR 2^max_depth > num_leaves. (num_leaves=31).\n",
            "[LightGBM] [Warning] Accuracy may be bad since you didn't explicitly set num_leaves OR 2^max_depth > num_leaves. (num_leaves=31).\n",
            "[LightGBM] [Info] Auto-choosing row-wise multi-threading, the overhead of testing was 0.010011 seconds.\n",
            "You can set `force_row_wise=true` to remove the overhead.\n",
            "And if memory is not enough, you can set `force_col_wise=true`.\n",
            "[LightGBM] [Info] Total Bins 2818\n",
            "[LightGBM] [Info] Number of data points in the train set: 234868, number of used features: 12\n",
            "[LightGBM] [Info] Start training from score 63654.484679\n",
            "[LightGBM] [Warning] Accuracy may be bad since you didn't explicitly set num_leaves OR 2^max_depth > num_leaves. (num_leaves=31).\n",
            "[LightGBM] [Warning] Accuracy may be bad since you didn't explicitly set num_leaves OR 2^max_depth > num_leaves. (num_leaves=31).\n",
            "[LightGBM] [Warning] Accuracy may be bad since you didn't explicitly set num_leaves OR 2^max_depth > num_leaves. (num_leaves=31).\n",
            "[LightGBM] [Info] Auto-choosing col-wise multi-threading, the overhead of testing was 0.032240 seconds.\n",
            "You can set `force_col_wise=true` to remove the overhead.\n",
            "[LightGBM] [Info] Total Bins 2818\n",
            "[LightGBM] [Info] Number of data points in the train set: 234868, number of used features: 12\n",
            "[LightGBM] [Info] Start training from score 63654.530993\n",
            "[LightGBM] [Warning] Accuracy may be bad since you didn't explicitly set num_leaves OR 2^max_depth > num_leaves. (num_leaves=31).\n",
            "[LightGBM] [Warning] Accuracy may be bad since you didn't explicitly set num_leaves OR 2^max_depth > num_leaves. (num_leaves=31).\n",
            "[LightGBM] [Warning] Accuracy may be bad since you didn't explicitly set num_leaves OR 2^max_depth > num_leaves. (num_leaves=31).\n",
            "[LightGBM] [Info] Auto-choosing row-wise multi-threading, the overhead of testing was 0.015587 seconds.\n",
            "You can set `force_row_wise=true` to remove the overhead.\n",
            "And if memory is not enough, you can set `force_col_wise=true`.\n",
            "[LightGBM] [Info] Total Bins 2818\n",
            "[LightGBM] [Info] Number of data points in the train set: 234868, number of used features: 12\n",
            "[LightGBM] [Info] Start training from score 63654.577880\n",
            "[LightGBM] [Warning] Accuracy may be bad since you didn't explicitly set num_leaves OR 2^max_depth > num_leaves. (num_leaves=31).\n",
            "[LightGBM] [Warning] Accuracy may be bad since you didn't explicitly set num_leaves OR 2^max_depth > num_leaves. (num_leaves=31).\n",
            "[LightGBM] [Warning] Accuracy may be bad since you didn't explicitly set num_leaves OR 2^max_depth > num_leaves. (num_leaves=31).\n",
            "[LightGBM] [Info] Auto-choosing row-wise multi-threading, the overhead of testing was 0.009889 seconds.\n",
            "You can set `force_row_wise=true` to remove the overhead.\n",
            "And if memory is not enough, you can set `force_col_wise=true`.\n",
            "[LightGBM] [Info] Total Bins 2818\n",
            "[LightGBM] [Info] Number of data points in the train set: 234868, number of used features: 12\n",
            "[LightGBM] [Info] Start training from score 63654.623995\n",
            "[LightGBM] [Warning] Accuracy may be bad since you didn't explicitly set num_leaves OR 2^max_depth > num_leaves. (num_leaves=31).\n",
            "[LightGBM] [Warning] Accuracy may be bad since you didn't explicitly set num_leaves OR 2^max_depth > num_leaves. (num_leaves=31).\n",
            "[LightGBM] [Warning] Accuracy may be bad since you didn't explicitly set num_leaves OR 2^max_depth > num_leaves. (num_leaves=31).\n",
            "[LightGBM] [Info] Auto-choosing row-wise multi-threading, the overhead of testing was 0.009814 seconds.\n",
            "You can set `force_row_wise=true` to remove the overhead.\n",
            "And if memory is not enough, you can set `force_col_wise=true`.\n",
            "[LightGBM] [Info] Total Bins 2818\n",
            "[LightGBM] [Info] Number of data points in the train set: 234868, number of used features: 12\n",
            "[LightGBM] [Info] Start training from score 63654.669635\n",
            "[LightGBM] [Warning] Accuracy may be bad since you didn't explicitly set num_leaves OR 2^max_depth > num_leaves. (num_leaves=31).\n",
            "[LightGBM] [Warning] Accuracy may be bad since you didn't explicitly set num_leaves OR 2^max_depth > num_leaves. (num_leaves=31).\n",
            "[LightGBM] [Warning] Accuracy may be bad since you didn't explicitly set num_leaves OR 2^max_depth > num_leaves. (num_leaves=31).\n",
            "[LightGBM] [Info] Auto-choosing row-wise multi-threading, the overhead of testing was 0.010077 seconds.\n",
            "You can set `force_row_wise=true` to remove the overhead.\n",
            "And if memory is not enough, you can set `force_col_wise=true`.\n",
            "[LightGBM] [Info] Total Bins 2818\n",
            "[LightGBM] [Info] Number of data points in the train set: 234868, number of used features: 12\n",
            "[LightGBM] [Info] Start training from score 63654.713718\n",
            "[LightGBM] [Warning] Accuracy may be bad since you didn't explicitly set num_leaves OR 2^max_depth > num_leaves. (num_leaves=31).\n",
            "[LightGBM] [Warning] Accuracy may be bad since you didn't explicitly set num_leaves OR 2^max_depth > num_leaves. (num_leaves=31).\n",
            "[LightGBM] [Warning] Accuracy may be bad since you didn't explicitly set num_leaves OR 2^max_depth > num_leaves. (num_leaves=31).\n",
            "[LightGBM] [Info] Auto-choosing row-wise multi-threading, the overhead of testing was 0.009749 seconds.\n",
            "You can set `force_row_wise=true` to remove the overhead.\n",
            "And if memory is not enough, you can set `force_col_wise=true`.\n",
            "[LightGBM] [Info] Total Bins 2818\n",
            "[LightGBM] [Info] Number of data points in the train set: 234868, number of used features: 12\n",
            "[LightGBM] [Info] Start training from score 63654.758377\n",
            "[LightGBM] [Warning] Accuracy may be bad since you didn't explicitly set num_leaves OR 2^max_depth > num_leaves. (num_leaves=31).\n",
            "[LightGBM] [Warning] Accuracy may be bad since you didn't explicitly set num_leaves OR 2^max_depth > num_leaves. (num_leaves=31).\n",
            "[LightGBM] [Warning] Accuracy may be bad since you didn't explicitly set num_leaves OR 2^max_depth > num_leaves. (num_leaves=31).\n",
            "[LightGBM] [Info] Auto-choosing row-wise multi-threading, the overhead of testing was 0.016641 seconds.\n",
            "You can set `force_row_wise=true` to remove the overhead.\n",
            "And if memory is not enough, you can set `force_col_wise=true`.\n",
            "[LightGBM] [Info] Total Bins 2818\n",
            "[LightGBM] [Info] Number of data points in the train set: 234868, number of used features: 12\n",
            "[LightGBM] [Info] Start training from score 63654.802666\n",
            "[LightGBM] [Warning] Accuracy may be bad since you didn't explicitly set num_leaves OR 2^max_depth > num_leaves. (num_leaves=31).\n",
            "[LightGBM] [Warning] Accuracy may be bad since you didn't explicitly set num_leaves OR 2^max_depth > num_leaves. (num_leaves=31).\n",
            "[LightGBM] [Warning] Accuracy may be bad since you didn't explicitly set num_leaves OR 2^max_depth > num_leaves. (num_leaves=31).\n",
            "[LightGBM] [Info] Auto-choosing row-wise multi-threading, the overhead of testing was 0.009918 seconds.\n",
            "You can set `force_row_wise=true` to remove the overhead.\n",
            "And if memory is not enough, you can set `force_col_wise=true`.\n",
            "[LightGBM] [Info] Total Bins 2818\n",
            "[LightGBM] [Info] Number of data points in the train set: 234868, number of used features: 12\n",
            "[LightGBM] [Info] Start training from score 63654.843590\n",
            "[LightGBM] [Warning] Accuracy may be bad since you didn't explicitly set num_leaves OR 2^max_depth > num_leaves. (num_leaves=31).\n",
            "[LightGBM] [Warning] Accuracy may be bad since you didn't explicitly set num_leaves OR 2^max_depth > num_leaves. (num_leaves=31).\n",
            "[LightGBM] [Warning] Accuracy may be bad since you didn't explicitly set num_leaves OR 2^max_depth > num_leaves. (num_leaves=31).\n",
            "[LightGBM] [Info] Auto-choosing row-wise multi-threading, the overhead of testing was 0.010018 seconds.\n",
            "You can set `force_row_wise=true` to remove the overhead.\n",
            "And if memory is not enough, you can set `force_col_wise=true`.\n",
            "[LightGBM] [Info] Total Bins 2818\n",
            "[LightGBM] [Info] Number of data points in the train set: 234868, number of used features: 12\n",
            "[LightGBM] [Info] Start training from score 63654.884252\n",
            "[LightGBM] [Warning] Accuracy may be bad since you didn't explicitly set num_leaves OR 2^max_depth > num_leaves. (num_leaves=31).\n",
            "[LightGBM] [Warning] Accuracy may be bad since you didn't explicitly set num_leaves OR 2^max_depth > num_leaves. (num_leaves=31).\n",
            "[LightGBM] [Warning] Accuracy may be bad since you didn't explicitly set num_leaves OR 2^max_depth > num_leaves. (num_leaves=31).\n",
            "[LightGBM] [Info] Auto-choosing row-wise multi-threading, the overhead of testing was 0.009652 seconds.\n",
            "You can set `force_row_wise=true` to remove the overhead.\n",
            "And if memory is not enough, you can set `force_col_wise=true`.\n",
            "[LightGBM] [Info] Total Bins 2818\n",
            "[LightGBM] [Info] Number of data points in the train set: 234868, number of used features: 12\n",
            "[LightGBM] [Info] Start training from score 63654.925072\n",
            "[LightGBM] [Warning] Accuracy may be bad since you didn't explicitly set num_leaves OR 2^max_depth > num_leaves. (num_leaves=31).\n",
            "[LightGBM] [Warning] Accuracy may be bad since you didn't explicitly set num_leaves OR 2^max_depth > num_leaves. (num_leaves=31).\n",
            "[LightGBM] [Warning] Accuracy may be bad since you didn't explicitly set num_leaves OR 2^max_depth > num_leaves. (num_leaves=31).\n",
            "[LightGBM] [Info] Auto-choosing row-wise multi-threading, the overhead of testing was 0.009715 seconds.\n",
            "You can set `force_row_wise=true` to remove the overhead.\n",
            "And if memory is not enough, you can set `force_col_wise=true`.\n",
            "[LightGBM] [Info] Total Bins 2818\n",
            "[LightGBM] [Info] Number of data points in the train set: 234868, number of used features: 12\n",
            "[LightGBM] [Info] Start training from score 63654.965175\n",
            "[LightGBM] [Warning] Accuracy may be bad since you didn't explicitly set num_leaves OR 2^max_depth > num_leaves. (num_leaves=31).\n",
            "[LightGBM] [Warning] Accuracy may be bad since you didn't explicitly set num_leaves OR 2^max_depth > num_leaves. (num_leaves=31).\n",
            "[LightGBM] [Warning] Accuracy may be bad since you didn't explicitly set num_leaves OR 2^max_depth > num_leaves. (num_leaves=31).\n",
            "[LightGBM] [Info] Auto-choosing row-wise multi-threading, the overhead of testing was 0.009796 seconds.\n",
            "You can set `force_row_wise=true` to remove the overhead.\n",
            "And if memory is not enough, you can set `force_col_wise=true`.\n",
            "[LightGBM] [Info] Total Bins 2818\n",
            "[LightGBM] [Info] Number of data points in the train set: 234868, number of used features: 12\n",
            "[LightGBM] [Info] Start training from score 63655.003311\n",
            "[LightGBM] [Warning] Accuracy may be bad since you didn't explicitly set num_leaves OR 2^max_depth > num_leaves. (num_leaves=31).\n",
            "[LightGBM] [Warning] Accuracy may be bad since you didn't explicitly set num_leaves OR 2^max_depth > num_leaves. (num_leaves=31).\n",
            "[LightGBM] [Warning] Accuracy may be bad since you didn't explicitly set num_leaves OR 2^max_depth > num_leaves. (num_leaves=31).\n",
            "[LightGBM] [Info] Auto-choosing row-wise multi-threading, the overhead of testing was 0.015928 seconds.\n",
            "You can set `force_row_wise=true` to remove the overhead.\n",
            "And if memory is not enough, you can set `force_col_wise=true`.\n",
            "[LightGBM] [Info] Total Bins 2818\n",
            "[LightGBM] [Info] Number of data points in the train set: 234868, number of used features: 12\n",
            "[LightGBM] [Info] Start training from score 63655.043120\n",
            "[LightGBM] [Warning] Accuracy may be bad since you didn't explicitly set num_leaves OR 2^max_depth > num_leaves. (num_leaves=31).\n",
            "[LightGBM] [Warning] Accuracy may be bad since you didn't explicitly set num_leaves OR 2^max_depth > num_leaves. (num_leaves=31).\n",
            "[LightGBM] [Warning] Accuracy may be bad since you didn't explicitly set num_leaves OR 2^max_depth > num_leaves. (num_leaves=31).\n",
            "[LightGBM] [Info] Auto-choosing row-wise multi-threading, the overhead of testing was 0.009595 seconds.\n",
            "You can set `force_row_wise=true` to remove the overhead.\n",
            "And if memory is not enough, you can set `force_col_wise=true`.\n",
            "[LightGBM] [Info] Total Bins 2818\n",
            "[LightGBM] [Info] Number of data points in the train set: 234868, number of used features: 12\n",
            "[LightGBM] [Info] Start training from score 63655.083049\n",
            "[LightGBM] [Warning] Accuracy may be bad since you didn't explicitly set num_leaves OR 2^max_depth > num_leaves. (num_leaves=31).\n",
            "[LightGBM] [Warning] Accuracy may be bad since you didn't explicitly set num_leaves OR 2^max_depth > num_leaves. (num_leaves=31).\n",
            "[LightGBM] [Warning] Accuracy may be bad since you didn't explicitly set num_leaves OR 2^max_depth > num_leaves. (num_leaves=31).\n",
            "[LightGBM] [Info] Auto-choosing row-wise multi-threading, the overhead of testing was 0.009988 seconds.\n",
            "You can set `force_row_wise=true` to remove the overhead.\n",
            "And if memory is not enough, you can set `force_col_wise=true`.\n",
            "[LightGBM] [Info] Total Bins 2818\n",
            "[LightGBM] [Info] Number of data points in the train set: 234868, number of used features: 12\n",
            "[LightGBM] [Info] Start training from score 63655.122806\n",
            "[LightGBM] [Warning] Accuracy may be bad since you didn't explicitly set num_leaves OR 2^max_depth > num_leaves. (num_leaves=31).\n",
            "[LightGBM] [Warning] Accuracy may be bad since you didn't explicitly set num_leaves OR 2^max_depth > num_leaves. (num_leaves=31).\n",
            "[LightGBM] [Warning] Accuracy may be bad since you didn't explicitly set num_leaves OR 2^max_depth > num_leaves. (num_leaves=31).\n",
            "[LightGBM] [Info] Auto-choosing row-wise multi-threading, the overhead of testing was 0.009729 seconds.\n",
            "You can set `force_row_wise=true` to remove the overhead.\n",
            "And if memory is not enough, you can set `force_col_wise=true`.\n",
            "[LightGBM] [Info] Total Bins 2818\n",
            "[LightGBM] [Info] Number of data points in the train set: 234868, number of used features: 12\n",
            "[LightGBM] [Info] Start training from score 63655.162333\n",
            "[LightGBM] [Warning] Accuracy may be bad since you didn't explicitly set num_leaves OR 2^max_depth > num_leaves. (num_leaves=31).\n",
            "[LightGBM] [Warning] Accuracy may be bad since you didn't explicitly set num_leaves OR 2^max_depth > num_leaves. (num_leaves=31).\n",
            "[LightGBM] [Warning] Accuracy may be bad since you didn't explicitly set num_leaves OR 2^max_depth > num_leaves. (num_leaves=31).\n",
            "[LightGBM] [Info] Auto-choosing row-wise multi-threading, the overhead of testing was 0.009541 seconds.\n",
            "You can set `force_row_wise=true` to remove the overhead.\n",
            "And if memory is not enough, you can set `force_col_wise=true`.\n",
            "[LightGBM] [Info] Total Bins 2818\n",
            "[LightGBM] [Info] Number of data points in the train set: 234868, number of used features: 12\n",
            "[LightGBM] [Info] Start training from score 63655.200221\n",
            "[LightGBM] [Warning] Accuracy may be bad since you didn't explicitly set num_leaves OR 2^max_depth > num_leaves. (num_leaves=31).\n",
            "[LightGBM] [Warning] Accuracy may be bad since you didn't explicitly set num_leaves OR 2^max_depth > num_leaves. (num_leaves=31).\n",
            "[LightGBM] [Warning] Accuracy may be bad since you didn't explicitly set num_leaves OR 2^max_depth > num_leaves. (num_leaves=31).\n",
            "[LightGBM] [Info] Auto-choosing row-wise multi-threading, the overhead of testing was 0.009604 seconds.\n",
            "You can set `force_row_wise=true` to remove the overhead.\n",
            "And if memory is not enough, you can set `force_col_wise=true`.\n",
            "[LightGBM] [Info] Total Bins 2818\n",
            "[LightGBM] [Info] Number of data points in the train set: 234868, number of used features: 12\n",
            "[LightGBM] [Info] Start training from score 63655.239586\n",
            "[LightGBM] [Warning] Accuracy may be bad since you didn't explicitly set num_leaves OR 2^max_depth > num_leaves. (num_leaves=31).\n",
            "[LightGBM] [Warning] Accuracy may be bad since you didn't explicitly set num_leaves OR 2^max_depth > num_leaves. (num_leaves=31).\n",
            "[LightGBM] [Warning] Accuracy may be bad since you didn't explicitly set num_leaves OR 2^max_depth > num_leaves. (num_leaves=31).\n",
            "[LightGBM] [Info] Auto-choosing col-wise multi-threading, the overhead of testing was 0.048079 seconds.\n",
            "You can set `force_col_wise=true` to remove the overhead.\n",
            "[LightGBM] [Info] Total Bins 2818\n",
            "[LightGBM] [Info] Number of data points in the train set: 234868, number of used features: 12\n",
            "[LightGBM] [Info] Start training from score 63655.276419\n",
            "[LightGBM] [Warning] Accuracy may be bad since you didn't explicitly set num_leaves OR 2^max_depth > num_leaves. (num_leaves=31).\n",
            "[LightGBM] [Warning] Accuracy may be bad since you didn't explicitly set num_leaves OR 2^max_depth > num_leaves. (num_leaves=31).\n",
            "[LightGBM] [Warning] Accuracy may be bad since you didn't explicitly set num_leaves OR 2^max_depth > num_leaves. (num_leaves=31).\n",
            "[LightGBM] [Info] Auto-choosing row-wise multi-threading, the overhead of testing was 0.010571 seconds.\n",
            "You can set `force_row_wise=true` to remove the overhead.\n",
            "And if memory is not enough, you can set `force_col_wise=true`.\n",
            "[LightGBM] [Info] Total Bins 2818\n",
            "[LightGBM] [Info] Number of data points in the train set: 234868, number of used features: 12\n",
            "[LightGBM] [Info] Start training from score 63655.311195\n",
            "[LightGBM] [Warning] Accuracy may be bad since you didn't explicitly set num_leaves OR 2^max_depth > num_leaves. (num_leaves=31).\n",
            "[LightGBM] [Warning] Accuracy may be bad since you didn't explicitly set num_leaves OR 2^max_depth > num_leaves. (num_leaves=31).\n",
            "[LightGBM] [Warning] Accuracy may be bad since you didn't explicitly set num_leaves OR 2^max_depth > num_leaves. (num_leaves=31).\n",
            "[LightGBM] [Info] Auto-choosing row-wise multi-threading, the overhead of testing was 0.009868 seconds.\n",
            "You can set `force_row_wise=true` to remove the overhead.\n",
            "And if memory is not enough, you can set `force_col_wise=true`.\n",
            "[LightGBM] [Info] Total Bins 2818\n",
            "[LightGBM] [Info] Number of data points in the train set: 234868, number of used features: 12\n",
            "[LightGBM] [Info] Start training from score 63655.344178\n",
            "[LightGBM] [Warning] Accuracy may be bad since you didn't explicitly set num_leaves OR 2^max_depth > num_leaves. (num_leaves=31).\n",
            "[LightGBM] [Warning] Accuracy may be bad since you didn't explicitly set num_leaves OR 2^max_depth > num_leaves. (num_leaves=31).\n",
            "[LightGBM] [Warning] Accuracy may be bad since you didn't explicitly set num_leaves OR 2^max_depth > num_leaves. (num_leaves=31).\n",
            "[LightGBM] [Info] Auto-choosing row-wise multi-threading, the overhead of testing was 0.010003 seconds.\n",
            "You can set `force_row_wise=true` to remove the overhead.\n",
            "And if memory is not enough, you can set `force_col_wise=true`.\n",
            "[LightGBM] [Info] Total Bins 2818\n",
            "[LightGBM] [Info] Number of data points in the train set: 234868, number of used features: 12\n",
            "[LightGBM] [Info] Start training from score 63655.376593\n",
            "[LightGBM] [Warning] Accuracy may be bad since you didn't explicitly set num_leaves OR 2^max_depth > num_leaves. (num_leaves=31).\n",
            "[LightGBM] [Warning] Accuracy may be bad since you didn't explicitly set num_leaves OR 2^max_depth > num_leaves. (num_leaves=31).\n",
            "[LightGBM] [Warning] Accuracy may be bad since you didn't explicitly set num_leaves OR 2^max_depth > num_leaves. (num_leaves=31).\n",
            "[LightGBM] [Info] Auto-choosing row-wise multi-threading, the overhead of testing was 0.009683 seconds.\n",
            "You can set `force_row_wise=true` to remove the overhead.\n",
            "And if memory is not enough, you can set `force_col_wise=true`.\n",
            "[LightGBM] [Info] Total Bins 2818\n",
            "[LightGBM] [Info] Number of data points in the train set: 234868, number of used features: 12\n",
            "[LightGBM] [Info] Start training from score 63655.409948\n",
            "[LightGBM] [Warning] Accuracy may be bad since you didn't explicitly set num_leaves OR 2^max_depth > num_leaves. (num_leaves=31).\n",
            "[LightGBM] [Warning] Accuracy may be bad since you didn't explicitly set num_leaves OR 2^max_depth > num_leaves. (num_leaves=31).\n",
            "[LightGBM] [Warning] Accuracy may be bad since you didn't explicitly set num_leaves OR 2^max_depth > num_leaves. (num_leaves=31).\n",
            "[LightGBM] [Info] Auto-choosing row-wise multi-threading, the overhead of testing was 0.015672 seconds.\n",
            "You can set `force_row_wise=true` to remove the overhead.\n",
            "And if memory is not enough, you can set `force_col_wise=true`.\n",
            "[LightGBM] [Info] Total Bins 2818\n",
            "[LightGBM] [Info] Number of data points in the train set: 234868, number of used features: 12\n",
            "[LightGBM] [Info] Start training from score 63655.443103\n",
            "[LightGBM] [Warning] Accuracy may be bad since you didn't explicitly set num_leaves OR 2^max_depth > num_leaves. (num_leaves=31).\n",
            "[LightGBM] [Warning] Accuracy may be bad since you didn't explicitly set num_leaves OR 2^max_depth > num_leaves. (num_leaves=31).\n",
            "[LightGBM] [Warning] Accuracy may be bad since you didn't explicitly set num_leaves OR 2^max_depth > num_leaves. (num_leaves=31).\n",
            "[LightGBM] [Info] Auto-choosing row-wise multi-threading, the overhead of testing was 0.009552 seconds.\n",
            "You can set `force_row_wise=true` to remove the overhead.\n",
            "And if memory is not enough, you can set `force_col_wise=true`.\n",
            "[LightGBM] [Info] Total Bins 2818\n",
            "[LightGBM] [Info] Number of data points in the train set: 234868, number of used features: 12\n",
            "[LightGBM] [Info] Start training from score 63655.474988\n",
            "[LightGBM] [Warning] Accuracy may be bad since you didn't explicitly set num_leaves OR 2^max_depth > num_leaves. (num_leaves=31).\n",
            "[LightGBM] [Warning] Accuracy may be bad since you didn't explicitly set num_leaves OR 2^max_depth > num_leaves. (num_leaves=31).\n",
            "[LightGBM] [Warning] Accuracy may be bad since you didn't explicitly set num_leaves OR 2^max_depth > num_leaves. (num_leaves=31).\n",
            "[LightGBM] [Info] Auto-choosing row-wise multi-threading, the overhead of testing was 0.009768 seconds.\n",
            "You can set `force_row_wise=true` to remove the overhead.\n",
            "And if memory is not enough, you can set `force_col_wise=true`.\n",
            "[LightGBM] [Info] Total Bins 2818\n",
            "[LightGBM] [Info] Number of data points in the train set: 234868, number of used features: 12\n",
            "[LightGBM] [Info] Start training from score 63655.505095\n",
            "[LightGBM] [Warning] Accuracy may be bad since you didn't explicitly set num_leaves OR 2^max_depth > num_leaves. (num_leaves=31).\n",
            "[LightGBM] [Warning] Accuracy may be bad since you didn't explicitly set num_leaves OR 2^max_depth > num_leaves. (num_leaves=31).\n",
            "[LightGBM] [Warning] Accuracy may be bad since you didn't explicitly set num_leaves OR 2^max_depth > num_leaves. (num_leaves=31).\n",
            "[LightGBM] [Info] Auto-choosing row-wise multi-threading, the overhead of testing was 0.010978 seconds.\n",
            "You can set `force_row_wise=true` to remove the overhead.\n",
            "And if memory is not enough, you can set `force_col_wise=true`.\n",
            "[LightGBM] [Info] Total Bins 2818\n",
            "[LightGBM] [Info] Number of data points in the train set: 234868, number of used features: 12\n",
            "[LightGBM] [Info] Start training from score 63655.534935\n",
            "[LightGBM] [Warning] Accuracy may be bad since you didn't explicitly set num_leaves OR 2^max_depth > num_leaves. (num_leaves=31).\n",
            "[LightGBM] [Warning] Accuracy may be bad since you didn't explicitly set num_leaves OR 2^max_depth > num_leaves. (num_leaves=31).\n",
            "[LightGBM] [Warning] Accuracy may be bad since you didn't explicitly set num_leaves OR 2^max_depth > num_leaves. (num_leaves=31).\n",
            "[LightGBM] [Info] Auto-choosing row-wise multi-threading, the overhead of testing was 0.010061 seconds.\n",
            "You can set `force_row_wise=true` to remove the overhead.\n",
            "And if memory is not enough, you can set `force_col_wise=true`.\n",
            "[LightGBM] [Info] Total Bins 2818\n",
            "[LightGBM] [Info] Number of data points in the train set: 234868, number of used features: 12\n",
            "[LightGBM] [Info] Start training from score 63655.564917\n",
            "[LightGBM] [Warning] Accuracy may be bad since you didn't explicitly set num_leaves OR 2^max_depth > num_leaves. (num_leaves=31).\n",
            "[LightGBM] [Warning] Accuracy may be bad since you didn't explicitly set num_leaves OR 2^max_depth > num_leaves. (num_leaves=31).\n",
            "[LightGBM] [Warning] Accuracy may be bad since you didn't explicitly set num_leaves OR 2^max_depth > num_leaves. (num_leaves=31).\n",
            "[LightGBM] [Info] Auto-choosing row-wise multi-threading, the overhead of testing was 0.009777 seconds.\n",
            "You can set `force_row_wise=true` to remove the overhead.\n",
            "And if memory is not enough, you can set `force_col_wise=true`.\n",
            "[LightGBM] [Info] Total Bins 2818\n",
            "[LightGBM] [Info] Number of data points in the train set: 234868, number of used features: 12\n",
            "[LightGBM] [Info] Start training from score 63655.595878\n",
            "[LightGBM] [Warning] Accuracy may be bad since you didn't explicitly set num_leaves OR 2^max_depth > num_leaves. (num_leaves=31).\n",
            "[LightGBM] [Warning] Accuracy may be bad since you didn't explicitly set num_leaves OR 2^max_depth > num_leaves. (num_leaves=31).\n",
            "[LightGBM] [Warning] Accuracy may be bad since you didn't explicitly set num_leaves OR 2^max_depth > num_leaves. (num_leaves=31).\n",
            "[LightGBM] [Info] Auto-choosing col-wise multi-threading, the overhead of testing was 0.049898 seconds.\n",
            "You can set `force_col_wise=true` to remove the overhead.\n",
            "[LightGBM] [Info] Total Bins 2818\n",
            "[LightGBM] [Info] Number of data points in the train set: 234868, number of used features: 12\n",
            "[LightGBM] [Info] Start training from score 63655.626248\n",
            "[LightGBM] [Warning] Accuracy may be bad since you didn't explicitly set num_leaves OR 2^max_depth > num_leaves. (num_leaves=31).\n",
            "[LightGBM] [Warning] Accuracy may be bad since you didn't explicitly set num_leaves OR 2^max_depth > num_leaves. (num_leaves=31).\n",
            "[LightGBM] [Warning] Accuracy may be bad since you didn't explicitly set num_leaves OR 2^max_depth > num_leaves. (num_leaves=31).\n",
            "[LightGBM] [Info] Auto-choosing row-wise multi-threading, the overhead of testing was 0.009685 seconds.\n",
            "You can set `force_row_wise=true` to remove the overhead.\n",
            "And if memory is not enough, you can set `force_col_wise=true`.\n",
            "[LightGBM] [Info] Total Bins 2818\n",
            "[LightGBM] [Info] Number of data points in the train set: 234868, number of used features: 12\n",
            "[LightGBM] [Info] Start training from score 63655.655657\n",
            "[LightGBM] [Warning] Accuracy may be bad since you didn't explicitly set num_leaves OR 2^max_depth > num_leaves. (num_leaves=31).\n",
            "[LightGBM] [Warning] Accuracy may be bad since you didn't explicitly set num_leaves OR 2^max_depth > num_leaves. (num_leaves=31).\n",
            "[LightGBM] [Warning] Accuracy may be bad since you didn't explicitly set num_leaves OR 2^max_depth > num_leaves. (num_leaves=31).\n",
            "[LightGBM] [Info] Auto-choosing row-wise multi-threading, the overhead of testing was 0.016376 seconds.\n",
            "You can set `force_row_wise=true` to remove the overhead.\n",
            "And if memory is not enough, you can set `force_col_wise=true`.\n",
            "[LightGBM] [Info] Total Bins 2818\n",
            "[LightGBM] [Info] Number of data points in the train set: 234868, number of used features: 12\n",
            "[LightGBM] [Info] Start training from score 63655.684047\n",
            "[LightGBM] [Warning] Accuracy may be bad since you didn't explicitly set num_leaves OR 2^max_depth > num_leaves. (num_leaves=31).\n",
            "[LightGBM] [Warning] Accuracy may be bad since you didn't explicitly set num_leaves OR 2^max_depth > num_leaves. (num_leaves=31).\n",
            "[LightGBM] [Warning] Accuracy may be bad since you didn't explicitly set num_leaves OR 2^max_depth > num_leaves. (num_leaves=31).\n",
            "[LightGBM] [Info] Auto-choosing row-wise multi-threading, the overhead of testing was 0.009604 seconds.\n",
            "You can set `force_row_wise=true` to remove the overhead.\n",
            "And if memory is not enough, you can set `force_col_wise=true`.\n",
            "[LightGBM] [Info] Total Bins 2818\n",
            "[LightGBM] [Info] Number of data points in the train set: 234868, number of used features: 12\n",
            "[LightGBM] [Info] Start training from score 63655.713712\n",
            "[LightGBM] [Warning] Accuracy may be bad since you didn't explicitly set num_leaves OR 2^max_depth > num_leaves. (num_leaves=31).\n",
            "[LightGBM] [Warning] Accuracy may be bad since you didn't explicitly set num_leaves OR 2^max_depth > num_leaves. (num_leaves=31).\n",
            "[LightGBM] [Warning] Accuracy may be bad since you didn't explicitly set num_leaves OR 2^max_depth > num_leaves. (num_leaves=31).\n",
            "[LightGBM] [Info] Auto-choosing row-wise multi-threading, the overhead of testing was 0.009505 seconds.\n",
            "You can set `force_row_wise=true` to remove the overhead.\n",
            "And if memory is not enough, you can set `force_col_wise=true`.\n",
            "[LightGBM] [Info] Total Bins 2818\n",
            "[LightGBM] [Info] Number of data points in the train set: 234868, number of used features: 12\n",
            "[LightGBM] [Info] Start training from score 63655.741052\n",
            "[LightGBM] [Warning] Accuracy may be bad since you didn't explicitly set num_leaves OR 2^max_depth > num_leaves. (num_leaves=31).\n",
            "[LightGBM] [Warning] Accuracy may be bad since you didn't explicitly set num_leaves OR 2^max_depth > num_leaves. (num_leaves=31).\n",
            "[LightGBM] [Warning] Accuracy may be bad since you didn't explicitly set num_leaves OR 2^max_depth > num_leaves. (num_leaves=31).\n",
            "[LightGBM] [Info] Auto-choosing row-wise multi-threading, the overhead of testing was 0.018128 seconds.\n",
            "You can set `force_row_wise=true` to remove the overhead.\n",
            "And if memory is not enough, you can set `force_col_wise=true`.\n",
            "[LightGBM] [Info] Total Bins 2818\n",
            "[LightGBM] [Info] Number of data points in the train set: 234868, number of used features: 12\n",
            "[LightGBM] [Info] Start training from score 63655.768821\n",
            "[LightGBM] [Warning] Accuracy may be bad since you didn't explicitly set num_leaves OR 2^max_depth > num_leaves. (num_leaves=31).\n",
            "[LightGBM] [Warning] Accuracy may be bad since you didn't explicitly set num_leaves OR 2^max_depth > num_leaves. (num_leaves=31).\n",
            "[LightGBM] [Warning] Accuracy may be bad since you didn't explicitly set num_leaves OR 2^max_depth > num_leaves. (num_leaves=31).\n",
            "[LightGBM] [Info] Auto-choosing row-wise multi-threading, the overhead of testing was 0.016797 seconds.\n",
            "You can set `force_row_wise=true` to remove the overhead.\n",
            "And if memory is not enough, you can set `force_col_wise=true`.\n",
            "[LightGBM] [Info] Total Bins 2818\n",
            "[LightGBM] [Info] Number of data points in the train set: 234868, number of used features: 12\n",
            "[LightGBM] [Info] Start training from score 63655.795002\n",
            "[LightGBM] [Warning] Accuracy may be bad since you didn't explicitly set num_leaves OR 2^max_depth > num_leaves. (num_leaves=31).\n",
            "[LightGBM] [Warning] Accuracy may be bad since you didn't explicitly set num_leaves OR 2^max_depth > num_leaves. (num_leaves=31).\n",
            "[LightGBM] [Warning] Accuracy may be bad since you didn't explicitly set num_leaves OR 2^max_depth > num_leaves. (num_leaves=31).\n",
            "[LightGBM] [Info] Auto-choosing row-wise multi-threading, the overhead of testing was 0.010467 seconds.\n",
            "You can set `force_row_wise=true` to remove the overhead.\n",
            "And if memory is not enough, you can set `force_col_wise=true`.\n",
            "[LightGBM] [Info] Total Bins 2818\n",
            "[LightGBM] [Info] Number of data points in the train set: 234868, number of used features: 12\n",
            "[LightGBM] [Info] Start training from score 63655.819666\n",
            "[LightGBM] [Warning] Accuracy may be bad since you didn't explicitly set num_leaves OR 2^max_depth > num_leaves. (num_leaves=31).\n",
            "[LightGBM] [Warning] Accuracy may be bad since you didn't explicitly set num_leaves OR 2^max_depth > num_leaves. (num_leaves=31).\n",
            "[LightGBM] [Warning] Accuracy may be bad since you didn't explicitly set num_leaves OR 2^max_depth > num_leaves. (num_leaves=31).\n",
            "[LightGBM] [Info] Auto-choosing col-wise multi-threading, the overhead of testing was 0.032208 seconds.\n",
            "You can set `force_col_wise=true` to remove the overhead.\n",
            "[LightGBM] [Info] Total Bins 2818\n",
            "[LightGBM] [Info] Number of data points in the train set: 234868, number of used features: 12\n",
            "[LightGBM] [Info] Start training from score 63655.843009\n",
            "[LightGBM] [Warning] Accuracy may be bad since you didn't explicitly set num_leaves OR 2^max_depth > num_leaves. (num_leaves=31).\n",
            "[LightGBM] [Warning] Accuracy may be bad since you didn't explicitly set num_leaves OR 2^max_depth > num_leaves. (num_leaves=31).\n",
            "[LightGBM] [Warning] Accuracy may be bad since you didn't explicitly set num_leaves OR 2^max_depth > num_leaves. (num_leaves=31).\n",
            "[LightGBM] [Info] Auto-choosing row-wise multi-threading, the overhead of testing was 0.009748 seconds.\n",
            "You can set `force_row_wise=true` to remove the overhead.\n",
            "And if memory is not enough, you can set `force_col_wise=true`.\n",
            "[LightGBM] [Info] Total Bins 2818\n",
            "[LightGBM] [Info] Number of data points in the train set: 234868, number of used features: 12\n",
            "[LightGBM] [Info] Start training from score 63655.865752\n",
            "[LightGBM] [Warning] Accuracy may be bad since you didn't explicitly set num_leaves OR 2^max_depth > num_leaves. (num_leaves=31).\n",
            "[LightGBM] [Warning] Accuracy may be bad since you didn't explicitly set num_leaves OR 2^max_depth > num_leaves. (num_leaves=31).\n",
            "[LightGBM] [Warning] Accuracy may be bad since you didn't explicitly set num_leaves OR 2^max_depth > num_leaves. (num_leaves=31).\n",
            "[LightGBM] [Info] Auto-choosing row-wise multi-threading, the overhead of testing was 0.009725 seconds.\n",
            "You can set `force_row_wise=true` to remove the overhead.\n",
            "And if memory is not enough, you can set `force_col_wise=true`.\n",
            "[LightGBM] [Info] Total Bins 2818\n",
            "[LightGBM] [Info] Number of data points in the train set: 234868, number of used features: 12\n",
            "[LightGBM] [Info] Start training from score 63655.887873\n",
            "[LightGBM] [Warning] Accuracy may be bad since you didn't explicitly set num_leaves OR 2^max_depth > num_leaves. (num_leaves=31).\n",
            "[LightGBM] [Warning] Accuracy may be bad since you didn't explicitly set num_leaves OR 2^max_depth > num_leaves. (num_leaves=31).\n",
            "[LightGBM] [Warning] Accuracy may be bad since you didn't explicitly set num_leaves OR 2^max_depth > num_leaves. (num_leaves=31).\n",
            "[LightGBM] [Info] Auto-choosing col-wise multi-threading, the overhead of testing was 0.046456 seconds.\n",
            "You can set `force_col_wise=true` to remove the overhead.\n",
            "[LightGBM] [Info] Total Bins 2818\n",
            "[LightGBM] [Info] Number of data points in the train set: 234868, number of used features: 12\n",
            "[LightGBM] [Info] Start training from score 63655.910006\n",
            "[LightGBM] [Warning] Accuracy may be bad since you didn't explicitly set num_leaves OR 2^max_depth > num_leaves. (num_leaves=31).\n",
            "[LightGBM] [Warning] Accuracy may be bad since you didn't explicitly set num_leaves OR 2^max_depth > num_leaves. (num_leaves=31).\n",
            "[LightGBM] [Warning] Accuracy may be bad since you didn't explicitly set num_leaves OR 2^max_depth > num_leaves. (num_leaves=31).\n",
            "[LightGBM] [Info] Auto-choosing row-wise multi-threading, the overhead of testing was 0.009530 seconds.\n",
            "You can set `force_row_wise=true` to remove the overhead.\n",
            "And if memory is not enough, you can set `force_col_wise=true`.\n",
            "[LightGBM] [Info] Total Bins 2818\n",
            "[LightGBM] [Info] Number of data points in the train set: 234868, number of used features: 12\n",
            "[LightGBM] [Info] Start training from score 63655.931143\n",
            "[LightGBM] [Warning] Accuracy may be bad since you didn't explicitly set num_leaves OR 2^max_depth > num_leaves. (num_leaves=31).\n",
            "[LightGBM] [Warning] Accuracy may be bad since you didn't explicitly set num_leaves OR 2^max_depth > num_leaves. (num_leaves=31).\n",
            "[LightGBM] [Warning] Accuracy may be bad since you didn't explicitly set num_leaves OR 2^max_depth > num_leaves. (num_leaves=31).\n",
            "[LightGBM] [Info] Auto-choosing row-wise multi-threading, the overhead of testing was 0.009517 seconds.\n",
            "You can set `force_row_wise=true` to remove the overhead.\n",
            "And if memory is not enough, you can set `force_col_wise=true`.\n",
            "[LightGBM] [Info] Total Bins 2818\n",
            "[LightGBM] [Info] Number of data points in the train set: 234868, number of used features: 12\n",
            "[LightGBM] [Info] Start training from score 63655.952121\n",
            "[LightGBM] [Warning] Accuracy may be bad since you didn't explicitly set num_leaves OR 2^max_depth > num_leaves. (num_leaves=31).\n",
            "[LightGBM] [Warning] Accuracy may be bad since you didn't explicitly set num_leaves OR 2^max_depth > num_leaves. (num_leaves=31).\n",
            "[LightGBM] [Warning] Accuracy may be bad since you didn't explicitly set num_leaves OR 2^max_depth > num_leaves. (num_leaves=31).\n",
            "[LightGBM] [Info] Auto-choosing row-wise multi-threading, the overhead of testing was 0.011640 seconds.\n",
            "You can set `force_row_wise=true` to remove the overhead.\n",
            "And if memory is not enough, you can set `force_col_wise=true`.\n",
            "[LightGBM] [Info] Total Bins 2818\n",
            "[LightGBM] [Info] Number of data points in the train set: 234868, number of used features: 12\n",
            "[LightGBM] [Info] Start training from score 63655.975733\n",
            "[LightGBM] [Warning] Accuracy may be bad since you didn't explicitly set num_leaves OR 2^max_depth > num_leaves. (num_leaves=31).\n",
            "[LightGBM] [Warning] Accuracy may be bad since you didn't explicitly set num_leaves OR 2^max_depth > num_leaves. (num_leaves=31).\n",
            "[LightGBM] [Warning] Accuracy may be bad since you didn't explicitly set num_leaves OR 2^max_depth > num_leaves. (num_leaves=31).\n",
            "[LightGBM] [Info] Auto-choosing row-wise multi-threading, the overhead of testing was 0.009938 seconds.\n",
            "You can set `force_row_wise=true` to remove the overhead.\n",
            "And if memory is not enough, you can set `force_col_wise=true`.\n",
            "[LightGBM] [Info] Total Bins 2818\n",
            "[LightGBM] [Info] Number of data points in the train set: 234868, number of used features: 12\n",
            "[LightGBM] [Info] Start training from score 63655.997019\n",
            "[LightGBM] [Warning] Accuracy may be bad since you didn't explicitly set num_leaves OR 2^max_depth > num_leaves. (num_leaves=31).\n",
            "[LightGBM] [Warning] Accuracy may be bad since you didn't explicitly set num_leaves OR 2^max_depth > num_leaves. (num_leaves=31).\n",
            "[LightGBM] [Warning] Accuracy may be bad since you didn't explicitly set num_leaves OR 2^max_depth > num_leaves. (num_leaves=31).\n",
            "[LightGBM] [Info] Auto-choosing row-wise multi-threading, the overhead of testing was 0.015463 seconds.\n",
            "You can set `force_row_wise=true` to remove the overhead.\n",
            "And if memory is not enough, you can set `force_col_wise=true`.\n",
            "[LightGBM] [Info] Total Bins 2818\n",
            "[LightGBM] [Info] Number of data points in the train set: 234868, number of used features: 12\n",
            "[LightGBM] [Info] Start training from score 63656.017687\n",
            "[LightGBM] [Warning] Accuracy may be bad since you didn't explicitly set num_leaves OR 2^max_depth > num_leaves. (num_leaves=31).\n",
            "[LightGBM] [Warning] Accuracy may be bad since you didn't explicitly set num_leaves OR 2^max_depth > num_leaves. (num_leaves=31).\n",
            "[LightGBM] [Warning] Accuracy may be bad since you didn't explicitly set num_leaves OR 2^max_depth > num_leaves. (num_leaves=31).\n",
            "[LightGBM] [Info] Auto-choosing row-wise multi-threading, the overhead of testing was 0.017830 seconds.\n",
            "You can set `force_row_wise=true` to remove the overhead.\n",
            "And if memory is not enough, you can set `force_col_wise=true`.\n",
            "[LightGBM] [Info] Total Bins 2818\n",
            "[LightGBM] [Info] Number of data points in the train set: 234868, number of used features: 12\n",
            "[LightGBM] [Info] Start training from score 63656.038395\n",
            "[LightGBM] [Warning] Accuracy may be bad since you didn't explicitly set num_leaves OR 2^max_depth > num_leaves. (num_leaves=31).\n",
            "[LightGBM] [Warning] Accuracy may be bad since you didn't explicitly set num_leaves OR 2^max_depth > num_leaves. (num_leaves=31).\n",
            "[LightGBM] [Warning] Accuracy may be bad since you didn't explicitly set num_leaves OR 2^max_depth > num_leaves. (num_leaves=31).\n",
            "[LightGBM] [Info] Auto-choosing row-wise multi-threading, the overhead of testing was 0.010079 seconds.\n",
            "You can set `force_row_wise=true` to remove the overhead.\n",
            "And if memory is not enough, you can set `force_col_wise=true`.\n",
            "[LightGBM] [Info] Total Bins 2818\n",
            "[LightGBM] [Info] Number of data points in the train set: 234868, number of used features: 12\n",
            "[LightGBM] [Info] Start training from score 63656.055843\n",
            "[LightGBM] [Warning] Accuracy may be bad since you didn't explicitly set num_leaves OR 2^max_depth > num_leaves. (num_leaves=31).\n",
            "[LightGBM] [Warning] Accuracy may be bad since you didn't explicitly set num_leaves OR 2^max_depth > num_leaves. (num_leaves=31).\n",
            "[LightGBM] [Warning] Accuracy may be bad since you didn't explicitly set num_leaves OR 2^max_depth > num_leaves. (num_leaves=31).\n",
            "[LightGBM] [Info] Auto-choosing col-wise multi-threading, the overhead of testing was 0.219250 seconds.\n",
            "You can set `force_col_wise=true` to remove the overhead.\n",
            "[LightGBM] [Info] Total Bins 2818\n",
            "[LightGBM] [Info] Number of data points in the train set: 234868, number of used features: 12\n",
            "[LightGBM] [Info] Start training from score 63656.072211\n",
            "[LightGBM] [Warning] Accuracy may be bad since you didn't explicitly set num_leaves OR 2^max_depth > num_leaves. (num_leaves=31).\n",
            "[LightGBM] [Warning] Accuracy may be bad since you didn't explicitly set num_leaves OR 2^max_depth > num_leaves. (num_leaves=31).\n",
            "[LightGBM] [Warning] Accuracy may be bad since you didn't explicitly set num_leaves OR 2^max_depth > num_leaves. (num_leaves=31).\n",
            "[LightGBM] [Info] Auto-choosing row-wise multi-threading, the overhead of testing was 0.009739 seconds.\n",
            "You can set `force_row_wise=true` to remove the overhead.\n",
            "And if memory is not enough, you can set `force_col_wise=true`.\n",
            "[LightGBM] [Info] Total Bins 2818\n",
            "[LightGBM] [Info] Number of data points in the train set: 234868, number of used features: 12\n",
            "[LightGBM] [Info] Start training from score 63656.083228\n",
            "[LightGBM] [Warning] Accuracy may be bad since you didn't explicitly set num_leaves OR 2^max_depth > num_leaves. (num_leaves=31).\n",
            "[LightGBM] [Warning] Accuracy may be bad since you didn't explicitly set num_leaves OR 2^max_depth > num_leaves. (num_leaves=31).\n",
            "[LightGBM] [Warning] Accuracy may be bad since you didn't explicitly set num_leaves OR 2^max_depth > num_leaves. (num_leaves=31).\n",
            "[LightGBM] [Info] Auto-choosing row-wise multi-threading, the overhead of testing was 0.016244 seconds.\n",
            "You can set `force_row_wise=true` to remove the overhead.\n",
            "And if memory is not enough, you can set `force_col_wise=true`.\n",
            "[LightGBM] [Info] Total Bins 2818\n",
            "[LightGBM] [Info] Number of data points in the train set: 234868, number of used features: 12\n",
            "[LightGBM] [Info] Start training from score 63656.093729\n",
            "[LightGBM] [Warning] Accuracy may be bad since you didn't explicitly set num_leaves OR 2^max_depth > num_leaves. (num_leaves=31).\n",
            "[LightGBM] [Warning] Accuracy may be bad since you didn't explicitly set num_leaves OR 2^max_depth > num_leaves. (num_leaves=31).\n",
            "[LightGBM] [Warning] Accuracy may be bad since you didn't explicitly set num_leaves OR 2^max_depth > num_leaves. (num_leaves=31).\n",
            "[LightGBM] [Info] Auto-choosing row-wise multi-threading, the overhead of testing was 0.011946 seconds.\n",
            "You can set `force_row_wise=true` to remove the overhead.\n",
            "And if memory is not enough, you can set `force_col_wise=true`.\n",
            "[LightGBM] [Info] Total Bins 2818\n",
            "[LightGBM] [Info] Number of data points in the train set: 234868, number of used features: 12\n",
            "[LightGBM] [Info] Start training from score 63656.101720\n",
            "[LightGBM] [Warning] Accuracy may be bad since you didn't explicitly set num_leaves OR 2^max_depth > num_leaves. (num_leaves=31).\n",
            "[LightGBM] [Warning] Accuracy may be bad since you didn't explicitly set num_leaves OR 2^max_depth > num_leaves. (num_leaves=31).\n",
            "[LightGBM] [Warning] Accuracy may be bad since you didn't explicitly set num_leaves OR 2^max_depth > num_leaves. (num_leaves=31).\n",
            "[LightGBM] [Info] Auto-choosing row-wise multi-threading, the overhead of testing was 0.009705 seconds.\n",
            "You can set `force_row_wise=true` to remove the overhead.\n",
            "And if memory is not enough, you can set `force_col_wise=true`.\n",
            "[LightGBM] [Info] Total Bins 2818\n",
            "[LightGBM] [Info] Number of data points in the train set: 234868, number of used features: 12\n",
            "[LightGBM] [Info] Start training from score 63656.108537\n",
            "[LightGBM] [Warning] Accuracy may be bad since you didn't explicitly set num_leaves OR 2^max_depth > num_leaves. (num_leaves=31).\n",
            "[LightGBM] [Warning] Accuracy may be bad since you didn't explicitly set num_leaves OR 2^max_depth > num_leaves. (num_leaves=31).\n",
            "[LightGBM] [Warning] Accuracy may be bad since you didn't explicitly set num_leaves OR 2^max_depth > num_leaves. (num_leaves=31).\n",
            "[LightGBM] [Info] Auto-choosing row-wise multi-threading, the overhead of testing was 0.010764 seconds.\n",
            "You can set `force_row_wise=true` to remove the overhead.\n",
            "And if memory is not enough, you can set `force_col_wise=true`.\n",
            "[LightGBM] [Info] Total Bins 2818\n",
            "[LightGBM] [Info] Number of data points in the train set: 234868, number of used features: 12\n",
            "[LightGBM] [Info] Start training from score 63656.112175\n",
            "[LightGBM] [Warning] Accuracy may be bad since you didn't explicitly set num_leaves OR 2^max_depth > num_leaves. (num_leaves=31).\n",
            "[LightGBM] [Warning] Accuracy may be bad since you didn't explicitly set num_leaves OR 2^max_depth > num_leaves. (num_leaves=31).\n",
            "[LightGBM] [Warning] Accuracy may be bad since you didn't explicitly set num_leaves OR 2^max_depth > num_leaves. (num_leaves=31).\n",
            "[LightGBM] [Info] Auto-choosing row-wise multi-threading, the overhead of testing was 0.009954 seconds.\n",
            "You can set `force_row_wise=true` to remove the overhead.\n",
            "And if memory is not enough, you can set `force_col_wise=true`.\n",
            "[LightGBM] [Info] Total Bins 2818\n",
            "[LightGBM] [Info] Number of data points in the train set: 234868, number of used features: 12\n",
            "[LightGBM] [Info] Start training from score 63656.111211\n",
            "[LightGBM] [Warning] Accuracy may be bad since you didn't explicitly set num_leaves OR 2^max_depth > num_leaves. (num_leaves=31).\n",
            "[LightGBM] [Warning] Accuracy may be bad since you didn't explicitly set num_leaves OR 2^max_depth > num_leaves. (num_leaves=31).\n",
            "[LightGBM] [Warning] Accuracy may be bad since you didn't explicitly set num_leaves OR 2^max_depth > num_leaves. (num_leaves=31).\n",
            "[LightGBM] [Info] Auto-choosing row-wise multi-threading, the overhead of testing was 0.009721 seconds.\n",
            "You can set `force_row_wise=true` to remove the overhead.\n",
            "And if memory is not enough, you can set `force_col_wise=true`.\n",
            "[LightGBM] [Info] Total Bins 2818\n",
            "[LightGBM] [Info] Number of data points in the train set: 234868, number of used features: 12\n",
            "[LightGBM] [Info] Start training from score 63656.108382\n",
            "[LightGBM] [Warning] Accuracy may be bad since you didn't explicitly set num_leaves OR 2^max_depth > num_leaves. (num_leaves=31).\n",
            "[LightGBM] [Warning] Accuracy may be bad since you didn't explicitly set num_leaves OR 2^max_depth > num_leaves. (num_leaves=31).\n",
            "[LightGBM] [Warning] Accuracy may be bad since you didn't explicitly set num_leaves OR 2^max_depth > num_leaves. (num_leaves=31).\n",
            "[LightGBM] [Info] Auto-choosing col-wise multi-threading, the overhead of testing was 0.049206 seconds.\n",
            "You can set `force_col_wise=true` to remove the overhead.\n",
            "[LightGBM] [Info] Total Bins 2818\n",
            "[LightGBM] [Info] Number of data points in the train set: 234868, number of used features: 12\n",
            "[LightGBM] [Info] Start training from score 63656.103726\n",
            "[LightGBM] [Warning] Accuracy may be bad since you didn't explicitly set num_leaves OR 2^max_depth > num_leaves. (num_leaves=31).\n",
            "[LightGBM] [Warning] Accuracy may be bad since you didn't explicitly set num_leaves OR 2^max_depth > num_leaves. (num_leaves=31).\n",
            "[LightGBM] [Warning] Accuracy may be bad since you didn't explicitly set num_leaves OR 2^max_depth > num_leaves. (num_leaves=31).\n",
            "[LightGBM] [Info] Auto-choosing row-wise multi-threading, the overhead of testing was 0.009897 seconds.\n",
            "You can set `force_row_wise=true` to remove the overhead.\n",
            "And if memory is not enough, you can set `force_col_wise=true`.\n",
            "[LightGBM] [Info] Total Bins 2818\n",
            "[LightGBM] [Info] Number of data points in the train set: 234868, number of used features: 12\n",
            "[LightGBM] [Info] Start training from score 63656.095782\n",
            "[LightGBM] [Warning] Accuracy may be bad since you didn't explicitly set num_leaves OR 2^max_depth > num_leaves. (num_leaves=31).\n",
            "[LightGBM] [Warning] Accuracy may be bad since you didn't explicitly set num_leaves OR 2^max_depth > num_leaves. (num_leaves=31).\n",
            "[LightGBM] [Warning] Accuracy may be bad since you didn't explicitly set num_leaves OR 2^max_depth > num_leaves. (num_leaves=31).\n",
            "[LightGBM] [Info] Auto-choosing row-wise multi-threading, the overhead of testing was 0.009784 seconds.\n",
            "You can set `force_row_wise=true` to remove the overhead.\n",
            "And if memory is not enough, you can set `force_col_wise=true`.\n",
            "[LightGBM] [Info] Total Bins 2818\n",
            "[LightGBM] [Info] Number of data points in the train set: 234868, number of used features: 12\n",
            "[LightGBM] [Info] Start training from score 63656.086254\n",
            "[LightGBM] [Warning] Accuracy may be bad since you didn't explicitly set num_leaves OR 2^max_depth > num_leaves. (num_leaves=31).\n",
            "[LightGBM] [Warning] Accuracy may be bad since you didn't explicitly set num_leaves OR 2^max_depth > num_leaves. (num_leaves=31).\n",
            "[LightGBM] [Warning] Accuracy may be bad since you didn't explicitly set num_leaves OR 2^max_depth > num_leaves. (num_leaves=31).\n",
            "[LightGBM] [Info] Auto-choosing row-wise multi-threading, the overhead of testing was 0.010592 seconds.\n",
            "You can set `force_row_wise=true` to remove the overhead.\n",
            "And if memory is not enough, you can set `force_col_wise=true`.\n",
            "[LightGBM] [Info] Total Bins 2818\n",
            "[LightGBM] [Info] Number of data points in the train set: 234868, number of used features: 12\n",
            "[LightGBM] [Info] Start training from score 63656.072847\n",
            "[LightGBM] [Warning] Accuracy may be bad since you didn't explicitly set num_leaves OR 2^max_depth > num_leaves. (num_leaves=31).\n",
            "[LightGBM] [Warning] Accuracy may be bad since you didn't explicitly set num_leaves OR 2^max_depth > num_leaves. (num_leaves=31).\n",
            "[LightGBM] [Warning] Accuracy may be bad since you didn't explicitly set num_leaves OR 2^max_depth > num_leaves. (num_leaves=31).\n",
            "[LightGBM] [Info] Auto-choosing row-wise multi-threading, the overhead of testing was 0.009926 seconds.\n",
            "You can set `force_row_wise=true` to remove the overhead.\n",
            "And if memory is not enough, you can set `force_col_wise=true`.\n",
            "[LightGBM] [Info] Total Bins 2818\n",
            "[LightGBM] [Info] Number of data points in the train set: 234868, number of used features: 12\n",
            "[LightGBM] [Info] Start training from score 63656.056417\n",
            "[LightGBM] [Warning] Accuracy may be bad since you didn't explicitly set num_leaves OR 2^max_depth > num_leaves. (num_leaves=31).\n"
          ]
        }
      ]
    },
    {
      "cell_type": "code",
      "source": [
        "Y_lgb = np.array(pred).reshape(72,-1)\n",
        "pred_test = pd.DataFrame(np.transpose(Y_lgb))"
      ],
      "metadata": {
        "id": "1MJkyVnjMmkn"
      },
      "execution_count": null,
      "outputs": []
    },
    {
      "cell_type": "code",
      "source": [
        "# 분석대상기간(23.03.13-23.03.19)의 mape 결과\n",
        "from sklearn.metrics import mean_absolute_percentage_error\n",
        "mean_absolute_percentage_error(test_Y, pred_test) # 0.0916"
      ],
      "metadata": {
        "colab": {
          "base_uri": "https://localhost:8080/"
        },
        "outputId": "81900839-28ff-41b1-8f77-2b231d10be85",
        "id": "m70YfZm9L5FS"
      },
      "execution_count": null,
      "outputs": [
        {
          "output_type": "execute_result",
          "data": {
            "text/plain": [
              "0.09169184958402099"
            ]
          },
          "metadata": {},
          "execution_count": 136
        }
      ]
    },
    {
      "cell_type": "code",
      "source": [
        "pred_test.to_csv('/content/drive/MyDrive/2023 공공데이터 활용 공모전/predict.csv', index=False)"
      ],
      "metadata": {
        "id": "4SvnNfcS964O"
      },
      "execution_count": null,
      "outputs": []
    },
    {
      "cell_type": "markdown",
      "source": [
        "분석 대상 기간(23.03.13-23.03.19)의 mape 결과는 0.0916이다."
      ],
      "metadata": {
        "id": "8D-sc8ygjeJr"
      }
    }
  ],
  "metadata": {
    "colab": {
      "provenance": [],
      "toc_visible": true,
      "authorship_tag": "ABX9TyOYIneunCm4oIB0rYBz2k2n",
      "include_colab_link": true
    },
    "kernelspec": {
      "display_name": "Python 3",
      "name": "python3"
    },
    "language_info": {
      "name": "python"
    }
  },
  "nbformat": 4,
  "nbformat_minor": 0
}